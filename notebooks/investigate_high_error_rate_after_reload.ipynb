{
 "cells": [
  {
   "cell_type": "markdown",
   "id": "8e3858eb",
   "metadata": {},
   "source": [
    "## Investigate high error rate\n",
    "When we overfit a model with `sold_price_loss` close to 0, and save and reload the model, we observ a high prediction mean error rate. This notebook focuses on why this is the case."
   ]
  },
  {
   "cell_type": "markdown",
   "id": "0e516432",
   "metadata": {},
   "source": [
    "First lets do a toy example and verify this we can reproduce the problem:"
   ]
  },
  {
   "cell_type": "code",
   "execution_count": 1,
   "id": "19ab6b36",
   "metadata": {},
   "outputs": [
    {
     "name": "stdout",
     "output_type": "stream",
     "text": [
      "/Users/majid/git/housing is added to the sys path\n"
     ]
    }
   ],
   "source": [
    "import os\n",
    "import sys\n",
    "\n",
    "root_dir = f'{os.getcwd()}/../../'\n",
    "print(f'{os.path.abspath(root_dir)} is added to the sys path')\n",
    "sys.path.append(root_dir)"
   ]
  },
  {
   "cell_type": "code",
   "execution_count": 2,
   "id": "72fd48f6",
   "metadata": {},
   "outputs": [
    {
     "name": "stderr",
     "output_type": "stream",
     "text": [
      "2022-12-12 20:03:00.929895: I tensorflow/core/platform/cpu_feature_guard.cc:193] This TensorFlow binary is optimized with oneAPI Deep Neural Network Library (oneDNN) to use the following CPU instructions in performance-critical operations:  AVX2 FMA\n",
      "To enable them in other operations, rebuild TensorFlow with the appropriate compiler flags.\n"
     ]
    }
   ],
   "source": [
    "from datetime import datetime\n",
    "\n",
    "import optuna\n",
    "import json\n",
    "from pathlib import Path\n",
    "import shutil\n",
    "\n",
    "import numpy as np\n",
    "\n",
    "import tensorflow as tf\n",
    "import tensorflow_datasets as tfds\n",
    "from tempfile import NamedTemporaryFile"
   ]
  },
  {
   "cell_type": "code",
   "execution_count": 3,
   "id": "00851b5e",
   "metadata": {},
   "outputs": [],
   "source": [
    "from housing_model.modeling.naive_deep.model_trainer import KerasModelTrainer\n",
    "from housing_model.evaluations.keras_model_evaluator import eval_model_on_tfds\n",
    "from housing_model.modeling.naive_deep.model_trainer_test import get_overfit_loss, keras_models_are_almost_equal\n",
    "from housing_model.training.trainer import train_job, ExperimentSpec"
   ]
  },
  {
   "cell_type": "code",
   "execution_count": 4,
   "id": "ef3dcc81",
   "metadata": {},
   "outputs": [
    {
     "name": "stdout",
     "output_type": "stream",
     "text": [
      "/tmp/tmp_model\n"
     ]
    },
    {
     "name": "stderr",
     "output_type": "stream",
     "text": [
      "2022-12-12 20:03:05.713739: I tensorflow/core/platform/cpu_feature_guard.cc:193] This TensorFlow binary is optimized with oneAPI Deep Neural Network Library (oneDNN) to use the following CPU instructions in performance-critical operations:  AVX2 FMA\n",
      "To enable them in other operations, rebuild TensorFlow with the appropriate compiler flags.\n"
     ]
    }
   ],
   "source": [
    "train_ds = tfds.load(\"tf_housing\", split=\"201912\").take(4).cache()\n",
    "config_dir = f\"{root_dir}/housing_model\"\n",
    "experiment_config_file = f\"{config_dir}/experiment.json\"\n",
    "model_path = Path(\"/tmp/tmp_model\")\n",
    "\n",
    "print(model_path)"
   ]
  },
  {
   "cell_type": "code",
   "execution_count": 5,
   "id": "3508770b",
   "metadata": {},
   "outputs": [
    {
     "name": "stdout",
     "output_type": "stream",
     "text": [
      "WARNING:tensorflow:From /Users/majid/git/housing/venv/lib/python3.7/site-packages/tensorflow/python/autograph/pyct/static_analysis/liveness.py:83: Analyzer.lamba_check (from tensorflow.python.autograph.pyct.static_analysis.liveness) is deprecated and will be removed after 2023-09-23.\n",
      "Instructions for updating:\n",
      "Lambda fuctions will be no more assumed to be used in the statement where they are used, or at least in the same block. https://github.com/tensorflow/tensorflow/issues/56089\n"
     ]
    },
    {
     "name": "stderr",
     "output_type": "stream",
     "text": [
      "WARNING:tensorflow:From /Users/majid/git/housing/venv/lib/python3.7/site-packages/tensorflow/python/autograph/pyct/static_analysis/liveness.py:83: Analyzer.lamba_check (from tensorflow.python.autograph.pyct.static_analysis.liveness) is deprecated and will be removed after 2023-09-23.\n",
      "Instructions for updating:\n",
      "Lambda fuctions will be no more assumed to be used in the statement where they are used, or at least in the same block. https://github.com/tensorflow/tensorflow/issues/56089\n"
     ]
    },
    {
     "name": "stdout",
     "output_type": "stream",
     "text": [
      "Epoch 1/10000\n",
      "1/1 [==============================] - ETA: 0s - loss: 131.4525 - model_loss: 3.6257 - model_1_loss: 127.8267WARNING:tensorflow:Early stopping conditioned on metric `val_sold_price_loss` which is not available. Available metrics are: loss,model_loss,model_1_loss,val_loss,val_model_loss,val_model_1_loss\n"
     ]
    },
    {
     "name": "stderr",
     "output_type": "stream",
     "text": [
      "WARNING:tensorflow:Early stopping conditioned on metric `val_sold_price_loss` which is not available. Available metrics are: loss,model_loss,model_1_loss,val_loss,val_model_loss,val_model_1_loss\n"
     ]
    },
    {
     "name": "stdout",
     "output_type": "stream",
     "text": [
      "Weight `w_price` got updated to 0.0.\n",
      "Weight `w_bits` got updated to 1.0.\n",
      "1/1 [==============================] - 7s 7s/step - loss: 131.4525 - model_loss: 3.6257 - model_1_loss: 127.8267 - val_loss: 128.8357 - val_model_loss: 1.0090 - val_model_1_loss: 127.8267\n",
      "Epoch 2/10000\n",
      "1/1 [==============================] - ETA: 0s - loss: 128.8357 - model_loss: 1.0090 - model_1_loss: 127.8267WARNING:tensorflow:Early stopping conditioned on metric `val_sold_price_loss` which is not available. Available metrics are: loss,model_loss,model_1_loss,val_loss,val_model_loss,val_model_1_loss\n"
     ]
    },
    {
     "name": "stderr",
     "output_type": "stream",
     "text": [
      "WARNING:tensorflow:Early stopping conditioned on metric `val_sold_price_loss` which is not available. Available metrics are: loss,model_loss,model_1_loss,val_loss,val_model_loss,val_model_1_loss\n"
     ]
    },
    {
     "name": "stdout",
     "output_type": "stream",
     "text": [
      "Weight `w_price` got updated to 0.30000000000000004.\n",
      "Weight `w_bits` got updated to 0.7.\n",
      "1/1 [==============================] - 0s 80ms/step - loss: 128.8357 - model_loss: 1.0090 - model_1_loss: 127.8267 - val_loss: 5.0546 - val_model_loss: 0.5586 - val_model_1_loss: 4.4960\n",
      "Epoch 3/10000\n",
      "1/1 [==============================] - ETA: 0s - loss: 5.0546 - model_loss: 0.5586 - model_1_loss: 4.4960WARNING:tensorflow:Early stopping conditioned on metric `val_sold_price_loss` which is not available. Available metrics are: loss,model_loss,model_1_loss,val_loss,val_model_loss,val_model_1_loss\n"
     ]
    },
    {
     "name": "stderr",
     "output_type": "stream",
     "text": [
      "WARNING:tensorflow:Early stopping conditioned on metric `val_sold_price_loss` which is not available. Available metrics are: loss,model_loss,model_1_loss,val_loss,val_model_loss,val_model_1_loss\n"
     ]
    },
    {
     "name": "stdout",
     "output_type": "stream",
     "text": [
      "Weight `w_price` got updated to 0.51.\n",
      "Weight `w_bits` got updated to 0.48999999999999994.\n",
      "1/1 [==============================] - 0s 75ms/step - loss: 5.0546 - model_loss: 0.5586 - model_1_loss: 4.4960 - val_loss: 128.3382 - val_model_loss: 0.5115 - val_model_1_loss: 127.8267\n",
      "Epoch 4/10000\n",
      "1/1 [==============================] - ETA: 0s - loss: 128.3382 - model_loss: 0.5115 - model_1_loss: 127.8267WARNING:tensorflow:Early stopping conditioned on metric `val_sold_price_loss` which is not available. Available metrics are: loss,model_loss,model_1_loss,val_loss,val_model_loss,val_model_1_loss\n"
     ]
    },
    {
     "name": "stderr",
     "output_type": "stream",
     "text": [
      "WARNING:tensorflow:Early stopping conditioned on metric `val_sold_price_loss` which is not available. Available metrics are: loss,model_loss,model_1_loss,val_loss,val_model_loss,val_model_1_loss\n"
     ]
    },
    {
     "name": "stdout",
     "output_type": "stream",
     "text": [
      "Weight `w_price` got updated to 0.657.\n",
      "Weight `w_bits` got updated to 0.3429999999999999.\n",
      "1/1 [==============================] - 0s 80ms/step - loss: 128.3382 - model_loss: 0.5115 - model_1_loss: 127.8267 - val_loss: 128.4342 - val_model_loss: 0.6075 - val_model_1_loss: 127.8267\n",
      "Epoch 5/10000\n",
      "1/1 [==============================] - ETA: 0s - loss: 128.4342 - model_loss: 0.6075 - model_1_loss: 127.8267WARNING:tensorflow:Early stopping conditioned on metric `val_sold_price_loss` which is not available. Available metrics are: loss,model_loss,model_1_loss,val_loss,val_model_loss,val_model_1_loss\n"
     ]
    },
    {
     "name": "stderr",
     "output_type": "stream",
     "text": [
      "WARNING:tensorflow:Early stopping conditioned on metric `val_sold_price_loss` which is not available. Available metrics are: loss,model_loss,model_1_loss,val_loss,val_model_loss,val_model_1_loss\n"
     ]
    },
    {
     "name": "stdout",
     "output_type": "stream",
     "text": [
      "Weight `w_price` got updated to 0.7599.\n",
      "Weight `w_bits` got updated to 0.24009999999999995.\n",
      "1/1 [==============================] - 0s 88ms/step - loss: 128.4342 - model_loss: 0.6075 - model_1_loss: 127.8267 - val_loss: 128.3855 - val_model_loss: 0.5588 - val_model_1_loss: 127.8267\n",
      "Epoch 6/10000\n",
      "1/1 [==============================] - ETA: 0s - loss: 128.3855 - model_loss: 0.5588 - model_1_loss: 127.8267WARNING:tensorflow:Early stopping conditioned on metric `val_sold_price_loss` which is not available. Available metrics are: loss,model_loss,model_1_loss,val_loss,val_model_loss,val_model_1_loss\n"
     ]
    },
    {
     "name": "stderr",
     "output_type": "stream",
     "text": [
      "WARNING:tensorflow:Early stopping conditioned on metric `val_sold_price_loss` which is not available. Available metrics are: loss,model_loss,model_1_loss,val_loss,val_model_loss,val_model_1_loss\n"
     ]
    },
    {
     "name": "stdout",
     "output_type": "stream",
     "text": [
      "Weight `w_price` got updated to 0.8319300000000001.\n",
      "Weight `w_bits` got updated to 0.16806999999999994.\n",
      "1/1 [==============================] - 0s 72ms/step - loss: 128.3855 - model_loss: 0.5588 - model_1_loss: 127.8267 - val_loss: 128.4062 - val_model_loss: 0.5795 - val_model_1_loss: 127.8267\n",
      "Epoch 7/10000\n",
      "1/1 [==============================] - ETA: 0s - loss: 128.4062 - model_loss: 0.5795 - model_1_loss: 127.8267WARNING:tensorflow:Early stopping conditioned on metric `val_sold_price_loss` which is not available. Available metrics are: loss,model_loss,model_1_loss,val_loss,val_model_loss,val_model_1_loss\n"
     ]
    },
    {
     "name": "stderr",
     "output_type": "stream",
     "text": [
      "WARNING:tensorflow:Early stopping conditioned on metric `val_sold_price_loss` which is not available. Available metrics are: loss,model_loss,model_1_loss,val_loss,val_model_loss,val_model_1_loss\n"
     ]
    },
    {
     "name": "stdout",
     "output_type": "stream",
     "text": [
      "Weight `w_price` got updated to 0.882351.\n",
      "Weight `w_bits` got updated to 0.11764899999999996.\n",
      "1/1 [==============================] - 0s 68ms/step - loss: 128.4062 - model_loss: 0.5795 - model_1_loss: 127.8267 - val_loss: 128.1991 - val_model_loss: 0.3724 - val_model_1_loss: 127.8267\n",
      "Epoch 8/10000\n",
      "1/1 [==============================] - ETA: 0s - loss: 128.1991 - model_loss: 0.3724 - model_1_loss: 127.8267WARNING:tensorflow:Early stopping conditioned on metric `val_sold_price_loss` which is not available. Available metrics are: loss,model_loss,model_1_loss,val_loss,val_model_loss,val_model_1_loss\n"
     ]
    },
    {
     "name": "stderr",
     "output_type": "stream",
     "text": [
      "WARNING:tensorflow:Early stopping conditioned on metric `val_sold_price_loss` which is not available. Available metrics are: loss,model_loss,model_1_loss,val_loss,val_model_loss,val_model_1_loss\n"
     ]
    },
    {
     "name": "stdout",
     "output_type": "stream",
     "text": [
      "Weight `w_price` got updated to 0.9176457.\n",
      "Weight `w_bits` got updated to 0.08235429999999996.\n",
      "1/1 [==============================] - 0s 65ms/step - loss: 128.1991 - model_loss: 0.3724 - model_1_loss: 127.8267 - val_loss: 128.2265 - val_model_loss: 0.3998 - val_model_1_loss: 127.8267\n",
      "Epoch 9/10000\n",
      "1/1 [==============================] - ETA: 0s - loss: 128.2265 - model_loss: 0.3998 - model_1_loss: 127.8267WARNING:tensorflow:Early stopping conditioned on metric `val_sold_price_loss` which is not available. Available metrics are: loss,model_loss,model_1_loss,val_loss,val_model_loss,val_model_1_loss\n"
     ]
    },
    {
     "name": "stderr",
     "output_type": "stream",
     "text": [
      "WARNING:tensorflow:Early stopping conditioned on metric `val_sold_price_loss` which is not available. Available metrics are: loss,model_loss,model_1_loss,val_loss,val_model_loss,val_model_1_loss\n"
     ]
    },
    {
     "name": "stdout",
     "output_type": "stream",
     "text": [
      "Weight `w_price` got updated to 0.94235199.\n",
      "Weight `w_bits` got updated to 0.05764800999999997.\n",
      "1/1 [==============================] - 0s 67ms/step - loss: 128.2265 - model_loss: 0.3998 - model_1_loss: 127.8267 - val_loss: 128.1845 - val_model_loss: 0.3578 - val_model_1_loss: 127.8267\n",
      "Epoch 10/10000\n",
      "1/1 [==============================] - ETA: 0s - loss: 128.1845 - model_loss: 0.3578 - model_1_loss: 127.8267WARNING:tensorflow:Early stopping conditioned on metric `val_sold_price_loss` which is not available. Available metrics are: loss,model_loss,model_1_loss,val_loss,val_model_loss,val_model_1_loss\n"
     ]
    },
    {
     "name": "stderr",
     "output_type": "stream",
     "text": [
      "WARNING:tensorflow:Early stopping conditioned on metric `val_sold_price_loss` which is not available. Available metrics are: loss,model_loss,model_1_loss,val_loss,val_model_loss,val_model_1_loss\n"
     ]
    },
    {
     "name": "stdout",
     "output_type": "stream",
     "text": [
      "Weight `w_price` got updated to 0.959646393.\n",
      "Weight `w_bits` got updated to 0.04035360699999998.\n",
      "1/1 [==============================] - 0s 66ms/step - loss: 128.1845 - model_loss: 0.3578 - model_1_loss: 127.8267 - val_loss: 128.1499 - val_model_loss: 0.3232 - val_model_1_loss: 127.8267\n",
      "Epoch 11/10000\n",
      "1/1 [==============================] - ETA: 0s - loss: 128.1499 - model_loss: 0.3232 - model_1_loss: 127.8267WARNING:tensorflow:Early stopping conditioned on metric `val_sold_price_loss` which is not available. Available metrics are: loss,model_loss,model_1_loss,val_loss,val_model_loss,val_model_1_loss\n"
     ]
    },
    {
     "name": "stderr",
     "output_type": "stream",
     "text": [
      "WARNING:tensorflow:Early stopping conditioned on metric `val_sold_price_loss` which is not available. Available metrics are: loss,model_loss,model_1_loss,val_loss,val_model_loss,val_model_1_loss\n"
     ]
    },
    {
     "name": "stdout",
     "output_type": "stream",
     "text": [
      "Weight `w_price` got updated to 0.9717524751000001.\n",
      "Weight `w_bits` got updated to 0.02824752489999998.\n",
      "1/1 [==============================] - 0s 62ms/step - loss: 128.1499 - model_loss: 0.3232 - model_1_loss: 127.8267 - val_loss: 128.1649 - val_model_loss: 0.3382 - val_model_1_loss: 127.8267\n",
      "Epoch 12/10000\n",
      "1/1 [==============================] - ETA: 0s - loss: 128.1649 - model_loss: 0.3382 - model_1_loss: 127.8267WARNING:tensorflow:Early stopping conditioned on metric `val_sold_price_loss` which is not available. Available metrics are: loss,model_loss,model_1_loss,val_loss,val_model_loss,val_model_1_loss\n"
     ]
    },
    {
     "name": "stderr",
     "output_type": "stream",
     "text": [
      "WARNING:tensorflow:Early stopping conditioned on metric `val_sold_price_loss` which is not available. Available metrics are: loss,model_loss,model_1_loss,val_loss,val_model_loss,val_model_1_loss\n"
     ]
    },
    {
     "name": "stdout",
     "output_type": "stream",
     "text": [
      "Weight `w_price` got updated to 0.98022673257.\n",
      "Weight `w_bits` got updated to 0.019773267429999988.\n",
      "1/1 [==============================] - 0s 61ms/step - loss: 128.1649 - model_loss: 0.3382 - model_1_loss: 127.8267 - val_loss: 32.5640 - val_model_loss: 0.4144 - val_model_1_loss: 32.1496\n",
      "Epoch 13/10000\n",
      "1/1 [==============================] - ETA: 0s - loss: 32.5640 - model_loss: 0.4144 - model_1_loss: 32.1496WARNING:tensorflow:Early stopping conditioned on metric `val_sold_price_loss` which is not available. Available metrics are: loss,model_loss,model_1_loss,val_loss,val_model_loss,val_model_1_loss\n"
     ]
    },
    {
     "name": "stderr",
     "output_type": "stream",
     "text": [
      "WARNING:tensorflow:Early stopping conditioned on metric `val_sold_price_loss` which is not available. Available metrics are: loss,model_loss,model_1_loss,val_loss,val_model_loss,val_model_1_loss\n"
     ]
    },
    {
     "name": "stdout",
     "output_type": "stream",
     "text": [
      "Weight `w_price` got updated to 0.986158712799.\n",
      "Weight `w_bits` got updated to 0.01384128720099999.\n",
      "1/1 [==============================] - 0s 63ms/step - loss: 32.5640 - model_loss: 0.4144 - model_1_loss: 32.1496 - val_loss: 0.5251 - val_model_loss: 0.4143 - val_model_1_loss: 0.1109\n",
      "Epoch 14/10000\n",
      "1/1 [==============================] - ETA: 0s - loss: 0.5251 - model_loss: 0.4143 - model_1_loss: 0.1109WARNING:tensorflow:Early stopping conditioned on metric `val_sold_price_loss` which is not available. Available metrics are: loss,model_loss,model_1_loss,val_loss,val_model_loss,val_model_1_loss\n"
     ]
    },
    {
     "name": "stderr",
     "output_type": "stream",
     "text": [
      "WARNING:tensorflow:Early stopping conditioned on metric `val_sold_price_loss` which is not available. Available metrics are: loss,model_loss,model_1_loss,val_loss,val_model_loss,val_model_1_loss\n"
     ]
    },
    {
     "name": "stdout",
     "output_type": "stream",
     "text": [
      "Weight `w_price` got updated to 0.9903110989593.\n",
      "Weight `w_bits` got updated to 0.009688901040699992.\n",
      "1/1 [==============================] - 0s 61ms/step - loss: 0.5251 - model_loss: 0.4143 - model_1_loss: 0.1109 - val_loss: 0.6412 - val_model_loss: 0.5258 - val_model_1_loss: 0.1154\n",
      "Epoch 15/10000\n",
      "1/1 [==============================] - ETA: 0s - loss: 0.6412 - model_loss: 0.5258 - model_1_loss: 0.1154WARNING:tensorflow:Early stopping conditioned on metric `val_sold_price_loss` which is not available. Available metrics are: loss,model_loss,model_1_loss,val_loss,val_model_loss,val_model_1_loss\n"
     ]
    },
    {
     "name": "stderr",
     "output_type": "stream",
     "text": [
      "WARNING:tensorflow:Early stopping conditioned on metric `val_sold_price_loss` which is not available. Available metrics are: loss,model_loss,model_1_loss,val_loss,val_model_loss,val_model_1_loss\n"
     ]
    },
    {
     "name": "stdout",
     "output_type": "stream",
     "text": [
      "Weight `w_price` got updated to 0.99321776927151.\n",
      "Weight `w_bits` got updated to 0.006782230728489994.\n",
      "1/1 [==============================] - 0s 61ms/step - loss: 0.6412 - model_loss: 0.5258 - model_1_loss: 0.1154 - val_loss: 0.7421 - val_model_loss: 0.6346 - val_model_1_loss: 0.1075\n",
      "Epoch 16/10000\n",
      "1/1 [==============================] - ETA: 0s - loss: 0.7421 - model_loss: 0.6346 - model_1_loss: 0.1075WARNING:tensorflow:Early stopping conditioned on metric `val_sold_price_loss` which is not available. Available metrics are: loss,model_loss,model_1_loss,val_loss,val_model_loss,val_model_1_loss\n"
     ]
    },
    {
     "name": "stderr",
     "output_type": "stream",
     "text": [
      "WARNING:tensorflow:Early stopping conditioned on metric `val_sold_price_loss` which is not available. Available metrics are: loss,model_loss,model_1_loss,val_loss,val_model_loss,val_model_1_loss\n"
     ]
    },
    {
     "name": "stdout",
     "output_type": "stream",
     "text": [
      "Weight `w_price` got updated to 0.995252438490057.\n",
      "Weight `w_bits` got updated to 0.004747561509942996.\n",
      "1/1 [==============================] - 0s 62ms/step - loss: 0.7421 - model_loss: 0.6346 - model_1_loss: 0.1075 - val_loss: 0.8390 - val_model_loss: 0.7249 - val_model_1_loss: 0.1141\n",
      "Epoch 17/10000\n",
      "1/1 [==============================] - ETA: 0s - loss: 0.8390 - model_loss: 0.7249 - model_1_loss: 0.1141WARNING:tensorflow:Early stopping conditioned on metric `val_sold_price_loss` which is not available. Available metrics are: loss,model_loss,model_1_loss,val_loss,val_model_loss,val_model_1_loss\n"
     ]
    },
    {
     "name": "stderr",
     "output_type": "stream",
     "text": [
      "WARNING:tensorflow:Early stopping conditioned on metric `val_sold_price_loss` which is not available. Available metrics are: loss,model_loss,model_1_loss,val_loss,val_model_loss,val_model_1_loss\n"
     ]
    },
    {
     "name": "stdout",
     "output_type": "stream",
     "text": [
      "Weight `w_price` got updated to 0.9966767069430399.\n",
      "Weight `w_bits` got updated to 0.0033232930569600965.\n",
      "1/1 [==============================] - 0s 62ms/step - loss: 0.8390 - model_loss: 0.7249 - model_1_loss: 0.1141 - val_loss: 0.9780 - val_model_loss: 0.8013 - val_model_1_loss: 0.1767\n",
      "Epoch 18/10000\n",
      "1/1 [==============================] - ETA: 0s - loss: 0.9780 - model_loss: 0.8013 - model_1_loss: 0.1767WARNING:tensorflow:Early stopping conditioned on metric `val_sold_price_loss` which is not available. Available metrics are: loss,model_loss,model_1_loss,val_loss,val_model_loss,val_model_1_loss\n"
     ]
    },
    {
     "name": "stderr",
     "output_type": "stream",
     "text": [
      "WARNING:tensorflow:Early stopping conditioned on metric `val_sold_price_loss` which is not available. Available metrics are: loss,model_loss,model_1_loss,val_loss,val_model_loss,val_model_1_loss\n"
     ]
    },
    {
     "name": "stdout",
     "output_type": "stream",
     "text": [
      "Weight `w_price` got updated to 0.9976736948601279.\n",
      "Weight `w_bits` got updated to 0.0023263051398720674.\n",
      "1/1 [==============================] - 0s 65ms/step - loss: 0.9780 - model_loss: 0.8013 - model_1_loss: 0.1767 - val_loss: 0.8679 - val_model_loss: 0.7765 - val_model_1_loss: 0.0913\n",
      "Epoch 19/10000\n",
      "1/1 [==============================] - ETA: 0s - loss: 0.8679 - model_loss: 0.7765 - model_1_loss: 0.0913WARNING:tensorflow:Early stopping conditioned on metric `val_sold_price_loss` which is not available. Available metrics are: loss,model_loss,model_1_loss,val_loss,val_model_loss,val_model_1_loss\n"
     ]
    },
    {
     "name": "stderr",
     "output_type": "stream",
     "text": [
      "WARNING:tensorflow:Early stopping conditioned on metric `val_sold_price_loss` which is not available. Available metrics are: loss,model_loss,model_1_loss,val_loss,val_model_loss,val_model_1_loss\n"
     ]
    },
    {
     "name": "stdout",
     "output_type": "stream",
     "text": [
      "Weight `w_price` got updated to 0.9983715864020896.\n",
      "Weight `w_bits` got updated to 0.001628413597910447.\n",
      "1/1 [==============================] - 0s 64ms/step - loss: 0.8679 - model_loss: 0.7765 - model_1_loss: 0.0913 - val_loss: 0.9627 - val_model_loss: 0.8777 - val_model_1_loss: 0.0850\n",
      "Epoch 20/10000\n",
      "1/1 [==============================] - ETA: 0s - loss: 0.9627 - model_loss: 0.8777 - model_1_loss: 0.0850WARNING:tensorflow:Early stopping conditioned on metric `val_sold_price_loss` which is not available. Available metrics are: loss,model_loss,model_1_loss,val_loss,val_model_loss,val_model_1_loss\n"
     ]
    },
    {
     "name": "stderr",
     "output_type": "stream",
     "text": [
      "WARNING:tensorflow:Early stopping conditioned on metric `val_sold_price_loss` which is not available. Available metrics are: loss,model_loss,model_1_loss,val_loss,val_model_loss,val_model_1_loss\n"
     ]
    },
    {
     "name": "stdout",
     "output_type": "stream",
     "text": [
      "Weight `w_price` got updated to 0.9988601104814627.\n",
      "Weight `w_bits` got updated to 0.001139889518537313.\n",
      "1/1 [==============================] - 0s 66ms/step - loss: 0.9627 - model_loss: 0.8777 - model_1_loss: 0.0850 - val_loss: 0.9891 - val_model_loss: 0.8975 - val_model_1_loss: 0.0916\n",
      "Epoch 21/10000\n",
      "1/1 [==============================] - ETA: 0s - loss: 0.9891 - model_loss: 0.8975 - model_1_loss: 0.0916WARNING:tensorflow:Early stopping conditioned on metric `val_sold_price_loss` which is not available. Available metrics are: loss,model_loss,model_1_loss,val_loss,val_model_loss,val_model_1_loss\n"
     ]
    },
    {
     "name": "stderr",
     "output_type": "stream",
     "text": [
      "WARNING:tensorflow:Early stopping conditioned on metric `val_sold_price_loss` which is not available. Available metrics are: loss,model_loss,model_1_loss,val_loss,val_model_loss,val_model_1_loss\n"
     ]
    },
    {
     "name": "stdout",
     "output_type": "stream",
     "text": [
      "Weight `w_price` got updated to 0.9992020773370239.\n",
      "Weight `w_bits` got updated to 0.0007979226629761189.\n",
      "1/1 [==============================] - 0s 68ms/step - loss: 0.9891 - model_loss: 0.8975 - model_1_loss: 0.0916 - val_loss: 1.0335 - val_model_loss: 0.9401 - val_model_1_loss: 0.0935\n",
      "Epoch 22/10000\n",
      "1/1 [==============================] - ETA: 0s - loss: 1.0335 - model_loss: 0.9401 - model_1_loss: 0.0935WARNING:tensorflow:Early stopping conditioned on metric `val_sold_price_loss` which is not available. Available metrics are: loss,model_loss,model_1_loss,val_loss,val_model_loss,val_model_1_loss\n"
     ]
    },
    {
     "name": "stderr",
     "output_type": "stream",
     "text": [
      "WARNING:tensorflow:Early stopping conditioned on metric `val_sold_price_loss` which is not available. Available metrics are: loss,model_loss,model_1_loss,val_loss,val_model_loss,val_model_1_loss\n"
     ]
    },
    {
     "name": "stdout",
     "output_type": "stream",
     "text": [
      "Weight `w_price` got updated to 0.9994414541359167.\n",
      "Weight `w_bits` got updated to 0.0005585458640832833.\n",
      "1/1 [==============================] - 0s 66ms/step - loss: 1.0335 - model_loss: 0.9401 - model_1_loss: 0.0935 - val_loss: 1.0375 - val_model_loss: 0.9571 - val_model_1_loss: 0.0804\n",
      "Epoch 23/10000\n",
      "1/1 [==============================] - ETA: 0s - loss: 1.0375 - model_loss: 0.9571 - model_1_loss: 0.0804WARNING:tensorflow:Early stopping conditioned on metric `val_sold_price_loss` which is not available. Available metrics are: loss,model_loss,model_1_loss,val_loss,val_model_loss,val_model_1_loss\n"
     ]
    },
    {
     "name": "stderr",
     "output_type": "stream",
     "text": [
      "WARNING:tensorflow:Early stopping conditioned on metric `val_sold_price_loss` which is not available. Available metrics are: loss,model_loss,model_1_loss,val_loss,val_model_loss,val_model_1_loss\n"
     ]
    },
    {
     "name": "stdout",
     "output_type": "stream",
     "text": [
      "Weight `w_price` got updated to 0.9996090178951417.\n",
      "Weight `w_bits` got updated to 0.00039098210485829826.\n",
      "1/1 [==============================] - 0s 62ms/step - loss: 1.0375 - model_loss: 0.9571 - model_1_loss: 0.0804 - val_loss: 1.0415 - val_model_loss: 0.9381 - val_model_1_loss: 0.1034\n",
      "Epoch 24/10000\n",
      "1/1 [==============================] - ETA: 0s - loss: 1.0415 - model_loss: 0.9381 - model_1_loss: 0.1034WARNING:tensorflow:Early stopping conditioned on metric `val_sold_price_loss` which is not available. Available metrics are: loss,model_loss,model_1_loss,val_loss,val_model_loss,val_model_1_loss\n"
     ]
    },
    {
     "name": "stderr",
     "output_type": "stream",
     "text": [
      "WARNING:tensorflow:Early stopping conditioned on metric `val_sold_price_loss` which is not available. Available metrics are: loss,model_loss,model_1_loss,val_loss,val_model_loss,val_model_1_loss\n"
     ]
    },
    {
     "name": "stdout",
     "output_type": "stream",
     "text": [
      "Weight `w_price` got updated to 0.9997263125265992.\n",
      "Weight `w_bits` got updated to 0.0002736874734008088.\n",
      "1/1 [==============================] - 0s 63ms/step - loss: 1.0415 - model_loss: 0.9381 - model_1_loss: 0.1034 - val_loss: 1.0002 - val_model_loss: 0.9362 - val_model_1_loss: 0.0640\n",
      "Epoch 25/10000\n",
      "1/1 [==============================] - ETA: 0s - loss: 1.0002 - model_loss: 0.9362 - model_1_loss: 0.0640WARNING:tensorflow:Early stopping conditioned on metric `val_sold_price_loss` which is not available. Available metrics are: loss,model_loss,model_1_loss,val_loss,val_model_loss,val_model_1_loss\n"
     ]
    },
    {
     "name": "stderr",
     "output_type": "stream",
     "text": [
      "WARNING:tensorflow:Early stopping conditioned on metric `val_sold_price_loss` which is not available. Available metrics are: loss,model_loss,model_1_loss,val_loss,val_model_loss,val_model_1_loss\n"
     ]
    },
    {
     "name": "stdout",
     "output_type": "stream",
     "text": [
      "Weight `w_price` got updated to 0.9998084187686195.\n",
      "Weight `w_bits` got updated to 0.00019158123138056612.\n",
      "1/1 [==============================] - 0s 65ms/step - loss: 1.0002 - model_loss: 0.9362 - model_1_loss: 0.0640 - val_loss: 1.1124 - val_model_loss: 1.0041 - val_model_1_loss: 0.1084\n",
      "Epoch 26/10000\n",
      "1/1 [==============================] - ETA: 0s - loss: 1.1124 - model_loss: 1.0041 - model_1_loss: 0.1084WARNING:tensorflow:Early stopping conditioned on metric `val_sold_price_loss` which is not available. Available metrics are: loss,model_loss,model_1_loss,val_loss,val_model_loss,val_model_1_loss\n"
     ]
    },
    {
     "name": "stderr",
     "output_type": "stream",
     "text": [
      "WARNING:tensorflow:Early stopping conditioned on metric `val_sold_price_loss` which is not available. Available metrics are: loss,model_loss,model_1_loss,val_loss,val_model_loss,val_model_1_loss\n"
     ]
    },
    {
     "name": "stdout",
     "output_type": "stream",
     "text": [
      "Weight `w_price` got updated to 0.9998658931380336.\n",
      "Weight `w_bits` got updated to 0.00013410686196639628.\n",
      "1/1 [==============================] - 0s 61ms/step - loss: 1.1124 - model_loss: 1.0041 - model_1_loss: 0.1084 - val_loss: 1.0411 - val_model_loss: 0.9555 - val_model_1_loss: 0.0856\n",
      "Epoch 27/10000\n",
      "1/1 [==============================] - ETA: 0s - loss: 1.0411 - model_loss: 0.9555 - model_1_loss: 0.0856WARNING:tensorflow:Early stopping conditioned on metric `val_sold_price_loss` which is not available. Available metrics are: loss,model_loss,model_1_loss,val_loss,val_model_loss,val_model_1_loss\n"
     ]
    },
    {
     "name": "stderr",
     "output_type": "stream",
     "text": [
      "WARNING:tensorflow:Early stopping conditioned on metric `val_sold_price_loss` which is not available. Available metrics are: loss,model_loss,model_1_loss,val_loss,val_model_loss,val_model_1_loss\n"
     ]
    },
    {
     "name": "stdout",
     "output_type": "stream",
     "text": [
      "Weight `w_price` got updated to 0.9999061251966235.\n",
      "Weight `w_bits` got updated to 9.387480337647739e-05.\n",
      "1/1 [==============================] - 0s 64ms/step - loss: 1.0411 - model_loss: 0.9555 - model_1_loss: 0.0856 - val_loss: 0.9878 - val_model_loss: 0.8929 - val_model_1_loss: 0.0949\n",
      "Epoch 28/10000\n",
      "1/1 [==============================] - ETA: 0s - loss: 0.9878 - model_loss: 0.8929 - model_1_loss: 0.0949WARNING:tensorflow:Early stopping conditioned on metric `val_sold_price_loss` which is not available. Available metrics are: loss,model_loss,model_1_loss,val_loss,val_model_loss,val_model_1_loss\n"
     ]
    },
    {
     "name": "stderr",
     "output_type": "stream",
     "text": [
      "WARNING:tensorflow:Early stopping conditioned on metric `val_sold_price_loss` which is not available. Available metrics are: loss,model_loss,model_1_loss,val_loss,val_model_loss,val_model_1_loss\n"
     ]
    },
    {
     "name": "stdout",
     "output_type": "stream",
     "text": [
      "Weight `w_price` got updated to 0.9999342876376365.\n",
      "Weight `w_bits` got updated to 6.571236236353417e-05.\n",
      "1/1 [==============================] - 0s 66ms/step - loss: 0.9878 - model_loss: 0.8929 - model_1_loss: 0.0949 - val_loss: 0.9653 - val_model_loss: 0.8682 - val_model_1_loss: 0.0971\n",
      "Epoch 29/10000\n",
      "1/1 [==============================] - ETA: 0s - loss: 0.9653 - model_loss: 0.8682 - model_1_loss: 0.0971WARNING:tensorflow:Early stopping conditioned on metric `val_sold_price_loss` which is not available. Available metrics are: loss,model_loss,model_1_loss,val_loss,val_model_loss,val_model_1_loss\n"
     ]
    },
    {
     "name": "stderr",
     "output_type": "stream",
     "text": [
      "WARNING:tensorflow:Early stopping conditioned on metric `val_sold_price_loss` which is not available. Available metrics are: loss,model_loss,model_1_loss,val_loss,val_model_loss,val_model_1_loss\n"
     ]
    },
    {
     "name": "stdout",
     "output_type": "stream",
     "text": [
      "Weight `w_price` got updated to 0.9999540013463455.\n",
      "Weight `w_bits` got updated to 4.5998653654473914e-05.\n",
      "1/1 [==============================] - 0s 66ms/step - loss: 0.9653 - model_loss: 0.8682 - model_1_loss: 0.0971 - val_loss: 0.8845 - val_model_loss: 0.7951 - val_model_1_loss: 0.0894\n",
      "Epoch 30/10000\n",
      "1/1 [==============================] - ETA: 0s - loss: 0.8845 - model_loss: 0.7951 - model_1_loss: 0.0894WARNING:tensorflow:Early stopping conditioned on metric `val_sold_price_loss` which is not available. Available metrics are: loss,model_loss,model_1_loss,val_loss,val_model_loss,val_model_1_loss\n"
     ]
    },
    {
     "name": "stderr",
     "output_type": "stream",
     "text": [
      "WARNING:tensorflow:Early stopping conditioned on metric `val_sold_price_loss` which is not available. Available metrics are: loss,model_loss,model_1_loss,val_loss,val_model_loss,val_model_1_loss\n"
     ]
    },
    {
     "name": "stdout",
     "output_type": "stream",
     "text": [
      "Weight `w_price` got updated to 0.9999678009424419.\n",
      "Weight `w_bits` got updated to 3.219905755813174e-05.\n",
      "1/1 [==============================] - 0s 65ms/step - loss: 0.8845 - model_loss: 0.7951 - model_1_loss: 0.0894 - val_loss: 0.8697 - val_model_loss: 0.7487 - val_model_1_loss: 0.1210\n",
      "Epoch 31/10000\n",
      "1/1 [==============================] - ETA: 0s - loss: 0.8697 - model_loss: 0.7487 - model_1_loss: 0.1210WARNING:tensorflow:Early stopping conditioned on metric `val_sold_price_loss` which is not available. Available metrics are: loss,model_loss,model_1_loss,val_loss,val_model_loss,val_model_1_loss\n"
     ]
    },
    {
     "name": "stderr",
     "output_type": "stream",
     "text": [
      "WARNING:tensorflow:Early stopping conditioned on metric `val_sold_price_loss` which is not available. Available metrics are: loss,model_loss,model_1_loss,val_loss,val_model_loss,val_model_1_loss\n"
     ]
    },
    {
     "name": "stdout",
     "output_type": "stream",
     "text": [
      "Weight `w_price` got updated to 0.9999774606597093.\n",
      "Weight `w_bits` got updated to 2.2539340290692216e-05.\n",
      "1/1 [==============================] - 0s 62ms/step - loss: 0.8697 - model_loss: 0.7487 - model_1_loss: 0.1210 - val_loss: 0.9307 - val_model_loss: 0.8346 - val_model_1_loss: 0.0961\n",
      "Epoch 32/10000\n",
      "1/1 [==============================] - ETA: 0s - loss: 0.9307 - model_loss: 0.8346 - model_1_loss: 0.0961WARNING:tensorflow:Early stopping conditioned on metric `val_sold_price_loss` which is not available. Available metrics are: loss,model_loss,model_1_loss,val_loss,val_model_loss,val_model_1_loss\n"
     ]
    },
    {
     "name": "stderr",
     "output_type": "stream",
     "text": [
      "WARNING:tensorflow:Early stopping conditioned on metric `val_sold_price_loss` which is not available. Available metrics are: loss,model_loss,model_1_loss,val_loss,val_model_loss,val_model_1_loss\n"
     ]
    },
    {
     "name": "stdout",
     "output_type": "stream",
     "text": [
      "Weight `w_price` got updated to 0.9999842224617965.\n",
      "Weight `w_bits` got updated to 1.577753820348455e-05.\n",
      "1/1 [==============================] - 0s 62ms/step - loss: 0.9307 - model_loss: 0.8346 - model_1_loss: 0.0961 - val_loss: 0.8194 - val_model_loss: 0.7347 - val_model_1_loss: 0.0846\n",
      "Epoch 33/10000\n",
      "1/1 [==============================] - ETA: 0s - loss: 0.8194 - model_loss: 0.7347 - model_1_loss: 0.0846WARNING:tensorflow:Early stopping conditioned on metric `val_sold_price_loss` which is not available. Available metrics are: loss,model_loss,model_1_loss,val_loss,val_model_loss,val_model_1_loss\n"
     ]
    },
    {
     "name": "stderr",
     "output_type": "stream",
     "text": [
      "WARNING:tensorflow:Early stopping conditioned on metric `val_sold_price_loss` which is not available. Available metrics are: loss,model_loss,model_1_loss,val_loss,val_model_loss,val_model_1_loss\n"
     ]
    },
    {
     "name": "stdout",
     "output_type": "stream",
     "text": [
      "Weight `w_price` got updated to 0.9999889557232575.\n",
      "Weight `w_bits` got updated to 1.1044276742439184e-05.\n",
      "1/1 [==============================] - 0s 64ms/step - loss: 0.8194 - model_loss: 0.7347 - model_1_loss: 0.0846 - val_loss: 0.7797 - val_model_loss: 0.7165 - val_model_1_loss: 0.0633\n",
      "Epoch 34/10000\n",
      "1/1 [==============================] - ETA: 0s - loss: 0.7797 - model_loss: 0.7165 - model_1_loss: 0.0633WARNING:tensorflow:Early stopping conditioned on metric `val_sold_price_loss` which is not available. Available metrics are: loss,model_loss,model_1_loss,val_loss,val_model_loss,val_model_1_loss\n"
     ]
    },
    {
     "name": "stderr",
     "output_type": "stream",
     "text": [
      "WARNING:tensorflow:Early stopping conditioned on metric `val_sold_price_loss` which is not available. Available metrics are: loss,model_loss,model_1_loss,val_loss,val_model_loss,val_model_1_loss\n"
     ]
    },
    {
     "name": "stdout",
     "output_type": "stream",
     "text": [
      "Weight `w_price` got updated to 0.9999922690062802.\n",
      "Weight `w_bits` got updated to 7.73099371970743e-06.\n",
      "1/1 [==============================] - 0s 64ms/step - loss: 0.7797 - model_loss: 0.7165 - model_1_loss: 0.0633 - val_loss: 0.7510 - val_model_loss: 0.6779 - val_model_1_loss: 0.0730\n",
      "Epoch 35/10000\n",
      "1/1 [==============================] - ETA: 0s - loss: 0.7510 - model_loss: 0.6779 - model_1_loss: 0.0730WARNING:tensorflow:Early stopping conditioned on metric `val_sold_price_loss` which is not available. Available metrics are: loss,model_loss,model_1_loss,val_loss,val_model_loss,val_model_1_loss\n"
     ]
    },
    {
     "name": "stderr",
     "output_type": "stream",
     "text": [
      "WARNING:tensorflow:Early stopping conditioned on metric `val_sold_price_loss` which is not available. Available metrics are: loss,model_loss,model_1_loss,val_loss,val_model_loss,val_model_1_loss\n"
     ]
    },
    {
     "name": "stdout",
     "output_type": "stream",
     "text": [
      "Weight `w_price` got updated to 0.9999945883043962.\n",
      "Weight `w_bits` got updated to 5.411695603795199e-06.\n",
      "1/1 [==============================] - 0s 62ms/step - loss: 0.7510 - model_loss: 0.6779 - model_1_loss: 0.0730 - val_loss: 0.6466 - val_model_loss: 0.5787 - val_model_1_loss: 0.0679\n",
      "Epoch 36/10000\n",
      "1/1 [==============================] - ETA: 0s - loss: 0.6466 - model_loss: 0.5787 - model_1_loss: 0.0679WARNING:tensorflow:Early stopping conditioned on metric `val_sold_price_loss` which is not available. Available metrics are: loss,model_loss,model_1_loss,val_loss,val_model_loss,val_model_1_loss\n"
     ]
    },
    {
     "name": "stderr",
     "output_type": "stream",
     "text": [
      "WARNING:tensorflow:Early stopping conditioned on metric `val_sold_price_loss` which is not available. Available metrics are: loss,model_loss,model_1_loss,val_loss,val_model_loss,val_model_1_loss\n"
     ]
    },
    {
     "name": "stdout",
     "output_type": "stream",
     "text": [
      "Weight `w_price` got updated to 0.9999962118130773.\n",
      "Weight `w_bits` got updated to 3.788186922656639e-06.\n",
      "1/1 [==============================] - 0s 63ms/step - loss: 0.6466 - model_loss: 0.5787 - model_1_loss: 0.0679 - val_loss: 0.5399 - val_model_loss: 0.5162 - val_model_1_loss: 0.0237\n",
      "Epoch 37/10000\n",
      "1/1 [==============================] - ETA: 0s - loss: 0.5399 - model_loss: 0.5162 - model_1_loss: 0.0237WARNING:tensorflow:Early stopping conditioned on metric `val_sold_price_loss` which is not available. Available metrics are: loss,model_loss,model_1_loss,val_loss,val_model_loss,val_model_1_loss\n"
     ]
    },
    {
     "name": "stderr",
     "output_type": "stream",
     "text": [
      "WARNING:tensorflow:Early stopping conditioned on metric `val_sold_price_loss` which is not available. Available metrics are: loss,model_loss,model_1_loss,val_loss,val_model_loss,val_model_1_loss\n"
     ]
    },
    {
     "name": "stdout",
     "output_type": "stream",
     "text": [
      "Weight `w_price` got updated to 0.9999973482691541.\n",
      "Weight `w_bits` got updated to 2.6517308458596473e-06.\n",
      "1/1 [==============================] - 0s 65ms/step - loss: 0.5399 - model_loss: 0.5162 - model_1_loss: 0.0237 - val_loss: 0.5370 - val_model_loss: 0.5027 - val_model_1_loss: 0.0343\n",
      "Epoch 38/10000\n",
      "1/1 [==============================] - ETA: 0s - loss: 0.5370 - model_loss: 0.5027 - model_1_loss: 0.0343WARNING:tensorflow:Early stopping conditioned on metric `val_sold_price_loss` which is not available. Available metrics are: loss,model_loss,model_1_loss,val_loss,val_model_loss,val_model_1_loss\n"
     ]
    },
    {
     "name": "stderr",
     "output_type": "stream",
     "text": [
      "WARNING:tensorflow:Early stopping conditioned on metric `val_sold_price_loss` which is not available. Available metrics are: loss,model_loss,model_1_loss,val_loss,val_model_loss,val_model_1_loss\n"
     ]
    },
    {
     "name": "stdout",
     "output_type": "stream",
     "text": [
      "Weight `w_price` got updated to 0.9999981437884079.\n",
      "Weight `w_bits` got updated to 1.856211592101753e-06.\n",
      "1/1 [==============================] - 0s 64ms/step - loss: 0.5370 - model_loss: 0.5027 - model_1_loss: 0.0343 - val_loss: 0.5185 - val_model_loss: 0.4872 - val_model_1_loss: 0.0313\n",
      "Epoch 39/10000\n",
      "1/1 [==============================] - ETA: 0s - loss: 0.5185 - model_loss: 0.4872 - model_1_loss: 0.0313WARNING:tensorflow:Early stopping conditioned on metric `val_sold_price_loss` which is not available. Available metrics are: loss,model_loss,model_1_loss,val_loss,val_model_loss,val_model_1_loss\n"
     ]
    },
    {
     "name": "stderr",
     "output_type": "stream",
     "text": [
      "WARNING:tensorflow:Early stopping conditioned on metric `val_sold_price_loss` which is not available. Available metrics are: loss,model_loss,model_1_loss,val_loss,val_model_loss,val_model_1_loss\n"
     ]
    },
    {
     "name": "stdout",
     "output_type": "stream",
     "text": [
      "Weight `w_price` got updated to 0.9999987006518856.\n",
      "Weight `w_bits` got updated to 1.2993481144712271e-06.\n",
      "1/1 [==============================] - 0s 64ms/step - loss: 0.5185 - model_loss: 0.4872 - model_1_loss: 0.0313 - val_loss: 0.5422 - val_model_loss: 0.4371 - val_model_1_loss: 0.1051\n",
      "Epoch 40/10000\n",
      "1/1 [==============================] - ETA: 0s - loss: 0.5422 - model_loss: 0.4371 - model_1_loss: 0.1051WARNING:tensorflow:Early stopping conditioned on metric `val_sold_price_loss` which is not available. Available metrics are: loss,model_loss,model_1_loss,val_loss,val_model_loss,val_model_1_loss\n"
     ]
    },
    {
     "name": "stderr",
     "output_type": "stream",
     "text": [
      "WARNING:tensorflow:Early stopping conditioned on metric `val_sold_price_loss` which is not available. Available metrics are: loss,model_loss,model_1_loss,val_loss,val_model_loss,val_model_1_loss\n"
     ]
    },
    {
     "name": "stdout",
     "output_type": "stream",
     "text": [
      "Weight `w_price` got updated to 0.9999990904563199.\n",
      "Weight `w_bits` got updated to 9.095436801298589e-07.\n",
      "1/1 [==============================] - 0s 67ms/step - loss: 0.5422 - model_loss: 0.4371 - model_1_loss: 0.1051 - val_loss: 0.5073 - val_model_loss: 0.4349 - val_model_1_loss: 0.0724\n",
      "Epoch 41/10000\n",
      "1/1 [==============================] - ETA: 0s - loss: 0.5073 - model_loss: 0.4349 - model_1_loss: 0.0724WARNING:tensorflow:Early stopping conditioned on metric `val_sold_price_loss` which is not available. Available metrics are: loss,model_loss,model_1_loss,val_loss,val_model_loss,val_model_1_loss\n"
     ]
    },
    {
     "name": "stderr",
     "output_type": "stream",
     "text": [
      "WARNING:tensorflow:Early stopping conditioned on metric `val_sold_price_loss` which is not available. Available metrics are: loss,model_loss,model_1_loss,val_loss,val_model_loss,val_model_1_loss\n"
     ]
    },
    {
     "name": "stdout",
     "output_type": "stream",
     "text": [
      "Weight `w_price` got updated to 0.999999363319424.\n",
      "Weight `w_bits` got updated to 6.366805760909012e-07.\n",
      "1/1 [==============================] - 0s 62ms/step - loss: 0.5073 - model_loss: 0.4349 - model_1_loss: 0.0724 - val_loss: 0.3948 - val_model_loss: 0.3335 - val_model_1_loss: 0.0613\n",
      "Epoch 42/10000\n",
      "1/1 [==============================] - ETA: 0s - loss: 0.3948 - model_loss: 0.3335 - model_1_loss: 0.0613WARNING:tensorflow:Early stopping conditioned on metric `val_sold_price_loss` which is not available. Available metrics are: loss,model_loss,model_1_loss,val_loss,val_model_loss,val_model_1_loss\n"
     ]
    },
    {
     "name": "stderr",
     "output_type": "stream",
     "text": [
      "WARNING:tensorflow:Early stopping conditioned on metric `val_sold_price_loss` which is not available. Available metrics are: loss,model_loss,model_1_loss,val_loss,val_model_loss,val_model_1_loss\n"
     ]
    },
    {
     "name": "stdout",
     "output_type": "stream",
     "text": [
      "Weight `w_price` got updated to 0.9999995543235968.\n",
      "Weight `w_bits` got updated to 4.456764032636308e-07.\n",
      "1/1 [==============================] - 0s 62ms/step - loss: 0.3948 - model_loss: 0.3335 - model_1_loss: 0.0613 - val_loss: 0.3348 - val_model_loss: 0.2703 - val_model_1_loss: 0.0646\n",
      "Epoch 43/10000\n",
      "1/1 [==============================] - ETA: 0s - loss: 0.3348 - model_loss: 0.2703 - model_1_loss: 0.0646WARNING:tensorflow:Early stopping conditioned on metric `val_sold_price_loss` which is not available. Available metrics are: loss,model_loss,model_1_loss,val_loss,val_model_loss,val_model_1_loss\n"
     ]
    },
    {
     "name": "stderr",
     "output_type": "stream",
     "text": [
      "WARNING:tensorflow:Early stopping conditioned on metric `val_sold_price_loss` which is not available. Available metrics are: loss,model_loss,model_1_loss,val_loss,val_model_loss,val_model_1_loss\n"
     ]
    },
    {
     "name": "stdout",
     "output_type": "stream",
     "text": [
      "Weight `w_price` got updated to 0.9999996880265177.\n",
      "Weight `w_bits` got updated to 3.1197348228454154e-07.\n",
      "1/1 [==============================] - 0s 63ms/step - loss: 0.3348 - model_loss: 0.2703 - model_1_loss: 0.0646 - val_loss: 0.6002 - val_model_loss: 0.2192 - val_model_1_loss: 0.3810\n",
      "Epoch 44/10000\n",
      "1/1 [==============================] - ETA: 0s - loss: 0.6002 - model_loss: 0.2192 - model_1_loss: 0.3810WARNING:tensorflow:Early stopping conditioned on metric `val_sold_price_loss` which is not available. Available metrics are: loss,model_loss,model_1_loss,val_loss,val_model_loss,val_model_1_loss\n"
     ]
    },
    {
     "name": "stderr",
     "output_type": "stream",
     "text": [
      "WARNING:tensorflow:Early stopping conditioned on metric `val_sold_price_loss` which is not available. Available metrics are: loss,model_loss,model_1_loss,val_loss,val_model_loss,val_model_1_loss\n"
     ]
    },
    {
     "name": "stdout",
     "output_type": "stream",
     "text": [
      "Weight `w_price` got updated to 0.9999997816185624.\n",
      "Weight `w_bits` got updated to 2.1838143759917906e-07.\n",
      "1/1 [==============================] - 0s 64ms/step - loss: 0.6002 - model_loss: 0.2192 - model_1_loss: 0.3810 - val_loss: 0.5669 - val_model_loss: 0.4336 - val_model_1_loss: 0.1333\n",
      "Epoch 45/10000\n",
      "1/1 [==============================] - ETA: 0s - loss: 0.5669 - model_loss: 0.4336 - model_1_loss: 0.1333WARNING:tensorflow:Early stopping conditioned on metric `val_sold_price_loss` which is not available. Available metrics are: loss,model_loss,model_1_loss,val_loss,val_model_loss,val_model_1_loss\n"
     ]
    },
    {
     "name": "stderr",
     "output_type": "stream",
     "text": [
      "WARNING:tensorflow:Early stopping conditioned on metric `val_sold_price_loss` which is not available. Available metrics are: loss,model_loss,model_1_loss,val_loss,val_model_loss,val_model_1_loss\n"
     ]
    },
    {
     "name": "stdout",
     "output_type": "stream",
     "text": [
      "Weight `w_price` got updated to 0.9999998471329937.\n",
      "Weight `w_bits` got updated to 1.5286700631942535e-07.\n",
      "1/1 [==============================] - 0s 62ms/step - loss: 0.5669 - model_loss: 0.4336 - model_1_loss: 0.1333 - val_loss: 0.6225 - val_model_loss: 0.4826 - val_model_1_loss: 0.1400\n",
      "Epoch 46/10000\n",
      "1/1 [==============================] - ETA: 0s - loss: 0.6225 - model_loss: 0.4826 - model_1_loss: 0.1400WARNING:tensorflow:Early stopping conditioned on metric `val_sold_price_loss` which is not available. Available metrics are: loss,model_loss,model_1_loss,val_loss,val_model_loss,val_model_1_loss\n"
     ]
    },
    {
     "name": "stderr",
     "output_type": "stream",
     "text": [
      "WARNING:tensorflow:Early stopping conditioned on metric `val_sold_price_loss` which is not available. Available metrics are: loss,model_loss,model_1_loss,val_loss,val_model_loss,val_model_1_loss\n"
     ]
    },
    {
     "name": "stdout",
     "output_type": "stream",
     "text": [
      "Weight `w_price` got updated to 0.9999998929930956.\n",
      "Weight `w_bits` got updated to 1.0700690442359773e-07.\n",
      "1/1 [==============================] - 0s 63ms/step - loss: 0.6225 - model_loss: 0.4826 - model_1_loss: 0.1400 - val_loss: 0.6193 - val_model_loss: 0.4886 - val_model_1_loss: 0.1307\n",
      "Epoch 47/10000\n",
      "1/1 [==============================] - ETA: 0s - loss: 0.6193 - model_loss: 0.4886 - model_1_loss: 0.1307WARNING:tensorflow:Early stopping conditioned on metric `val_sold_price_loss` which is not available. Available metrics are: loss,model_loss,model_1_loss,val_loss,val_model_loss,val_model_1_loss\n"
     ]
    },
    {
     "name": "stderr",
     "output_type": "stream",
     "text": [
      "WARNING:tensorflow:Early stopping conditioned on metric `val_sold_price_loss` which is not available. Available metrics are: loss,model_loss,model_1_loss,val_loss,val_model_loss,val_model_1_loss\n"
     ]
    },
    {
     "name": "stdout",
     "output_type": "stream",
     "text": [
      "Weight `w_price` got updated to 0.9999999250951669.\n",
      "Weight `w_bits` got updated to 7.490483309651841e-08.\n",
      "1/1 [==============================] - 0s 63ms/step - loss: 0.6193 - model_loss: 0.4886 - model_1_loss: 0.1307 - val_loss: 0.6850 - val_model_loss: 0.5634 - val_model_1_loss: 0.1217\n",
      "Epoch 48/10000\n",
      "1/1 [==============================] - ETA: 0s - loss: 0.6850 - model_loss: 0.5634 - model_1_loss: 0.1217WARNING:tensorflow:Early stopping conditioned on metric `val_sold_price_loss` which is not available. Available metrics are: loss,model_loss,model_1_loss,val_loss,val_model_loss,val_model_1_loss\n"
     ]
    },
    {
     "name": "stderr",
     "output_type": "stream",
     "text": [
      "WARNING:tensorflow:Early stopping conditioned on metric `val_sold_price_loss` which is not available. Available metrics are: loss,model_loss,model_1_loss,val_loss,val_model_loss,val_model_1_loss\n"
     ]
    },
    {
     "name": "stdout",
     "output_type": "stream",
     "text": [
      "Weight `w_price` got updated to 0.9999999475666168.\n",
      "Weight `w_bits` got updated to 5.243338316756288e-08.\n",
      "1/1 [==============================] - 0s 63ms/step - loss: 0.6850 - model_loss: 0.5634 - model_1_loss: 0.1217 - val_loss: 0.6234 - val_model_loss: 0.5122 - val_model_1_loss: 0.1112\n",
      "Epoch 49/10000\n",
      "1/1 [==============================] - ETA: 0s - loss: 0.6234 - model_loss: 0.5122 - model_1_loss: 0.1112WARNING:tensorflow:Early stopping conditioned on metric `val_sold_price_loss` which is not available. Available metrics are: loss,model_loss,model_1_loss,val_loss,val_model_loss,val_model_1_loss\n"
     ]
    },
    {
     "name": "stderr",
     "output_type": "stream",
     "text": [
      "WARNING:tensorflow:Early stopping conditioned on metric `val_sold_price_loss` which is not available. Available metrics are: loss,model_loss,model_1_loss,val_loss,val_model_loss,val_model_1_loss\n"
     ]
    },
    {
     "name": "stdout",
     "output_type": "stream",
     "text": [
      "Weight `w_price` got updated to 0.9999999632966318.\n",
      "Weight `w_bits` got updated to 3.6703368217294013e-08.\n",
      "1/1 [==============================] - 0s 68ms/step - loss: 0.6234 - model_loss: 0.5122 - model_1_loss: 0.1112 - val_loss: 0.6060 - val_model_loss: 0.5124 - val_model_1_loss: 0.0936\n",
      "Epoch 50/10000\n",
      "1/1 [==============================] - ETA: 0s - loss: 0.6060 - model_loss: 0.5124 - model_1_loss: 0.0936WARNING:tensorflow:Early stopping conditioned on metric `val_sold_price_loss` which is not available. Available metrics are: loss,model_loss,model_1_loss,val_loss,val_model_loss,val_model_1_loss\n"
     ]
    },
    {
     "name": "stderr",
     "output_type": "stream",
     "text": [
      "WARNING:tensorflow:Early stopping conditioned on metric `val_sold_price_loss` which is not available. Available metrics are: loss,model_loss,model_1_loss,val_loss,val_model_loss,val_model_1_loss\n"
     ]
    },
    {
     "name": "stdout",
     "output_type": "stream",
     "text": [
      "Weight `w_price` got updated to 0.9999999743076422.\n",
      "Weight `w_bits` got updated to 2.5692357752105807e-08.\n",
      "1/1 [==============================] - 0s 72ms/step - loss: 0.6060 - model_loss: 0.5124 - model_1_loss: 0.0936 - val_loss: 0.6633 - val_model_loss: 0.5393 - val_model_1_loss: 0.1240\n",
      "Epoch 51/10000\n",
      "1/1 [==============================] - ETA: 0s - loss: 0.6633 - model_loss: 0.5393 - model_1_loss: 0.1240WARNING:tensorflow:Early stopping conditioned on metric `val_sold_price_loss` which is not available. Available metrics are: loss,model_loss,model_1_loss,val_loss,val_model_loss,val_model_1_loss\n"
     ]
    },
    {
     "name": "stderr",
     "output_type": "stream",
     "text": [
      "WARNING:tensorflow:Early stopping conditioned on metric `val_sold_price_loss` which is not available. Available metrics are: loss,model_loss,model_1_loss,val_loss,val_model_loss,val_model_1_loss\n"
     ]
    },
    {
     "name": "stdout",
     "output_type": "stream",
     "text": [
      "Weight `w_price` got updated to 0.9999999820153496.\n",
      "Weight `w_bits` got updated to 1.7984650426474064e-08.\n",
      "1/1 [==============================] - 0s 60ms/step - loss: 0.6633 - model_loss: 0.5393 - model_1_loss: 0.1240 - val_loss: 0.6410 - val_model_loss: 0.5805 - val_model_1_loss: 0.0605\n",
      "Epoch 52/10000\n",
      "1/1 [==============================] - ETA: 0s - loss: 0.6410 - model_loss: 0.5805 - model_1_loss: 0.0605WARNING:tensorflow:Early stopping conditioned on metric `val_sold_price_loss` which is not available. Available metrics are: loss,model_loss,model_1_loss,val_loss,val_model_loss,val_model_1_loss\n"
     ]
    },
    {
     "name": "stderr",
     "output_type": "stream",
     "text": [
      "WARNING:tensorflow:Early stopping conditioned on metric `val_sold_price_loss` which is not available. Available metrics are: loss,model_loss,model_1_loss,val_loss,val_model_loss,val_model_1_loss\n"
     ]
    },
    {
     "name": "stdout",
     "output_type": "stream",
     "text": [
      "Weight `w_price` got updated to 0.9999999874107447.\n",
      "Weight `w_bits` got updated to 1.2589255298531844e-08.\n",
      "1/1 [==============================] - 0s 62ms/step - loss: 0.6410 - model_loss: 0.5805 - model_1_loss: 0.0605 - val_loss: 0.6962 - val_model_loss: 0.6322 - val_model_1_loss: 0.0640\n",
      "Epoch 53/10000\n",
      "1/1 [==============================] - ETA: 0s - loss: 0.6962 - model_loss: 0.6322 - model_1_loss: 0.0640WARNING:tensorflow:Early stopping conditioned on metric `val_sold_price_loss` which is not available. Available metrics are: loss,model_loss,model_1_loss,val_loss,val_model_loss,val_model_1_loss\n"
     ]
    },
    {
     "name": "stderr",
     "output_type": "stream",
     "text": [
      "WARNING:tensorflow:Early stopping conditioned on metric `val_sold_price_loss` which is not available. Available metrics are: loss,model_loss,model_1_loss,val_loss,val_model_loss,val_model_1_loss\n"
     ]
    },
    {
     "name": "stdout",
     "output_type": "stream",
     "text": [
      "Weight `w_price` got updated to 0.9999999911875213.\n",
      "Weight `w_bits` got updated to 8.812478708972291e-09.\n",
      "1/1 [==============================] - 0s 63ms/step - loss: 0.6962 - model_loss: 0.6322 - model_1_loss: 0.0640 - val_loss: 0.6613 - val_model_loss: 0.5895 - val_model_1_loss: 0.0718\n",
      "Epoch 54/10000\n",
      "1/1 [==============================] - ETA: 0s - loss: 0.6613 - model_loss: 0.5895 - model_1_loss: 0.0718WARNING:tensorflow:Early stopping conditioned on metric `val_sold_price_loss` which is not available. Available metrics are: loss,model_loss,model_1_loss,val_loss,val_model_loss,val_model_1_loss\n"
     ]
    },
    {
     "name": "stderr",
     "output_type": "stream",
     "text": [
      "WARNING:tensorflow:Early stopping conditioned on metric `val_sold_price_loss` which is not available. Available metrics are: loss,model_loss,model_1_loss,val_loss,val_model_loss,val_model_1_loss\n"
     ]
    },
    {
     "name": "stdout",
     "output_type": "stream",
     "text": [
      "Weight `w_price` got updated to 0.9999999938312649.\n",
      "Weight `w_bits` got updated to 6.168735096280603e-09.\n",
      "1/1 [==============================] - 0s 74ms/step - loss: 0.6613 - model_loss: 0.5895 - model_1_loss: 0.0718 - val_loss: 0.5543 - val_model_loss: 0.4914 - val_model_1_loss: 0.0629\n",
      "Epoch 55/10000\n",
      "1/1 [==============================] - ETA: 0s - loss: 0.5543 - model_loss: 0.4914 - model_1_loss: 0.0629WARNING:tensorflow:Early stopping conditioned on metric `val_sold_price_loss` which is not available. Available metrics are: loss,model_loss,model_1_loss,val_loss,val_model_loss,val_model_1_loss\n"
     ]
    },
    {
     "name": "stderr",
     "output_type": "stream",
     "text": [
      "WARNING:tensorflow:Early stopping conditioned on metric `val_sold_price_loss` which is not available. Available metrics are: loss,model_loss,model_1_loss,val_loss,val_model_loss,val_model_1_loss\n"
     ]
    },
    {
     "name": "stdout",
     "output_type": "stream",
     "text": [
      "Weight `w_price` got updated to 0.9999999956818855.\n",
      "Weight `w_bits` got updated to 4.318114567396422e-09.\n",
      "1/1 [==============================] - 0s 68ms/step - loss: 0.5543 - model_loss: 0.4914 - model_1_loss: 0.0629 - val_loss: 0.5498 - val_model_loss: 0.4604 - val_model_1_loss: 0.0894\n",
      "Epoch 56/10000\n",
      "1/1 [==============================] - ETA: 0s - loss: 0.5498 - model_loss: 0.4604 - model_1_loss: 0.0894WARNING:tensorflow:Early stopping conditioned on metric `val_sold_price_loss` which is not available. Available metrics are: loss,model_loss,model_1_loss,val_loss,val_model_loss,val_model_1_loss\n"
     ]
    },
    {
     "name": "stderr",
     "output_type": "stream",
     "text": [
      "WARNING:tensorflow:Early stopping conditioned on metric `val_sold_price_loss` which is not available. Available metrics are: loss,model_loss,model_1_loss,val_loss,val_model_loss,val_model_1_loss\n"
     ]
    },
    {
     "name": "stdout",
     "output_type": "stream",
     "text": [
      "Weight `w_price` got updated to 0.9999999969773198.\n",
      "Weight `w_bits` got updated to 3.022680197177495e-09.\n",
      "1/1 [==============================] - 0s 64ms/step - loss: 0.5498 - model_loss: 0.4604 - model_1_loss: 0.0894 - val_loss: 0.4706 - val_model_loss: 0.4065 - val_model_1_loss: 0.0641\n",
      "Epoch 57/10000\n",
      "1/1 [==============================] - ETA: 0s - loss: 0.4706 - model_loss: 0.4065 - model_1_loss: 0.0641WARNING:tensorflow:Early stopping conditioned on metric `val_sold_price_loss` which is not available. Available metrics are: loss,model_loss,model_1_loss,val_loss,val_model_loss,val_model_1_loss\n"
     ]
    },
    {
     "name": "stderr",
     "output_type": "stream",
     "text": [
      "WARNING:tensorflow:Early stopping conditioned on metric `val_sold_price_loss` which is not available. Available metrics are: loss,model_loss,model_1_loss,val_loss,val_model_loss,val_model_1_loss\n"
     ]
    },
    {
     "name": "stdout",
     "output_type": "stream",
     "text": [
      "Weight `w_price` got updated to 0.9999999978841239.\n",
      "Weight `w_bits` got updated to 2.1158761380242465e-09.\n",
      "1/1 [==============================] - 0s 61ms/step - loss: 0.4706 - model_loss: 0.4065 - model_1_loss: 0.0641 - val_loss: 0.4083 - val_model_loss: 0.3440 - val_model_1_loss: 0.0643\n",
      "Epoch 58/10000\n",
      "1/1 [==============================] - ETA: 0s - loss: 0.4083 - model_loss: 0.3440 - model_1_loss: 0.0643WARNING:tensorflow:Early stopping conditioned on metric `val_sold_price_loss` which is not available. Available metrics are: loss,model_loss,model_1_loss,val_loss,val_model_loss,val_model_1_loss\n"
     ]
    },
    {
     "name": "stderr",
     "output_type": "stream",
     "text": [
      "WARNING:tensorflow:Early stopping conditioned on metric `val_sold_price_loss` which is not available. Available metrics are: loss,model_loss,model_1_loss,val_loss,val_model_loss,val_model_1_loss\n"
     ]
    },
    {
     "name": "stdout",
     "output_type": "stream",
     "text": [
      "Weight `w_price` got updated to 0.9999999985188867.\n",
      "Weight `w_bits` got updated to 1.4811132966169724e-09.\n",
      "1/1 [==============================] - 0s 61ms/step - loss: 0.4083 - model_loss: 0.3440 - model_1_loss: 0.0643 - val_loss: 0.3596 - val_model_loss: 0.2963 - val_model_1_loss: 0.0633\n",
      "Epoch 59/10000\n",
      "1/1 [==============================] - ETA: 0s - loss: 0.3596 - model_loss: 0.2963 - model_1_loss: 0.0633WARNING:tensorflow:Early stopping conditioned on metric `val_sold_price_loss` which is not available. Available metrics are: loss,model_loss,model_1_loss,val_loss,val_model_loss,val_model_1_loss\n"
     ]
    },
    {
     "name": "stderr",
     "output_type": "stream",
     "text": [
      "WARNING:tensorflow:Early stopping conditioned on metric `val_sold_price_loss` which is not available. Available metrics are: loss,model_loss,model_1_loss,val_loss,val_model_loss,val_model_1_loss\n"
     ]
    },
    {
     "name": "stdout",
     "output_type": "stream",
     "text": [
      "Weight `w_price` got updated to 0.9999999989632207.\n",
      "Weight `w_bits` got updated to 1.0367793076318806e-09.\n",
      "1/1 [==============================] - 0s 66ms/step - loss: 0.3596 - model_loss: 0.2963 - model_1_loss: 0.0633 - val_loss: 0.2997 - val_model_loss: 0.2408 - val_model_1_loss: 0.0588\n",
      "Epoch 60/10000\n",
      "1/1 [==============================] - ETA: 0s - loss: 0.2997 - model_loss: 0.2408 - model_1_loss: 0.0588WARNING:tensorflow:Early stopping conditioned on metric `val_sold_price_loss` which is not available. Available metrics are: loss,model_loss,model_1_loss,val_loss,val_model_loss,val_model_1_loss\n"
     ]
    },
    {
     "name": "stderr",
     "output_type": "stream",
     "text": [
      "WARNING:tensorflow:Early stopping conditioned on metric `val_sold_price_loss` which is not available. Available metrics are: loss,model_loss,model_1_loss,val_loss,val_model_loss,val_model_1_loss\n"
     ]
    },
    {
     "name": "stdout",
     "output_type": "stream",
     "text": [
      "Weight `w_price` got updated to 0.9999999992742545.\n",
      "Weight `w_bits` got updated to 7.257455153423164e-10.\n",
      "1/1 [==============================] - 0s 64ms/step - loss: 0.2997 - model_loss: 0.2408 - model_1_loss: 0.0588 - val_loss: 0.2520 - val_model_loss: 0.1981 - val_model_1_loss: 0.0539\n",
      "Epoch 61/10000\n",
      "1/1 [==============================] - ETA: 0s - loss: 0.2520 - model_loss: 0.1981 - model_1_loss: 0.0539WARNING:tensorflow:Early stopping conditioned on metric `val_sold_price_loss` which is not available. Available metrics are: loss,model_loss,model_1_loss,val_loss,val_model_loss,val_model_1_loss\n"
     ]
    },
    {
     "name": "stderr",
     "output_type": "stream",
     "text": [
      "WARNING:tensorflow:Early stopping conditioned on metric `val_sold_price_loss` which is not available. Available metrics are: loss,model_loss,model_1_loss,val_loss,val_model_loss,val_model_1_loss\n"
     ]
    },
    {
     "name": "stdout",
     "output_type": "stream",
     "text": [
      "Weight `w_price` got updated to 0.9999999994919782.\n",
      "Weight `w_bits` got updated to 5.080218607396215e-10.\n",
      "1/1 [==============================] - 0s 62ms/step - loss: 0.2520 - model_loss: 0.1981 - model_1_loss: 0.0539 - val_loss: 0.2102 - val_model_loss: 0.1611 - val_model_1_loss: 0.0490\n",
      "Epoch 62/10000\n",
      "1/1 [==============================] - ETA: 0s - loss: 0.2102 - model_loss: 0.1611 - model_1_loss: 0.0490WARNING:tensorflow:Early stopping conditioned on metric `val_sold_price_loss` which is not available. Available metrics are: loss,model_loss,model_1_loss,val_loss,val_model_loss,val_model_1_loss\n"
     ]
    },
    {
     "name": "stderr",
     "output_type": "stream",
     "text": [
      "WARNING:tensorflow:Early stopping conditioned on metric `val_sold_price_loss` which is not available. Available metrics are: loss,model_loss,model_1_loss,val_loss,val_model_loss,val_model_1_loss\n"
     ]
    },
    {
     "name": "stdout",
     "output_type": "stream",
     "text": [
      "Weight `w_price` got updated to 0.9999999996443847.\n",
      "Weight `w_bits` got updated to 3.55615302517735e-10.\n",
      "1/1 [==============================] - 0s 65ms/step - loss: 0.2102 - model_loss: 0.1611 - model_1_loss: 0.0490 - val_loss: 0.1267 - val_model_loss: 0.1008 - val_model_1_loss: 0.0259\n",
      "Epoch 63/10000\n",
      "1/1 [==============================] - ETA: 0s - loss: 0.1267 - model_loss: 0.1008 - model_1_loss: 0.0259WARNING:tensorflow:Early stopping conditioned on metric `val_sold_price_loss` which is not available. Available metrics are: loss,model_loss,model_1_loss,val_loss,val_model_loss,val_model_1_loss\n"
     ]
    },
    {
     "name": "stderr",
     "output_type": "stream",
     "text": [
      "WARNING:tensorflow:Early stopping conditioned on metric `val_sold_price_loss` which is not available. Available metrics are: loss,model_loss,model_1_loss,val_loss,val_model_loss,val_model_1_loss\n"
     ]
    },
    {
     "name": "stdout",
     "output_type": "stream",
     "text": [
      "Weight `w_price` got updated to 0.9999999997510692.\n",
      "Weight `w_bits` got updated to 2.489307117624145e-10.\n",
      "1/1 [==============================] - 0s 65ms/step - loss: 0.1267 - model_loss: 0.1008 - model_1_loss: 0.0259 - val_loss: 0.2126 - val_model_loss: 0.1095 - val_model_1_loss: 0.1031\n",
      "Epoch 64/10000\n",
      "1/1 [==============================] - ETA: 0s - loss: 0.2126 - model_loss: 0.1095 - model_1_loss: 0.1031WARNING:tensorflow:Early stopping conditioned on metric `val_sold_price_loss` which is not available. Available metrics are: loss,model_loss,model_1_loss,val_loss,val_model_loss,val_model_1_loss\n"
     ]
    },
    {
     "name": "stderr",
     "output_type": "stream",
     "text": [
      "WARNING:tensorflow:Early stopping conditioned on metric `val_sold_price_loss` which is not available. Available metrics are: loss,model_loss,model_1_loss,val_loss,val_model_loss,val_model_1_loss\n"
     ]
    },
    {
     "name": "stdout",
     "output_type": "stream",
     "text": [
      "Weight `w_price` got updated to 0.9999999998257485.\n",
      "Weight `w_bits` got updated to 1.7425149823369012e-10.\n",
      "1/1 [==============================] - 0s 63ms/step - loss: 0.2126 - model_loss: 0.1095 - model_1_loss: 0.1031 - val_loss: 0.4843 - val_model_loss: 0.1814 - val_model_1_loss: 0.3029\n",
      "Epoch 65/10000\n",
      "1/1 [==============================] - ETA: 0s - loss: 0.4843 - model_loss: 0.1814 - model_1_loss: 0.3029WARNING:tensorflow:Early stopping conditioned on metric `val_sold_price_loss` which is not available. Available metrics are: loss,model_loss,model_1_loss,val_loss,val_model_loss,val_model_1_loss\n"
     ]
    },
    {
     "name": "stderr",
     "output_type": "stream",
     "text": [
      "WARNING:tensorflow:Early stopping conditioned on metric `val_sold_price_loss` which is not available. Available metrics are: loss,model_loss,model_1_loss,val_loss,val_model_loss,val_model_1_loss\n"
     ]
    },
    {
     "name": "stdout",
     "output_type": "stream",
     "text": [
      "Weight `w_price` got updated to 0.9999999998780239.\n",
      "Weight `w_bits` got updated to 1.2197604876358308e-10.\n",
      "1/1 [==============================] - 0s 62ms/step - loss: 0.4843 - model_loss: 0.1814 - model_1_loss: 0.3029 - val_loss: 0.2448 - val_model_loss: 0.1347 - val_model_1_loss: 0.1102\n",
      "Epoch 66/10000\n",
      "1/1 [==============================] - ETA: 0s - loss: 0.2448 - model_loss: 0.1347 - model_1_loss: 0.1102WARNING:tensorflow:Early stopping conditioned on metric `val_sold_price_loss` which is not available. Available metrics are: loss,model_loss,model_1_loss,val_loss,val_model_loss,val_model_1_loss\n"
     ]
    },
    {
     "name": "stderr",
     "output_type": "stream",
     "text": [
      "WARNING:tensorflow:Early stopping conditioned on metric `val_sold_price_loss` which is not available. Available metrics are: loss,model_loss,model_1_loss,val_loss,val_model_loss,val_model_1_loss\n"
     ]
    },
    {
     "name": "stdout",
     "output_type": "stream",
     "text": [
      "Weight `w_price` got updated to 0.9999999999146167.\n",
      "Weight `w_bits` got updated to 8.538323413450815e-11.\n",
      "1/1 [==============================] - 0s 64ms/step - loss: 0.2448 - model_loss: 0.1347 - model_1_loss: 0.1102 - val_loss: 0.0968 - val_model_loss: 0.0856 - val_model_1_loss: 0.0112\n",
      "Epoch 67/10000\n",
      "1/1 [==============================] - ETA: 0s - loss: 0.0968 - model_loss: 0.0856 - model_1_loss: 0.0112WARNING:tensorflow:Early stopping conditioned on metric `val_sold_price_loss` which is not available. Available metrics are: loss,model_loss,model_1_loss,val_loss,val_model_loss,val_model_1_loss\n"
     ]
    },
    {
     "name": "stderr",
     "output_type": "stream",
     "text": [
      "WARNING:tensorflow:Early stopping conditioned on metric `val_sold_price_loss` which is not available. Available metrics are: loss,model_loss,model_1_loss,val_loss,val_model_loss,val_model_1_loss\n"
     ]
    },
    {
     "name": "stdout",
     "output_type": "stream",
     "text": [
      "Weight `w_price` got updated to 0.9999999999402317.\n",
      "Weight `w_bits` got updated to 5.97682638941557e-11.\n",
      "1/1 [==============================] - 0s 64ms/step - loss: 0.0968 - model_loss: 0.0856 - model_1_loss: 0.0112 - val_loss: 0.2941 - val_model_loss: 0.0905 - val_model_1_loss: 0.2037\n",
      "Epoch 68/10000\n",
      "1/1 [==============================] - ETA: 0s - loss: 0.2941 - model_loss: 0.0905 - model_1_loss: 0.2037WARNING:tensorflow:Early stopping conditioned on metric `val_sold_price_loss` which is not available. Available metrics are: loss,model_loss,model_1_loss,val_loss,val_model_loss,val_model_1_loss\n"
     ]
    },
    {
     "name": "stderr",
     "output_type": "stream",
     "text": [
      "WARNING:tensorflow:Early stopping conditioned on metric `val_sold_price_loss` which is not available. Available metrics are: loss,model_loss,model_1_loss,val_loss,val_model_loss,val_model_1_loss\n"
     ]
    },
    {
     "name": "stdout",
     "output_type": "stream",
     "text": [
      "Weight `w_price` got updated to 0.9999999999581622.\n",
      "Weight `w_bits` got updated to 4.183778472590899e-11.\n",
      "1/1 [==============================] - 0s 62ms/step - loss: 0.2941 - model_loss: 0.0905 - model_1_loss: 0.2037 - val_loss: 0.1368 - val_model_loss: 0.1136 - val_model_1_loss: 0.0232\n",
      "Epoch 69/10000\n",
      "1/1 [==============================] - ETA: 0s - loss: 0.1368 - model_loss: 0.1136 - model_1_loss: 0.0232WARNING:tensorflow:Early stopping conditioned on metric `val_sold_price_loss` which is not available. Available metrics are: loss,model_loss,model_1_loss,val_loss,val_model_loss,val_model_1_loss\n"
     ]
    },
    {
     "name": "stderr",
     "output_type": "stream",
     "text": [
      "WARNING:tensorflow:Early stopping conditioned on metric `val_sold_price_loss` which is not available. Available metrics are: loss,model_loss,model_1_loss,val_loss,val_model_loss,val_model_1_loss\n"
     ]
    },
    {
     "name": "stdout",
     "output_type": "stream",
     "text": [
      "Weight `w_price` got updated to 0.9999999999707135.\n",
      "Weight `w_bits` got updated to 2.928644930813629e-11.\n",
      "1/1 [==============================] - 0s 63ms/step - loss: 0.1368 - model_loss: 0.1136 - model_1_loss: 0.0232 - val_loss: 0.1743 - val_model_loss: 0.1461 - val_model_1_loss: 0.0281\n",
      "Epoch 70/10000\n",
      "1/1 [==============================] - ETA: 0s - loss: 0.1743 - model_loss: 0.1461 - model_1_loss: 0.0281WARNING:tensorflow:Early stopping conditioned on metric `val_sold_price_loss` which is not available. Available metrics are: loss,model_loss,model_1_loss,val_loss,val_model_loss,val_model_1_loss\n"
     ]
    },
    {
     "name": "stderr",
     "output_type": "stream",
     "text": [
      "WARNING:tensorflow:Early stopping conditioned on metric `val_sold_price_loss` which is not available. Available metrics are: loss,model_loss,model_1_loss,val_loss,val_model_loss,val_model_1_loss\n"
     ]
    },
    {
     "name": "stdout",
     "output_type": "stream",
     "text": [
      "Weight `w_price` got updated to 0.9999999999794995.\n",
      "Weight `w_bits` got updated to 2.05005145156954e-11.\n",
      "1/1 [==============================] - 0s 62ms/step - loss: 0.1743 - model_loss: 0.1461 - model_1_loss: 0.0281 - val_loss: 0.1628 - val_model_loss: 0.1459 - val_model_1_loss: 0.0170\n",
      "Epoch 71/10000\n",
      "1/1 [==============================] - ETA: 0s - loss: 0.1628 - model_loss: 0.1459 - model_1_loss: 0.0170WARNING:tensorflow:Early stopping conditioned on metric `val_sold_price_loss` which is not available. Available metrics are: loss,model_loss,model_1_loss,val_loss,val_model_loss,val_model_1_loss\n"
     ]
    },
    {
     "name": "stderr",
     "output_type": "stream",
     "text": [
      "WARNING:tensorflow:Early stopping conditioned on metric `val_sold_price_loss` which is not available. Available metrics are: loss,model_loss,model_1_loss,val_loss,val_model_loss,val_model_1_loss\n"
     ]
    },
    {
     "name": "stdout",
     "output_type": "stream",
     "text": [
      "Weight `w_price` got updated to 0.9999999999856496.\n",
      "Weight `w_bits` got updated to 1.435036016098678e-11.\n",
      "1/1 [==============================] - 0s 62ms/step - loss: 0.1628 - model_loss: 0.1459 - model_1_loss: 0.0170 - val_loss: 0.1819 - val_model_loss: 0.1286 - val_model_1_loss: 0.0534\n",
      "Epoch 72/10000\n",
      "1/1 [==============================] - ETA: 0s - loss: 0.1819 - model_loss: 0.1286 - model_1_loss: 0.0534WARNING:tensorflow:Early stopping conditioned on metric `val_sold_price_loss` which is not available. Available metrics are: loss,model_loss,model_1_loss,val_loss,val_model_loss,val_model_1_loss\n"
     ]
    },
    {
     "name": "stderr",
     "output_type": "stream",
     "text": [
      "WARNING:tensorflow:Early stopping conditioned on metric `val_sold_price_loss` which is not available. Available metrics are: loss,model_loss,model_1_loss,val_loss,val_model_loss,val_model_1_loss\n"
     ]
    },
    {
     "name": "stdout",
     "output_type": "stream",
     "text": [
      "Weight `w_price` got updated to 0.9999999999899547.\n",
      "Weight `w_bits` got updated to 1.0045252112690745e-11.\n",
      "1/1 [==============================] - 0s 61ms/step - loss: 0.1819 - model_loss: 0.1286 - model_1_loss: 0.0534 - val_loss: 0.2538 - val_model_loss: 0.1749 - val_model_1_loss: 0.0788\n",
      "Epoch 73/10000\n",
      "1/1 [==============================] - ETA: 0s - loss: 0.2538 - model_loss: 0.1749 - model_1_loss: 0.0788WARNING:tensorflow:Early stopping conditioned on metric `val_sold_price_loss` which is not available. Available metrics are: loss,model_loss,model_1_loss,val_loss,val_model_loss,val_model_1_loss\n"
     ]
    },
    {
     "name": "stderr",
     "output_type": "stream",
     "text": [
      "WARNING:tensorflow:Early stopping conditioned on metric `val_sold_price_loss` which is not available. Available metrics are: loss,model_loss,model_1_loss,val_loss,val_model_loss,val_model_1_loss\n"
     ]
    },
    {
     "name": "stdout",
     "output_type": "stream",
     "text": [
      "Weight `w_price` got updated to 0.9999999999929683.\n",
      "Weight `w_bits` got updated to 7.0316764788835215e-12.\n",
      "1/1 [==============================] - 0s 61ms/step - loss: 0.2538 - model_loss: 0.1749 - model_1_loss: 0.0788 - val_loss: 0.1479 - val_model_loss: 0.1337 - val_model_1_loss: 0.0142\n",
      "Epoch 74/10000\n",
      "1/1 [==============================] - ETA: 0s - loss: 0.1479 - model_loss: 0.1337 - model_1_loss: 0.0142WARNING:tensorflow:Early stopping conditioned on metric `val_sold_price_loss` which is not available. Available metrics are: loss,model_loss,model_1_loss,val_loss,val_model_loss,val_model_1_loss\n"
     ]
    },
    {
     "name": "stderr",
     "output_type": "stream",
     "text": [
      "WARNING:tensorflow:Early stopping conditioned on metric `val_sold_price_loss` which is not available. Available metrics are: loss,model_loss,model_1_loss,val_loss,val_model_loss,val_model_1_loss\n"
     ]
    },
    {
     "name": "stdout",
     "output_type": "stream",
     "text": [
      "Weight `w_price` got updated to 0.9999999999950778.\n",
      "Weight `w_bits` got updated to 4.9221735352184645e-12.\n",
      "1/1 [==============================] - 0s 62ms/step - loss: 0.1479 - model_loss: 0.1337 - model_1_loss: 0.0142 - val_loss: 0.1577 - val_model_loss: 0.1168 - val_model_1_loss: 0.0409\n",
      "Epoch 75/10000\n",
      "1/1 [==============================] - ETA: 0s - loss: 0.1577 - model_loss: 0.1168 - model_1_loss: 0.0409WARNING:tensorflow:Early stopping conditioned on metric `val_sold_price_loss` which is not available. Available metrics are: loss,model_loss,model_1_loss,val_loss,val_model_loss,val_model_1_loss\n"
     ]
    },
    {
     "name": "stderr",
     "output_type": "stream",
     "text": [
      "WARNING:tensorflow:Early stopping conditioned on metric `val_sold_price_loss` which is not available. Available metrics are: loss,model_loss,model_1_loss,val_loss,val_model_loss,val_model_1_loss\n"
     ]
    },
    {
     "name": "stdout",
     "output_type": "stream",
     "text": [
      "Weight `w_price` got updated to 0.9999999999965545.\n",
      "Weight `w_bits` got updated to 3.445521474652925e-12.\n",
      "1/1 [==============================] - 0s 65ms/step - loss: 0.1577 - model_loss: 0.1168 - model_1_loss: 0.0409 - val_loss: 0.1307 - val_model_loss: 0.1198 - val_model_1_loss: 0.0108\n",
      "Epoch 76/10000\n",
      "1/1 [==============================] - ETA: 0s - loss: 0.1307 - model_loss: 0.1198 - model_1_loss: 0.0108WARNING:tensorflow:Early stopping conditioned on metric `val_sold_price_loss` which is not available. Available metrics are: loss,model_loss,model_1_loss,val_loss,val_model_loss,val_model_1_loss\n"
     ]
    },
    {
     "name": "stderr",
     "output_type": "stream",
     "text": [
      "WARNING:tensorflow:Early stopping conditioned on metric `val_sold_price_loss` which is not available. Available metrics are: loss,model_loss,model_1_loss,val_loss,val_model_loss,val_model_1_loss\n"
     ]
    },
    {
     "name": "stdout",
     "output_type": "stream",
     "text": [
      "Weight `w_price` got updated to 0.9999999999975882.\n",
      "Weight `w_bits` got updated to 2.4118650322570472e-12.\n",
      "1/1 [==============================] - 0s 67ms/step - loss: 0.1307 - model_loss: 0.1198 - model_1_loss: 0.0108 - val_loss: 0.1089 - val_model_loss: 0.0973 - val_model_1_loss: 0.0117\n",
      "Epoch 77/10000\n",
      "1/1 [==============================] - ETA: 0s - loss: 0.1089 - model_loss: 0.0973 - model_1_loss: 0.0117WARNING:tensorflow:Early stopping conditioned on metric `val_sold_price_loss` which is not available. Available metrics are: loss,model_loss,model_1_loss,val_loss,val_model_loss,val_model_1_loss\n"
     ]
    },
    {
     "name": "stderr",
     "output_type": "stream",
     "text": [
      "WARNING:tensorflow:Early stopping conditioned on metric `val_sold_price_loss` which is not available. Available metrics are: loss,model_loss,model_1_loss,val_loss,val_model_loss,val_model_1_loss\n"
     ]
    },
    {
     "name": "stdout",
     "output_type": "stream",
     "text": [
      "Weight `w_price` got updated to 0.9999999999983117.\n",
      "Weight `w_bits` got updated to 1.688305522579933e-12.\n",
      "1/1 [==============================] - 0s 63ms/step - loss: 0.1089 - model_loss: 0.0973 - model_1_loss: 0.0117 - val_loss: 0.1687 - val_model_loss: 0.0950 - val_model_1_loss: 0.0737\n",
      "Epoch 78/10000\n",
      "1/1 [==============================] - ETA: 0s - loss: 0.1687 - model_loss: 0.0950 - model_1_loss: 0.0737WARNING:tensorflow:Early stopping conditioned on metric `val_sold_price_loss` which is not available. Available metrics are: loss,model_loss,model_1_loss,val_loss,val_model_loss,val_model_1_loss\n"
     ]
    },
    {
     "name": "stderr",
     "output_type": "stream",
     "text": [
      "WARNING:tensorflow:Early stopping conditioned on metric `val_sold_price_loss` which is not available. Available metrics are: loss,model_loss,model_1_loss,val_loss,val_model_loss,val_model_1_loss\n"
     ]
    },
    {
     "name": "stdout",
     "output_type": "stream",
     "text": [
      "Weight `w_price` got updated to 0.9999999999988182.\n",
      "Weight `w_bits` got updated to 1.181813865805953e-12.\n",
      "1/1 [==============================] - 0s 62ms/step - loss: 0.1687 - model_loss: 0.0950 - model_1_loss: 0.0737 - val_loss: 0.0871 - val_model_loss: 0.0775 - val_model_1_loss: 0.0096\n",
      "Epoch 79/10000\n",
      "1/1 [==============================] - ETA: 0s - loss: 0.0871 - model_loss: 0.0775 - model_1_loss: 0.0096WARNING:tensorflow:Early stopping conditioned on metric `val_sold_price_loss` which is not available. Available metrics are: loss,model_loss,model_1_loss,val_loss,val_model_loss,val_model_1_loss\n"
     ]
    },
    {
     "name": "stderr",
     "output_type": "stream",
     "text": [
      "WARNING:tensorflow:Early stopping conditioned on metric `val_sold_price_loss` which is not available. Available metrics are: loss,model_loss,model_1_loss,val_loss,val_model_loss,val_model_1_loss\n"
     ]
    },
    {
     "name": "stdout",
     "output_type": "stream",
     "text": [
      "Weight `w_price` got updated to 0.9999999999991728.\n",
      "Weight `w_bits` got updated to 8.272697060641671e-13.\n",
      "1/1 [==============================] - 0s 65ms/step - loss: 0.0871 - model_loss: 0.0775 - model_1_loss: 0.0096 - val_loss: 0.0763 - val_model_loss: 0.0623 - val_model_1_loss: 0.0140\n",
      "Epoch 80/10000\n",
      "1/1 [==============================] - ETA: 0s - loss: 0.0763 - model_loss: 0.0623 - model_1_loss: 0.0140WARNING:tensorflow:Early stopping conditioned on metric `val_sold_price_loss` which is not available. Available metrics are: loss,model_loss,model_1_loss,val_loss,val_model_loss,val_model_1_loss\n"
     ]
    },
    {
     "name": "stderr",
     "output_type": "stream",
     "text": [
      "WARNING:tensorflow:Early stopping conditioned on metric `val_sold_price_loss` which is not available. Available metrics are: loss,model_loss,model_1_loss,val_loss,val_model_loss,val_model_1_loss\n"
     ]
    },
    {
     "name": "stdout",
     "output_type": "stream",
     "text": [
      "Weight `w_price` got updated to 0.9999999999994209.\n",
      "Weight `w_bits` got updated to 5.790887942449169e-13.\n",
      "1/1 [==============================] - 0s 64ms/step - loss: 0.0763 - model_loss: 0.0623 - model_1_loss: 0.0140 - val_loss: 0.0664 - val_model_loss: 0.0571 - val_model_1_loss: 0.0093\n",
      "Epoch 81/10000\n",
      "1/1 [==============================] - ETA: 0s - loss: 0.0664 - model_loss: 0.0571 - model_1_loss: 0.0093WARNING:tensorflow:Early stopping conditioned on metric `val_sold_price_loss` which is not available. Available metrics are: loss,model_loss,model_1_loss,val_loss,val_model_loss,val_model_1_loss\n"
     ]
    },
    {
     "name": "stderr",
     "output_type": "stream",
     "text": [
      "WARNING:tensorflow:Early stopping conditioned on metric `val_sold_price_loss` which is not available. Available metrics are: loss,model_loss,model_1_loss,val_loss,val_model_loss,val_model_1_loss\n"
     ]
    },
    {
     "name": "stdout",
     "output_type": "stream",
     "text": [
      "Weight `w_price` got updated to 0.9999999999995947.\n",
      "Weight `w_bits` got updated to 4.053621559714418e-13.\n",
      "1/1 [==============================] - 0s 62ms/step - loss: 0.0664 - model_loss: 0.0571 - model_1_loss: 0.0093 - val_loss: 0.0477 - val_model_loss: 0.0389 - val_model_1_loss: 0.0088\n",
      "Epoch 82/10000\n",
      "1/1 [==============================] - ETA: 0s - loss: 0.0477 - model_loss: 0.0389 - model_1_loss: 0.0088WARNING:tensorflow:Early stopping conditioned on metric `val_sold_price_loss` which is not available. Available metrics are: loss,model_loss,model_1_loss,val_loss,val_model_loss,val_model_1_loss\n"
     ]
    },
    {
     "name": "stderr",
     "output_type": "stream",
     "text": [
      "WARNING:tensorflow:Early stopping conditioned on metric `val_sold_price_loss` which is not available. Available metrics are: loss,model_loss,model_1_loss,val_loss,val_model_loss,val_model_1_loss\n"
     ]
    },
    {
     "name": "stdout",
     "output_type": "stream",
     "text": [
      "Weight `w_price` got updated to 0.9999999999997162.\n",
      "Weight `w_bits` got updated to 2.8375350918000927e-13.\n",
      "1/1 [==============================] - 0s 66ms/step - loss: 0.0477 - model_loss: 0.0389 - model_1_loss: 0.0088 - val_loss: 0.0490 - val_model_loss: 0.0374 - val_model_1_loss: 0.0116\n",
      "Epoch 83/10000\n",
      "1/1 [==============================] - ETA: 0s - loss: 0.0490 - model_loss: 0.0374 - model_1_loss: 0.0116WARNING:tensorflow:Early stopping conditioned on metric `val_sold_price_loss` which is not available. Available metrics are: loss,model_loss,model_1_loss,val_loss,val_model_loss,val_model_1_loss\n"
     ]
    },
    {
     "name": "stderr",
     "output_type": "stream",
     "text": [
      "WARNING:tensorflow:Early stopping conditioned on metric `val_sold_price_loss` which is not available. Available metrics are: loss,model_loss,model_1_loss,val_loss,val_model_loss,val_model_1_loss\n"
     ]
    },
    {
     "name": "stdout",
     "output_type": "stream",
     "text": [
      "Weight `w_price` got updated to 0.9999999999998014.\n",
      "Weight `w_bits` got updated to 1.9862745642600646e-13.\n",
      "1/1 [==============================] - 0s 62ms/step - loss: 0.0490 - model_loss: 0.0374 - model_1_loss: 0.0116 - val_loss: 0.0391 - val_model_loss: 0.0342 - val_model_1_loss: 0.0049\n",
      "Epoch 84/10000\n",
      "1/1 [==============================] - ETA: 0s - loss: 0.0391 - model_loss: 0.0342 - model_1_loss: 0.0049WARNING:tensorflow:Early stopping conditioned on metric `val_sold_price_loss` which is not available. Available metrics are: loss,model_loss,model_1_loss,val_loss,val_model_loss,val_model_1_loss\n"
     ]
    },
    {
     "name": "stderr",
     "output_type": "stream",
     "text": [
      "WARNING:tensorflow:Early stopping conditioned on metric `val_sold_price_loss` which is not available. Available metrics are: loss,model_loss,model_1_loss,val_loss,val_model_loss,val_model_1_loss\n"
     ]
    },
    {
     "name": "stdout",
     "output_type": "stream",
     "text": [
      "Weight `w_price` got updated to 0.999999999999861.\n",
      "Weight `w_bits` got updated to 1.3903921949820451e-13.\n",
      "1/1 [==============================] - 0s 68ms/step - loss: 0.0391 - model_loss: 0.0342 - model_1_loss: 0.0049 - val_loss: 0.0388 - val_model_loss: 0.0348 - val_model_1_loss: 0.0040\n",
      "Epoch 85/10000\n",
      "1/1 [==============================] - ETA: 0s - loss: 0.0388 - model_loss: 0.0348 - model_1_loss: 0.0040WARNING:tensorflow:Early stopping conditioned on metric `val_sold_price_loss` which is not available. Available metrics are: loss,model_loss,model_1_loss,val_loss,val_model_loss,val_model_1_loss\n"
     ]
    },
    {
     "name": "stderr",
     "output_type": "stream",
     "text": [
      "WARNING:tensorflow:Early stopping conditioned on metric `val_sold_price_loss` which is not available. Available metrics are: loss,model_loss,model_1_loss,val_loss,val_model_loss,val_model_1_loss\n"
     ]
    },
    {
     "name": "stdout",
     "output_type": "stream",
     "text": [
      "Weight `w_price` got updated to 0.9999999999999026.\n",
      "Weight `w_bits` got updated to 9.732745364874315e-14.\n",
      "1/1 [==============================] - 0s 69ms/step - loss: 0.0388 - model_loss: 0.0348 - model_1_loss: 0.0040 - val_loss: 0.0348 - val_model_loss: 0.0289 - val_model_1_loss: 0.0059\n",
      "Epoch 86/10000\n",
      "1/1 [==============================] - ETA: 0s - loss: 0.0348 - model_loss: 0.0289 - model_1_loss: 0.0059WARNING:tensorflow:Early stopping conditioned on metric `val_sold_price_loss` which is not available. Available metrics are: loss,model_loss,model_1_loss,val_loss,val_model_loss,val_model_1_loss\n"
     ]
    },
    {
     "name": "stderr",
     "output_type": "stream",
     "text": [
      "WARNING:tensorflow:Early stopping conditioned on metric `val_sold_price_loss` which is not available. Available metrics are: loss,model_loss,model_1_loss,val_loss,val_model_loss,val_model_1_loss\n"
     ]
    },
    {
     "name": "stdout",
     "output_type": "stream",
     "text": [
      "Weight `w_price` got updated to 0.9999999999999318.\n",
      "Weight `w_bits` got updated to 6.81292175541202e-14.\n",
      "1/1 [==============================] - 0s 65ms/step - loss: 0.0348 - model_loss: 0.0289 - model_1_loss: 0.0059 - val_loss: 0.0318 - val_model_loss: 0.0279 - val_model_1_loss: 0.0039\n",
      "Epoch 87/10000\n",
      "1/1 [==============================] - ETA: 0s - loss: 0.0318 - model_loss: 0.0279 - model_1_loss: 0.0039WARNING:tensorflow:Early stopping conditioned on metric `val_sold_price_loss` which is not available. Available metrics are: loss,model_loss,model_1_loss,val_loss,val_model_loss,val_model_1_loss\n"
     ]
    },
    {
     "name": "stderr",
     "output_type": "stream",
     "text": [
      "WARNING:tensorflow:Early stopping conditioned on metric `val_sold_price_loss` which is not available. Available metrics are: loss,model_loss,model_1_loss,val_loss,val_model_loss,val_model_1_loss\n"
     ]
    },
    {
     "name": "stdout",
     "output_type": "stream",
     "text": [
      "Weight `w_price` got updated to 0.9999999999999523.\n",
      "Weight `w_bits` got updated to 4.769045228788414e-14.\n",
      "1/1 [==============================] - 0s 61ms/step - loss: 0.0318 - model_loss: 0.0279 - model_1_loss: 0.0039 - val_loss: 0.0388 - val_model_loss: 0.0262 - val_model_1_loss: 0.0126\n",
      "Epoch 88/10000\n",
      "1/1 [==============================] - ETA: 0s - loss: 0.0388 - model_loss: 0.0262 - model_1_loss: 0.0126WARNING:tensorflow:Early stopping conditioned on metric `val_sold_price_loss` which is not available. Available metrics are: loss,model_loss,model_1_loss,val_loss,val_model_loss,val_model_1_loss\n"
     ]
    },
    {
     "name": "stderr",
     "output_type": "stream",
     "text": [
      "WARNING:tensorflow:Early stopping conditioned on metric `val_sold_price_loss` which is not available. Available metrics are: loss,model_loss,model_1_loss,val_loss,val_model_loss,val_model_1_loss\n"
     ]
    },
    {
     "name": "stdout",
     "output_type": "stream",
     "text": [
      "Weight `w_price` got updated to 0.9999999999999666.\n",
      "Weight `w_bits` got updated to 3.338331660151889e-14.\n",
      "1/1 [==============================] - 0s 62ms/step - loss: 0.0388 - model_loss: 0.0262 - model_1_loss: 0.0126 - val_loss: 0.0528 - val_model_loss: 0.0328 - val_model_1_loss: 0.0200\n",
      "Epoch 89/10000\n",
      "1/1 [==============================] - ETA: 0s - loss: 0.0528 - model_loss: 0.0328 - model_1_loss: 0.0200WARNING:tensorflow:Early stopping conditioned on metric `val_sold_price_loss` which is not available. Available metrics are: loss,model_loss,model_1_loss,val_loss,val_model_loss,val_model_1_loss\n"
     ]
    },
    {
     "name": "stderr",
     "output_type": "stream",
     "text": [
      "WARNING:tensorflow:Early stopping conditioned on metric `val_sold_price_loss` which is not available. Available metrics are: loss,model_loss,model_1_loss,val_loss,val_model_loss,val_model_1_loss\n"
     ]
    },
    {
     "name": "stdout",
     "output_type": "stream",
     "text": [
      "Weight `w_price` got updated to 0.9999999999999767.\n",
      "Weight `w_bits` got updated to 2.3368321621063225e-14.\n",
      "1/1 [==============================] - 0s 63ms/step - loss: 0.0528 - model_loss: 0.0328 - model_1_loss: 0.0200 - val_loss: 0.0242 - val_model_loss: 0.0210 - val_model_1_loss: 0.0032\n",
      "Epoch 90/10000\n",
      "1/1 [==============================] - ETA: 0s - loss: 0.0242 - model_loss: 0.0210 - model_1_loss: 0.0032WARNING:tensorflow:Early stopping conditioned on metric `val_sold_price_loss` which is not available. Available metrics are: loss,model_loss,model_1_loss,val_loss,val_model_loss,val_model_1_loss\n"
     ]
    },
    {
     "name": "stderr",
     "output_type": "stream",
     "text": [
      "WARNING:tensorflow:Early stopping conditioned on metric `val_sold_price_loss` which is not available. Available metrics are: loss,model_loss,model_1_loss,val_loss,val_model_loss,val_model_1_loss\n"
     ]
    },
    {
     "name": "stdout",
     "output_type": "stream",
     "text": [
      "Weight `w_price` got updated to 0.9999999999999837.\n",
      "Weight `w_bits` got updated to 1.6357825134744258e-14.\n",
      "1/1 [==============================] - 0s 67ms/step - loss: 0.0242 - model_loss: 0.0210 - model_1_loss: 0.0032 - val_loss: 0.0210 - val_model_loss: 0.0197 - val_model_1_loss: 0.0013\n",
      "Epoch 91/10000\n",
      "1/1 [==============================] - ETA: 0s - loss: 0.0210 - model_loss: 0.0197 - model_1_loss: 0.0013WARNING:tensorflow:Early stopping conditioned on metric `val_sold_price_loss` which is not available. Available metrics are: loss,model_loss,model_1_loss,val_loss,val_model_loss,val_model_1_loss\n"
     ]
    },
    {
     "name": "stderr",
     "output_type": "stream",
     "text": [
      "WARNING:tensorflow:Early stopping conditioned on metric `val_sold_price_loss` which is not available. Available metrics are: loss,model_loss,model_1_loss,val_loss,val_model_loss,val_model_1_loss\n"
     ]
    },
    {
     "name": "stdout",
     "output_type": "stream",
     "text": [
      "Weight `w_price` got updated to 0.9999999999999886.\n",
      "Weight `w_bits` got updated to 1.145047759432098e-14.\n",
      "1/1 [==============================] - 0s 69ms/step - loss: 0.0210 - model_loss: 0.0197 - model_1_loss: 0.0013 - val_loss: 0.0228 - val_model_loss: 0.0185 - val_model_1_loss: 0.0044\n",
      "Epoch 92/10000\n",
      "1/1 [==============================] - ETA: 0s - loss: 0.0228 - model_loss: 0.0185 - model_1_loss: 0.0044WARNING:tensorflow:Early stopping conditioned on metric `val_sold_price_loss` which is not available. Available metrics are: loss,model_loss,model_1_loss,val_loss,val_model_loss,val_model_1_loss\n"
     ]
    },
    {
     "name": "stderr",
     "output_type": "stream",
     "text": [
      "WARNING:tensorflow:Early stopping conditioned on metric `val_sold_price_loss` which is not available. Available metrics are: loss,model_loss,model_1_loss,val_loss,val_model_loss,val_model_1_loss\n"
     ]
    },
    {
     "name": "stdout",
     "output_type": "stream",
     "text": [
      "Weight `w_price` got updated to 0.999999999999992.\n",
      "Weight `w_bits` got updated to 8.015334316024685e-15.\n",
      "1/1 [==============================] - 0s 66ms/step - loss: 0.0228 - model_loss: 0.0185 - model_1_loss: 0.0044 - val_loss: 0.0176 - val_model_loss: 0.0164 - val_model_1_loss: 0.0012\n",
      "Epoch 93/10000\n",
      "1/1 [==============================] - ETA: 0s - loss: 0.0176 - model_loss: 0.0164 - model_1_loss: 0.0012WARNING:tensorflow:Early stopping conditioned on metric `val_sold_price_loss` which is not available. Available metrics are: loss,model_loss,model_1_loss,val_loss,val_model_loss,val_model_1_loss\n"
     ]
    },
    {
     "name": "stderr",
     "output_type": "stream",
     "text": [
      "WARNING:tensorflow:Early stopping conditioned on metric `val_sold_price_loss` which is not available. Available metrics are: loss,model_loss,model_1_loss,val_loss,val_model_loss,val_model_1_loss\n"
     ]
    },
    {
     "name": "stdout",
     "output_type": "stream",
     "text": [
      "Weight `w_price` got updated to 0.9999999999999943.\n",
      "Weight `w_bits` got updated to 5.610734021217279e-15.\n",
      "1/1 [==============================] - 0s 66ms/step - loss: 0.0176 - model_loss: 0.0164 - model_1_loss: 0.0012 - val_loss: 0.0181 - val_model_loss: 0.0171 - val_model_1_loss: 0.0010\n",
      "Epoch 94/10000\n",
      "1/1 [==============================] - ETA: 0s - loss: 0.0181 - model_loss: 0.0171 - model_1_loss: 0.0010WARNING:tensorflow:Early stopping conditioned on metric `val_sold_price_loss` which is not available. Available metrics are: loss,model_loss,model_1_loss,val_loss,val_model_loss,val_model_1_loss\n"
     ]
    },
    {
     "name": "stderr",
     "output_type": "stream",
     "text": [
      "WARNING:tensorflow:Early stopping conditioned on metric `val_sold_price_loss` which is not available. Available metrics are: loss,model_loss,model_1_loss,val_loss,val_model_loss,val_model_1_loss\n"
     ]
    },
    {
     "name": "stdout",
     "output_type": "stream",
     "text": [
      "Weight `w_price` got updated to 0.9999999999999961.\n",
      "Weight `w_bits` got updated to 3.927513814852095e-15.\n",
      "1/1 [==============================] - 0s 61ms/step - loss: 0.0181 - model_loss: 0.0171 - model_1_loss: 0.0010 - val_loss: 0.0151 - val_model_loss: 0.0143 - val_model_1_loss: 8.2636e-04\n",
      "Epoch 95/10000\n",
      "1/1 [==============================] - ETA: 0s - loss: 0.0151 - model_loss: 0.0143 - model_1_loss: 8.2636e-04WARNING:tensorflow:Early stopping conditioned on metric `val_sold_price_loss` which is not available. Available metrics are: loss,model_loss,model_1_loss,val_loss,val_model_loss,val_model_1_loss\n"
     ]
    },
    {
     "name": "stderr",
     "output_type": "stream",
     "text": [
      "WARNING:tensorflow:Early stopping conditioned on metric `val_sold_price_loss` which is not available. Available metrics are: loss,model_loss,model_1_loss,val_loss,val_model_loss,val_model_1_loss\n"
     ]
    },
    {
     "name": "stdout",
     "output_type": "stream",
     "text": [
      "Weight `w_price` got updated to 0.9999999999999972.\n",
      "Weight `w_bits` got updated to 2.749259670396466e-15.\n",
      "1/1 [==============================] - 0s 64ms/step - loss: 0.0151 - model_loss: 0.0143 - model_1_loss: 8.2636e-04 - val_loss: 0.0132 - val_model_loss: 0.0129 - val_model_1_loss: 3.5611e-04\n",
      "Epoch 96/10000\n",
      "1/1 [==============================] - ETA: 0s - loss: 0.0132 - model_loss: 0.0129 - model_1_loss: 3.5611e-04WARNING:tensorflow:Early stopping conditioned on metric `val_sold_price_loss` which is not available. Available metrics are: loss,model_loss,model_1_loss,val_loss,val_model_loss,val_model_1_loss\n"
     ]
    },
    {
     "name": "stderr",
     "output_type": "stream",
     "text": [
      "WARNING:tensorflow:Early stopping conditioned on metric `val_sold_price_loss` which is not available. Available metrics are: loss,model_loss,model_1_loss,val_loss,val_model_loss,val_model_1_loss\n"
     ]
    },
    {
     "name": "stdout",
     "output_type": "stream",
     "text": [
      "Weight `w_price` got updated to 0.9999999999999981.\n",
      "Weight `w_bits` got updated to 1.9244817692775262e-15.\n",
      "1/1 [==============================] - 0s 63ms/step - loss: 0.0132 - model_loss: 0.0129 - model_1_loss: 3.5611e-04 - val_loss: 0.0122 - val_model_loss: 0.0121 - val_model_1_loss: 4.5346e-05\n",
      "Epoch 97/10000\n",
      "1/1 [==============================] - ETA: 0s - loss: 0.0122 - model_loss: 0.0121 - model_1_loss: 4.5346e-05WARNING:tensorflow:Early stopping conditioned on metric `val_sold_price_loss` which is not available. Available metrics are: loss,model_loss,model_1_loss,val_loss,val_model_loss,val_model_1_loss\n"
     ]
    },
    {
     "name": "stderr",
     "output_type": "stream",
     "text": [
      "WARNING:tensorflow:Early stopping conditioned on metric `val_sold_price_loss` which is not available. Available metrics are: loss,model_loss,model_1_loss,val_loss,val_model_loss,val_model_1_loss\n"
     ]
    },
    {
     "name": "stdout",
     "output_type": "stream",
     "text": [
      "Weight `w_price` got updated to 0.9999999999999987.\n",
      "Weight `w_bits` got updated to 1.3471372384942684e-15.\n",
      "1/1 [==============================] - 0s 61ms/step - loss: 0.0122 - model_loss: 0.0121 - model_1_loss: 4.5346e-05 - val_loss: 0.0123 - val_model_loss: 0.0122 - val_model_1_loss: 3.9291e-05\n",
      "Epoch 98/10000\n",
      "1/1 [==============================] - ETA: 0s - loss: 0.0123 - model_loss: 0.0122 - model_1_loss: 3.9291e-05WARNING:tensorflow:Early stopping conditioned on metric `val_sold_price_loss` which is not available. Available metrics are: loss,model_loss,model_1_loss,val_loss,val_model_loss,val_model_1_loss\n"
     ]
    },
    {
     "name": "stderr",
     "output_type": "stream",
     "text": [
      "WARNING:tensorflow:Early stopping conditioned on metric `val_sold_price_loss` which is not available. Available metrics are: loss,model_loss,model_1_loss,val_loss,val_model_loss,val_model_1_loss\n"
     ]
    },
    {
     "name": "stdout",
     "output_type": "stream",
     "text": [
      "Weight `w_price` got updated to 0.9999999999999991.\n",
      "Weight `w_bits` got updated to 9.429960669459878e-16.\n",
      "1/1 [==============================] - 0s 60ms/step - loss: 0.0123 - model_loss: 0.0122 - model_1_loss: 3.9291e-05 - val_loss: 0.0119 - val_model_loss: 0.0117 - val_model_1_loss: 2.7572e-04\n",
      "Epoch 99/10000\n",
      "1/1 [==============================] - ETA: 0s - loss: 0.0119 - model_loss: 0.0117 - model_1_loss: 2.7572e-04WARNING:tensorflow:Early stopping conditioned on metric `val_sold_price_loss` which is not available. Available metrics are: loss,model_loss,model_1_loss,val_loss,val_model_loss,val_model_1_loss\n"
     ]
    },
    {
     "name": "stderr",
     "output_type": "stream",
     "text": [
      "WARNING:tensorflow:Early stopping conditioned on metric `val_sold_price_loss` which is not available. Available metrics are: loss,model_loss,model_1_loss,val_loss,val_model_loss,val_model_1_loss\n"
     ]
    },
    {
     "name": "stdout",
     "output_type": "stream",
     "text": [
      "Weight `w_price` got updated to 0.9999999999999993.\n",
      "Weight `w_bits` got updated to 6.600972468621914e-16.\n",
      "1/1 [==============================] - 0s 61ms/step - loss: 0.0119 - model_loss: 0.0117 - model_1_loss: 2.7572e-04 - val_loss: 0.0114 - val_model_loss: 0.0109 - val_model_1_loss: 4.6033e-04\n",
      "Epoch 100/10000\n",
      "1/1 [==============================] - ETA: 0s - loss: 0.0114 - model_loss: 0.0109 - model_1_loss: 4.6033e-04WARNING:tensorflow:Early stopping conditioned on metric `val_sold_price_loss` which is not available. Available metrics are: loss,model_loss,model_1_loss,val_loss,val_model_loss,val_model_1_loss\n"
     ]
    },
    {
     "name": "stderr",
     "output_type": "stream",
     "text": [
      "WARNING:tensorflow:Early stopping conditioned on metric `val_sold_price_loss` which is not available. Available metrics are: loss,model_loss,model_1_loss,val_loss,val_model_loss,val_model_1_loss\n"
     ]
    },
    {
     "name": "stdout",
     "output_type": "stream",
     "text": [
      "Weight `w_price` got updated to 0.9999999999999996.\n",
      "Weight `w_bits` got updated to 4.620680728035339e-16.\n",
      "1/1 [==============================] - 0s 63ms/step - loss: 0.0114 - model_loss: 0.0109 - model_1_loss: 4.6033e-04 - val_loss: 0.0098 - val_model_loss: 0.0097 - val_model_1_loss: 7.3717e-05\n",
      "Epoch 101/10000\n",
      "1/1 [==============================] - ETA: 0s - loss: 0.0098 - model_loss: 0.0097 - model_1_loss: 7.3717e-05WARNING:tensorflow:Early stopping conditioned on metric `val_sold_price_loss` which is not available. Available metrics are: loss,model_loss,model_1_loss,val_loss,val_model_loss,val_model_1_loss\n"
     ]
    },
    {
     "name": "stderr",
     "output_type": "stream",
     "text": [
      "WARNING:tensorflow:Early stopping conditioned on metric `val_sold_price_loss` which is not available. Available metrics are: loss,model_loss,model_1_loss,val_loss,val_model_loss,val_model_1_loss\n"
     ]
    },
    {
     "name": "stdout",
     "output_type": "stream",
     "text": [
      "Weight `w_price` got updated to 0.9999999999999997.\n",
      "Weight `w_bits` got updated to 3.2344765096247375e-16.\n",
      "1/1 [==============================] - 0s 61ms/step - loss: 0.0098 - model_loss: 0.0097 - model_1_loss: 7.3717e-05 - val_loss: 0.0097 - val_model_loss: 0.0092 - val_model_1_loss: 4.8503e-04\n",
      "Epoch 102/10000\n",
      "1/1 [==============================] - ETA: 0s - loss: 0.0097 - model_loss: 0.0092 - model_1_loss: 4.8503e-04WARNING:tensorflow:Early stopping conditioned on metric `val_sold_price_loss` which is not available. Available metrics are: loss,model_loss,model_1_loss,val_loss,val_model_loss,val_model_1_loss\n"
     ]
    },
    {
     "name": "stderr",
     "output_type": "stream",
     "text": [
      "WARNING:tensorflow:Early stopping conditioned on metric `val_sold_price_loss` which is not available. Available metrics are: loss,model_loss,model_1_loss,val_loss,val_model_loss,val_model_1_loss\n"
     ]
    },
    {
     "name": "stdout",
     "output_type": "stream",
     "text": [
      "Weight `w_price` got updated to 0.9999999999999998.\n",
      "Weight `w_bits` got updated to 2.264133556737316e-16.\n",
      "1/1 [==============================] - 0s 64ms/step - loss: 0.0097 - model_loss: 0.0092 - model_1_loss: 4.8503e-04 - val_loss: 0.0084 - val_model_loss: 0.0082 - val_model_1_loss: 1.6928e-04\n",
      "Epoch 103/10000\n",
      "1/1 [==============================] - ETA: 0s - loss: 0.0084 - model_loss: 0.0082 - model_1_loss: 1.6928e-04WARNING:tensorflow:Early stopping conditioned on metric `val_sold_price_loss` which is not available. Available metrics are: loss,model_loss,model_1_loss,val_loss,val_model_loss,val_model_1_loss\n"
     ]
    },
    {
     "name": "stderr",
     "output_type": "stream",
     "text": [
      "WARNING:tensorflow:Early stopping conditioned on metric `val_sold_price_loss` which is not available. Available metrics are: loss,model_loss,model_1_loss,val_loss,val_model_loss,val_model_1_loss\n"
     ]
    },
    {
     "name": "stdout",
     "output_type": "stream",
     "text": [
      "Weight `w_price` got updated to 0.9999999999999999.\n",
      "Weight `w_bits` got updated to 1.584893489716121e-16.\n",
      "1/1 [==============================] - 0s 65ms/step - loss: 0.0084 - model_loss: 0.0082 - model_1_loss: 1.6928e-04 - val_loss: 0.0075 - val_model_loss: 0.0075 - val_model_1_loss: 6.5694e-06\n",
      "Epoch 104/10000\n",
      "1/1 [==============================] - ETA: 0s - loss: 0.0075 - model_loss: 0.0075 - model_1_loss: 6.5694e-06WARNING:tensorflow:Early stopping conditioned on metric `val_sold_price_loss` which is not available. Available metrics are: loss,model_loss,model_1_loss,val_loss,val_model_loss,val_model_1_loss\n"
     ]
    },
    {
     "name": "stderr",
     "output_type": "stream",
     "text": [
      "WARNING:tensorflow:Early stopping conditioned on metric `val_sold_price_loss` which is not available. Available metrics are: loss,model_loss,model_1_loss,val_loss,val_model_loss,val_model_1_loss\n"
     ]
    },
    {
     "name": "stdout",
     "output_type": "stream",
     "text": [
      "Weight `w_price` got updated to 0.9999999999999999.\n",
      "Weight `w_bits` got updated to 1.1094254428012848e-16.\n",
      "1/1 [==============================] - 0s 62ms/step - loss: 0.0075 - model_loss: 0.0075 - model_1_loss: 6.5694e-06 - val_loss: 0.0073 - val_model_loss: 0.0072 - val_model_1_loss: 1.4798e-04\n",
      "Epoch 105/10000\n",
      "1/1 [==============================] - ETA: 0s - loss: 0.0073 - model_loss: 0.0072 - model_1_loss: 1.4798e-04WARNING:tensorflow:Early stopping conditioned on metric `val_sold_price_loss` which is not available. Available metrics are: loss,model_loss,model_1_loss,val_loss,val_model_loss,val_model_1_loss\n"
     ]
    },
    {
     "name": "stderr",
     "output_type": "stream",
     "text": [
      "WARNING:tensorflow:Early stopping conditioned on metric `val_sold_price_loss` which is not available. Available metrics are: loss,model_loss,model_1_loss,val_loss,val_model_loss,val_model_1_loss\n"
     ]
    },
    {
     "name": "stdout",
     "output_type": "stream",
     "text": [
      "Weight `w_price` got updated to 0.9999999999999999.\n",
      "Weight `w_bits` got updated to 7.765978099608992e-17.\n",
      "1/1 [==============================] - 0s 66ms/step - loss: 0.0073 - model_loss: 0.0072 - model_1_loss: 1.4798e-04 - val_loss: 0.0068 - val_model_loss: 0.0067 - val_model_1_loss: 1.0250e-04\n",
      "Epoch 106/10000\n",
      "1/1 [==============================] - ETA: 0s - loss: 0.0068 - model_loss: 0.0067 - model_1_loss: 1.0250e-04WARNING:tensorflow:Early stopping conditioned on metric `val_sold_price_loss` which is not available. Available metrics are: loss,model_loss,model_1_loss,val_loss,val_model_loss,val_model_1_loss\n"
     ]
    },
    {
     "name": "stderr",
     "output_type": "stream",
     "text": [
      "WARNING:tensorflow:Early stopping conditioned on metric `val_sold_price_loss` which is not available. Available metrics are: loss,model_loss,model_1_loss,val_loss,val_model_loss,val_model_1_loss\n"
     ]
    },
    {
     "name": "stdout",
     "output_type": "stream",
     "text": [
      "Weight `w_price` got updated to 1.0.\n",
      "Weight `w_bits` got updated to 5.436184669726294e-17.\n",
      "1/1 [==============================] - 0s 67ms/step - loss: 0.0068 - model_loss: 0.0067 - model_1_loss: 1.0250e-04 - val_loss: 0.0062 - val_model_loss: 0.0062 - val_model_1_loss: 2.4282e-05\n",
      "Epoch 107/10000\n",
      "1/1 [==============================] - ETA: 0s - loss: 0.0062 - model_loss: 0.0062 - model_1_loss: 2.4282e-05WARNING:tensorflow:Early stopping conditioned on metric `val_sold_price_loss` which is not available. Available metrics are: loss,model_loss,model_1_loss,val_loss,val_model_loss,val_model_1_loss\n"
     ]
    },
    {
     "name": "stderr",
     "output_type": "stream",
     "text": [
      "WARNING:tensorflow:Early stopping conditioned on metric `val_sold_price_loss` which is not available. Available metrics are: loss,model_loss,model_1_loss,val_loss,val_model_loss,val_model_1_loss\n"
     ]
    },
    {
     "name": "stdout",
     "output_type": "stream",
     "text": [
      "Weight `w_price` got updated to 1.0.\n",
      "Weight `w_bits` got updated to 3.805329268808406e-17.\n",
      "1/1 [==============================] - 0s 66ms/step - loss: 0.0062 - model_loss: 0.0062 - model_1_loss: 2.4282e-05 - val_loss: 0.0057 - val_model_loss: 0.0057 - val_model_1_loss: 4.9125e-06\n",
      "Epoch 108/10000\n",
      "1/1 [==============================] - ETA: 0s - loss: 0.0057 - model_loss: 0.0057 - model_1_loss: 4.9125e-06WARNING:tensorflow:Early stopping conditioned on metric `val_sold_price_loss` which is not available. Available metrics are: loss,model_loss,model_1_loss,val_loss,val_model_loss,val_model_1_loss\n"
     ]
    },
    {
     "name": "stderr",
     "output_type": "stream",
     "text": [
      "WARNING:tensorflow:Early stopping conditioned on metric `val_sold_price_loss` which is not available. Available metrics are: loss,model_loss,model_1_loss,val_loss,val_model_loss,val_model_1_loss\n"
     ]
    },
    {
     "name": "stdout",
     "output_type": "stream",
     "text": [
      "Weight `w_price` got updated to 1.0.\n",
      "Weight `w_bits` got updated to 2.663730488165884e-17.\n",
      "1/1 [==============================] - 0s 62ms/step - loss: 0.0057 - model_loss: 0.0057 - model_1_loss: 4.9125e-06 - val_loss: 0.0053 - val_model_loss: 0.0053 - val_model_1_loss: 5.2070e-06\n",
      "Epoch 109/10000\n",
      "1/1 [==============================] - ETA: 0s - loss: 0.0053 - model_loss: 0.0053 - model_1_loss: 5.2070e-06WARNING:tensorflow:Early stopping conditioned on metric `val_sold_price_loss` which is not available. Available metrics are: loss,model_loss,model_1_loss,val_loss,val_model_loss,val_model_1_loss\n"
     ]
    },
    {
     "name": "stderr",
     "output_type": "stream",
     "text": [
      "WARNING:tensorflow:Early stopping conditioned on metric `val_sold_price_loss` which is not available. Available metrics are: loss,model_loss,model_1_loss,val_loss,val_model_loss,val_model_1_loss\n"
     ]
    },
    {
     "name": "stdout",
     "output_type": "stream",
     "text": [
      "Weight `w_price` got updated to 1.0.\n",
      "Weight `w_bits` got updated to 1.8646113417161186e-17.\n",
      "1/1 [==============================] - 0s 62ms/step - loss: 0.0053 - model_loss: 0.0053 - model_1_loss: 5.2070e-06 - val_loss: 0.0049 - val_model_loss: 0.0049 - val_model_1_loss: 5.9042e-06\n",
      "Epoch 110/10000\n",
      "1/1 [==============================] - ETA: 0s - loss: 0.0049 - model_loss: 0.0049 - model_1_loss: 5.9042e-06WARNING:tensorflow:Early stopping conditioned on metric `val_sold_price_loss` which is not available. Available metrics are: loss,model_loss,model_1_loss,val_loss,val_model_loss,val_model_1_loss\n"
     ]
    },
    {
     "name": "stderr",
     "output_type": "stream",
     "text": [
      "WARNING:tensorflow:Early stopping conditioned on metric `val_sold_price_loss` which is not available. Available metrics are: loss,model_loss,model_1_loss,val_loss,val_model_loss,val_model_1_loss\n"
     ]
    },
    {
     "name": "stdout",
     "output_type": "stream",
     "text": [
      "Weight `w_price` got updated to 1.0.\n",
      "Weight `w_bits` got updated to 1.305227939201283e-17.\n",
      "1/1 [==============================] - 0s 61ms/step - loss: 0.0049 - model_loss: 0.0049 - model_1_loss: 5.9042e-06 - val_loss: 0.0046 - val_model_loss: 0.0046 - val_model_1_loss: 3.8004e-06\n",
      "Epoch 111/10000\n",
      "1/1 [==============================] - ETA: 0s - loss: 0.0046 - model_loss: 0.0046 - model_1_loss: 3.8004e-06WARNING:tensorflow:Early stopping conditioned on metric `val_sold_price_loss` which is not available. Available metrics are: loss,model_loss,model_1_loss,val_loss,val_model_loss,val_model_1_loss\n"
     ]
    },
    {
     "name": "stderr",
     "output_type": "stream",
     "text": [
      "WARNING:tensorflow:Early stopping conditioned on metric `val_sold_price_loss` which is not available. Available metrics are: loss,model_loss,model_1_loss,val_loss,val_model_loss,val_model_1_loss\n"
     ]
    },
    {
     "name": "stdout",
     "output_type": "stream",
     "text": [
      "Weight `w_price` got updated to 1.0.\n",
      "Weight `w_bits` got updated to 9.136595574408981e-18.\n",
      "1/1 [==============================] - 0s 60ms/step - loss: 0.0046 - model_loss: 0.0046 - model_1_loss: 3.8004e-06 - val_loss: 0.0044 - val_model_loss: 0.0044 - val_model_1_loss: 2.5062e-06\n",
      "Epoch 112/10000\n",
      "1/1 [==============================] - ETA: 0s - loss: 0.0044 - model_loss: 0.0044 - model_1_loss: 2.5062e-06WARNING:tensorflow:Early stopping conditioned on metric `val_sold_price_loss` which is not available. Available metrics are: loss,model_loss,model_1_loss,val_loss,val_model_loss,val_model_1_loss\n"
     ]
    },
    {
     "name": "stderr",
     "output_type": "stream",
     "text": [
      "WARNING:tensorflow:Early stopping conditioned on metric `val_sold_price_loss` which is not available. Available metrics are: loss,model_loss,model_1_loss,val_loss,val_model_loss,val_model_1_loss\n"
     ]
    },
    {
     "name": "stdout",
     "output_type": "stream",
     "text": [
      "Weight `w_price` got updated to 1.0.\n",
      "Weight `w_bits` got updated to 6.395616902086286e-18.\n",
      "1/1 [==============================] - 0s 63ms/step - loss: 0.0044 - model_loss: 0.0044 - model_1_loss: 2.5062e-06 - val_loss: 0.0042 - val_model_loss: 0.0042 - val_model_1_loss: 1.9567e-06\n",
      "Epoch 113/10000\n",
      "1/1 [==============================] - ETA: 0s - loss: 0.0042 - model_loss: 0.0042 - model_1_loss: 1.9567e-06WARNING:tensorflow:Early stopping conditioned on metric `val_sold_price_loss` which is not available. Available metrics are: loss,model_loss,model_1_loss,val_loss,val_model_loss,val_model_1_loss\n"
     ]
    },
    {
     "name": "stderr",
     "output_type": "stream",
     "text": [
      "WARNING:tensorflow:Early stopping conditioned on metric `val_sold_price_loss` which is not available. Available metrics are: loss,model_loss,model_1_loss,val_loss,val_model_loss,val_model_1_loss\n"
     ]
    },
    {
     "name": "stdout",
     "output_type": "stream",
     "text": [
      "Weight `w_price` got updated to 1.0.\n",
      "Weight `w_bits` got updated to 4.4769318314604e-18.\n",
      "1/1 [==============================] - 0s 63ms/step - loss: 0.0042 - model_loss: 0.0042 - model_1_loss: 1.9567e-06 - val_loss: 0.0039 - val_model_loss: 0.0039 - val_model_1_loss: 5.1790e-06\n",
      "Epoch 114/10000\n",
      "1/1 [==============================] - ETA: 0s - loss: 0.0039 - model_loss: 0.0039 - model_1_loss: 5.1790e-06WARNING:tensorflow:Early stopping conditioned on metric `val_sold_price_loss` which is not available. Available metrics are: loss,model_loss,model_1_loss,val_loss,val_model_loss,val_model_1_loss\n"
     ]
    },
    {
     "name": "stderr",
     "output_type": "stream",
     "text": [
      "WARNING:tensorflow:Early stopping conditioned on metric `val_sold_price_loss` which is not available. Available metrics are: loss,model_loss,model_1_loss,val_loss,val_model_loss,val_model_1_loss\n"
     ]
    },
    {
     "name": "stdout",
     "output_type": "stream",
     "text": [
      "Weight `w_price` got updated to 1.0.\n",
      "Weight `w_bits` got updated to 3.1338522820222798e-18.\n",
      "1/1 [==============================] - 0s 61ms/step - loss: 0.0039 - model_loss: 0.0039 - model_1_loss: 5.1790e-06 - val_loss: 0.0036 - val_model_loss: 0.0036 - val_model_1_loss: 1.4323e-05\n",
      "Epoch 115/10000\n",
      "1/1 [==============================] - ETA: 0s - loss: 0.0036 - model_loss: 0.0036 - model_1_loss: 1.4323e-05WARNING:tensorflow:Early stopping conditioned on metric `val_sold_price_loss` which is not available. Available metrics are: loss,model_loss,model_1_loss,val_loss,val_model_loss,val_model_1_loss\n"
     ]
    },
    {
     "name": "stderr",
     "output_type": "stream",
     "text": [
      "WARNING:tensorflow:Early stopping conditioned on metric `val_sold_price_loss` which is not available. Available metrics are: loss,model_loss,model_1_loss,val_loss,val_model_loss,val_model_1_loss\n"
     ]
    },
    {
     "name": "stdout",
     "output_type": "stream",
     "text": [
      "Weight `w_price` got updated to 1.0.\n",
      "Weight `w_bits` got updated to 2.1936965974155957e-18.\n",
      "1/1 [==============================] - 0s 63ms/step - loss: 0.0036 - model_loss: 0.0036 - model_1_loss: 1.4323e-05 - val_loss: 0.0034 - val_model_loss: 0.0033 - val_model_1_loss: 2.0554e-05\n",
      "Epoch 116/10000\n",
      "1/1 [==============================] - ETA: 0s - loss: 0.0034 - model_loss: 0.0033 - model_1_loss: 2.0554e-05WARNING:tensorflow:Early stopping conditioned on metric `val_sold_price_loss` which is not available. Available metrics are: loss,model_loss,model_1_loss,val_loss,val_model_loss,val_model_1_loss\n"
     ]
    },
    {
     "name": "stderr",
     "output_type": "stream",
     "text": [
      "WARNING:tensorflow:Early stopping conditioned on metric `val_sold_price_loss` which is not available. Available metrics are: loss,model_loss,model_1_loss,val_loss,val_model_loss,val_model_1_loss\n"
     ]
    },
    {
     "name": "stdout",
     "output_type": "stream",
     "text": [
      "Weight `w_price` got updated to 1.0.\n",
      "Weight `w_bits` got updated to 1.5355876181909169e-18.\n",
      "1/1 [==============================] - 0s 67ms/step - loss: 0.0034 - model_loss: 0.0033 - model_1_loss: 2.0554e-05 - val_loss: 0.0031 - val_model_loss: 0.0031 - val_model_1_loss: 1.5141e-05\n",
      "Epoch 117/10000\n",
      "1/1 [==============================] - ETA: 0s - loss: 0.0031 - model_loss: 0.0031 - model_1_loss: 1.5141e-05WARNING:tensorflow:Early stopping conditioned on metric `val_sold_price_loss` which is not available. Available metrics are: loss,model_loss,model_1_loss,val_loss,val_model_loss,val_model_1_loss\n"
     ]
    },
    {
     "name": "stderr",
     "output_type": "stream",
     "text": [
      "WARNING:tensorflow:Early stopping conditioned on metric `val_sold_price_loss` which is not available. Available metrics are: loss,model_loss,model_1_loss,val_loss,val_model_loss,val_model_1_loss\n"
     ]
    },
    {
     "name": "stdout",
     "output_type": "stream",
     "text": [
      "Weight `w_price` got updated to 1.0.\n",
      "Weight `w_bits` got updated to 1.0749113327336418e-18.\n",
      "1/1 [==============================] - 0s 62ms/step - loss: 0.0031 - model_loss: 0.0031 - model_1_loss: 1.5141e-05 - val_loss: 0.0029 - val_model_loss: 0.0029 - val_model_1_loss: 6.2824e-06\n",
      "Epoch 118/10000\n",
      "1/1 [==============================] - ETA: 0s - loss: 0.0029 - model_loss: 0.0029 - model_1_loss: 6.2824e-06WARNING:tensorflow:Early stopping conditioned on metric `val_sold_price_loss` which is not available. Available metrics are: loss,model_loss,model_1_loss,val_loss,val_model_loss,val_model_1_loss\n"
     ]
    },
    {
     "name": "stderr",
     "output_type": "stream",
     "text": [
      "WARNING:tensorflow:Early stopping conditioned on metric `val_sold_price_loss` which is not available. Available metrics are: loss,model_loss,model_1_loss,val_loss,val_model_loss,val_model_1_loss\n"
     ]
    },
    {
     "name": "stdout",
     "output_type": "stream",
     "text": [
      "Weight `w_price` got updated to 1.0.\n",
      "Weight `w_bits` got updated to 7.524379329135491e-19.\n",
      "1/1 [==============================] - 0s 62ms/step - loss: 0.0029 - model_loss: 0.0029 - model_1_loss: 6.2824e-06 - val_loss: 0.0027 - val_model_loss: 0.0027 - val_model_1_loss: 2.3299e-06\n",
      "Epoch 119/10000\n",
      "1/1 [==============================] - ETA: 0s - loss: 0.0027 - model_loss: 0.0027 - model_1_loss: 2.3299e-06WARNING:tensorflow:Early stopping conditioned on metric `val_sold_price_loss` which is not available. Available metrics are: loss,model_loss,model_1_loss,val_loss,val_model_loss,val_model_1_loss\n"
     ]
    },
    {
     "name": "stderr",
     "output_type": "stream",
     "text": [
      "WARNING:tensorflow:Early stopping conditioned on metric `val_sold_price_loss` which is not available. Available metrics are: loss,model_loss,model_1_loss,val_loss,val_model_loss,val_model_1_loss\n"
     ]
    },
    {
     "name": "stdout",
     "output_type": "stream",
     "text": [
      "Weight `w_price` got updated to 1.0.\n",
      "Weight `w_bits` got updated to 5.267065530394844e-19.\n",
      "1/1 [==============================] - 0s 64ms/step - loss: 0.0027 - model_loss: 0.0027 - model_1_loss: 2.3299e-06 - val_loss: 0.0026 - val_model_loss: 0.0026 - val_model_1_loss: 6.0916e-06\n",
      "Epoch 120/10000\n",
      "1/1 [==============================] - ETA: 0s - loss: 0.0026 - model_loss: 0.0026 - model_1_loss: 6.0916e-06WARNING:tensorflow:Early stopping conditioned on metric `val_sold_price_loss` which is not available. Available metrics are: loss,model_loss,model_1_loss,val_loss,val_model_loss,val_model_1_loss\n"
     ]
    },
    {
     "name": "stderr",
     "output_type": "stream",
     "text": [
      "WARNING:tensorflow:Early stopping conditioned on metric `val_sold_price_loss` which is not available. Available metrics are: loss,model_loss,model_1_loss,val_loss,val_model_loss,val_model_1_loss\n"
     ]
    },
    {
     "name": "stdout",
     "output_type": "stream",
     "text": [
      "Weight `w_price` got updated to 1.0.\n",
      "Weight `w_bits` got updated to 3.6869458712763904e-19.\n",
      "1/1 [==============================] - 0s 65ms/step - loss: 0.0026 - model_loss: 0.0026 - model_1_loss: 6.0916e-06 - val_loss: 0.0025 - val_model_loss: 0.0024 - val_model_1_loss: 1.3381e-05\n",
      "Epoch 121/10000\n",
      "1/1 [==============================] - ETA: 0s - loss: 0.0025 - model_loss: 0.0024 - model_1_loss: 1.3381e-05WARNING:tensorflow:Early stopping conditioned on metric `val_sold_price_loss` which is not available. Available metrics are: loss,model_loss,model_1_loss,val_loss,val_model_loss,val_model_1_loss\n"
     ]
    },
    {
     "name": "stderr",
     "output_type": "stream",
     "text": [
      "WARNING:tensorflow:Early stopping conditioned on metric `val_sold_price_loss` which is not available. Available metrics are: loss,model_loss,model_1_loss,val_loss,val_model_loss,val_model_1_loss\n"
     ]
    },
    {
     "name": "stdout",
     "output_type": "stream",
     "text": [
      "Weight `w_price` got updated to 1.0.\n",
      "Weight `w_bits` got updated to 2.580862109893473e-19.\n",
      "1/1 [==============================] - 0s 62ms/step - loss: 0.0025 - model_loss: 0.0024 - model_1_loss: 1.3381e-05 - val_loss: 0.0023 - val_model_loss: 0.0023 - val_model_1_loss: 2.0111e-05\n",
      "Epoch 122/10000\n",
      "1/1 [==============================] - ETA: 0s - loss: 0.0023 - model_loss: 0.0023 - model_1_loss: 2.0111e-05WARNING:tensorflow:Early stopping conditioned on metric `val_sold_price_loss` which is not available. Available metrics are: loss,model_loss,model_1_loss,val_loss,val_model_loss,val_model_1_loss\n"
     ]
    },
    {
     "name": "stderr",
     "output_type": "stream",
     "text": [
      "WARNING:tensorflow:Early stopping conditioned on metric `val_sold_price_loss` which is not available. Available metrics are: loss,model_loss,model_1_loss,val_loss,val_model_loss,val_model_1_loss\n"
     ]
    },
    {
     "name": "stdout",
     "output_type": "stream",
     "text": [
      "Weight `w_price` got updated to 1.0.\n",
      "Weight `w_bits` got updated to 1.806603476925431e-19.\n",
      "1/1 [==============================] - 0s 62ms/step - loss: 0.0023 - model_loss: 0.0023 - model_1_loss: 2.0111e-05 - val_loss: 0.0022 - val_model_loss: 0.0022 - val_model_1_loss: 2.0947e-05\n",
      "Epoch 123/10000\n",
      "1/1 [==============================] - ETA: 0s - loss: 0.0022 - model_loss: 0.0022 - model_1_loss: 2.0947e-05WARNING:tensorflow:Early stopping conditioned on metric `val_sold_price_loss` which is not available. Available metrics are: loss,model_loss,model_1_loss,val_loss,val_model_loss,val_model_1_loss\n"
     ]
    },
    {
     "name": "stderr",
     "output_type": "stream",
     "text": [
      "WARNING:tensorflow:Early stopping conditioned on metric `val_sold_price_loss` which is not available. Available metrics are: loss,model_loss,model_1_loss,val_loss,val_model_loss,val_model_1_loss\n"
     ]
    },
    {
     "name": "stdout",
     "output_type": "stream",
     "text": [
      "Weight `w_price` got updated to 1.0.\n",
      "Weight `w_bits` got updated to 1.2646224338478017e-19.\n",
      "1/1 [==============================] - 0s 63ms/step - loss: 0.0022 - model_loss: 0.0022 - model_1_loss: 2.0947e-05 - val_loss: 0.0021 - val_model_loss: 0.0021 - val_model_1_loss: 1.6830e-05\n",
      "Epoch 124/10000\n",
      "1/1 [==============================] - ETA: 0s - loss: 0.0021 - model_loss: 0.0021 - model_1_loss: 1.6830e-05WARNING:tensorflow:Early stopping conditioned on metric `val_sold_price_loss` which is not available. Available metrics are: loss,model_loss,model_1_loss,val_loss,val_model_loss,val_model_1_loss\n"
     ]
    },
    {
     "name": "stderr",
     "output_type": "stream",
     "text": [
      "WARNING:tensorflow:Early stopping conditioned on metric `val_sold_price_loss` which is not available. Available metrics are: loss,model_loss,model_1_loss,val_loss,val_model_loss,val_model_1_loss\n"
     ]
    },
    {
     "name": "stdout",
     "output_type": "stream",
     "text": [
      "Weight `w_price` got updated to 1.0.\n",
      "Weight `w_bits` got updated to 8.852357036934611e-20.\n",
      "1/1 [==============================] - 0s 63ms/step - loss: 0.0021 - model_loss: 0.0021 - model_1_loss: 1.6830e-05 - val_loss: 0.0020 - val_model_loss: 0.0020 - val_model_1_loss: 9.7585e-06\n",
      "Epoch 125/10000\n",
      "1/1 [==============================] - ETA: 0s - loss: 0.0020 - model_loss: 0.0020 - model_1_loss: 9.7585e-06WARNING:tensorflow:Early stopping conditioned on metric `val_sold_price_loss` which is not available. Available metrics are: loss,model_loss,model_1_loss,val_loss,val_model_loss,val_model_1_loss\n"
     ]
    },
    {
     "name": "stderr",
     "output_type": "stream",
     "text": [
      "WARNING:tensorflow:Early stopping conditioned on metric `val_sold_price_loss` which is not available. Available metrics are: loss,model_loss,model_1_loss,val_loss,val_model_loss,val_model_1_loss\n"
     ]
    },
    {
     "name": "stdout",
     "output_type": "stream",
     "text": [
      "Weight `w_price` got updated to 1.0.\n",
      "Weight `w_bits` got updated to 6.196649925854227e-20.\n",
      "1/1 [==============================] - 0s 60ms/step - loss: 0.0020 - model_loss: 0.0020 - model_1_loss: 9.7585e-06 - val_loss: 0.0019 - val_model_loss: 0.0019 - val_model_1_loss: 4.0597e-06\n",
      "Epoch 126/10000\n",
      "1/1 [==============================] - ETA: 0s - loss: 0.0019 - model_loss: 0.0019 - model_1_loss: 4.0597e-06WARNING:tensorflow:Early stopping conditioned on metric `val_sold_price_loss` which is not available. Available metrics are: loss,model_loss,model_1_loss,val_loss,val_model_loss,val_model_1_loss\n"
     ]
    },
    {
     "name": "stderr",
     "output_type": "stream",
     "text": [
      "WARNING:tensorflow:Early stopping conditioned on metric `val_sold_price_loss` which is not available. Available metrics are: loss,model_loss,model_1_loss,val_loss,val_model_loss,val_model_1_loss\n"
     ]
    },
    {
     "name": "stdout",
     "output_type": "stream",
     "text": [
      "Weight `w_price` got updated to 1.0.\n",
      "Weight `w_bits` got updated to 4.3376549480979586e-20.\n",
      "1/1 [==============================] - 0s 62ms/step - loss: 0.0019 - model_loss: 0.0019 - model_1_loss: 4.0597e-06 - val_loss: 0.0018 - val_model_loss: 0.0018 - val_model_1_loss: 1.2611e-06\n",
      "Epoch 127/10000\n",
      "1/1 [==============================] - ETA: 0s - loss: 0.0018 - model_loss: 0.0018 - model_1_loss: 1.2611e-06WARNING:tensorflow:Early stopping conditioned on metric `val_sold_price_loss` which is not available. Available metrics are: loss,model_loss,model_1_loss,val_loss,val_model_loss,val_model_1_loss\n"
     ]
    },
    {
     "name": "stderr",
     "output_type": "stream",
     "text": [
      "WARNING:tensorflow:Early stopping conditioned on metric `val_sold_price_loss` which is not available. Available metrics are: loss,model_loss,model_1_loss,val_loss,val_model_loss,val_model_1_loss\n"
     ]
    },
    {
     "name": "stdout",
     "output_type": "stream",
     "text": [
      "Weight `w_price` got updated to 1.0.\n",
      "Weight `w_bits` got updated to 3.036358463668571e-20.\n",
      "1/1 [==============================] - 0s 62ms/step - loss: 0.0018 - model_loss: 0.0018 - model_1_loss: 1.2611e-06 - val_loss: 0.0017 - val_model_loss: 0.0017 - val_model_1_loss: 5.2104e-07\n",
      "Epoch 128/10000\n",
      "1/1 [==============================] - ETA: 0s - loss: 0.0017 - model_loss: 0.0017 - model_1_loss: 5.2104e-07WARNING:tensorflow:Early stopping conditioned on metric `val_sold_price_loss` which is not available. Available metrics are: loss,model_loss,model_1_loss,val_loss,val_model_loss,val_model_1_loss\n"
     ]
    },
    {
     "name": "stderr",
     "output_type": "stream",
     "text": [
      "WARNING:tensorflow:Early stopping conditioned on metric `val_sold_price_loss` which is not available. Available metrics are: loss,model_loss,model_1_loss,val_loss,val_model_loss,val_model_1_loss\n"
     ]
    },
    {
     "name": "stdout",
     "output_type": "stream",
     "text": [
      "Weight `w_price` got updated to 1.0.\n",
      "Weight `w_bits` got updated to 2.1254509245679995e-20.\n",
      "1/1 [==============================] - 0s 63ms/step - loss: 0.0017 - model_loss: 0.0017 - model_1_loss: 5.2104e-07 - val_loss: 0.0016 - val_model_loss: 0.0016 - val_model_1_loss: 3.5388e-07\n",
      "Epoch 129/10000\n",
      "1/1 [==============================] - ETA: 0s - loss: 0.0016 - model_loss: 0.0016 - model_1_loss: 3.5388e-07WARNING:tensorflow:Early stopping conditioned on metric `val_sold_price_loss` which is not available. Available metrics are: loss,model_loss,model_1_loss,val_loss,val_model_loss,val_model_1_loss\n"
     ]
    },
    {
     "name": "stderr",
     "output_type": "stream",
     "text": [
      "WARNING:tensorflow:Early stopping conditioned on metric `val_sold_price_loss` which is not available. Available metrics are: loss,model_loss,model_1_loss,val_loss,val_model_loss,val_model_1_loss\n"
     ]
    },
    {
     "name": "stdout",
     "output_type": "stream",
     "text": [
      "Weight `w_price` got updated to 1.0.\n",
      "Weight `w_bits` got updated to 1.4878156471975996e-20.\n",
      "1/1 [==============================] - 0s 61ms/step - loss: 0.0016 - model_loss: 0.0016 - model_1_loss: 3.5388e-07 - val_loss: 0.0015 - val_model_loss: 0.0015 - val_model_1_loss: 6.1055e-07\n",
      "Epoch 130/10000\n",
      "1/1 [==============================] - ETA: 0s - loss: 0.0015 - model_loss: 0.0015 - model_1_loss: 6.1055e-07WARNING:tensorflow:Early stopping conditioned on metric `val_sold_price_loss` which is not available. Available metrics are: loss,model_loss,model_1_loss,val_loss,val_model_loss,val_model_1_loss\n"
     ]
    },
    {
     "name": "stderr",
     "output_type": "stream",
     "text": [
      "WARNING:tensorflow:Early stopping conditioned on metric `val_sold_price_loss` which is not available. Available metrics are: loss,model_loss,model_1_loss,val_loss,val_model_loss,val_model_1_loss\n"
     ]
    },
    {
     "name": "stdout",
     "output_type": "stream",
     "text": [
      "Weight `w_price` got updated to 1.0.\n",
      "Weight `w_bits` got updated to 1.0414709530383196e-20.\n",
      "1/1 [==============================] - 0s 61ms/step - loss: 0.0015 - model_loss: 0.0015 - model_1_loss: 6.1055e-07 - val_loss: 0.0014 - val_model_loss: 0.0014 - val_model_1_loss: 9.0944e-07\n",
      "Epoch 131/10000\n",
      "1/1 [==============================] - ETA: 0s - loss: 0.0014 - model_loss: 0.0014 - model_1_loss: 9.0944e-07WARNING:tensorflow:Early stopping conditioned on metric `val_sold_price_loss` which is not available. Available metrics are: loss,model_loss,model_1_loss,val_loss,val_model_loss,val_model_1_loss\n"
     ]
    },
    {
     "name": "stderr",
     "output_type": "stream",
     "text": [
      "WARNING:tensorflow:Early stopping conditioned on metric `val_sold_price_loss` which is not available. Available metrics are: loss,model_loss,model_1_loss,val_loss,val_model_loss,val_model_1_loss\n"
     ]
    },
    {
     "name": "stdout",
     "output_type": "stream",
     "text": [
      "Weight `w_price` got updated to 1.0.\n",
      "Weight `w_bits` got updated to 7.290296671268237e-21.\n",
      "1/1 [==============================] - 0s 71ms/step - loss: 0.0014 - model_loss: 0.0014 - model_1_loss: 9.0944e-07 - val_loss: 0.0014 - val_model_loss: 0.0014 - val_model_1_loss: 1.1479e-06\n",
      "Epoch 132/10000\n",
      "1/1 [==============================] - ETA: 0s - loss: 0.0014 - model_loss: 0.0014 - model_1_loss: 1.1479e-06WARNING:tensorflow:Early stopping conditioned on metric `val_sold_price_loss` which is not available. Available metrics are: loss,model_loss,model_1_loss,val_loss,val_model_loss,val_model_1_loss\n"
     ]
    },
    {
     "name": "stderr",
     "output_type": "stream",
     "text": [
      "WARNING:tensorflow:Early stopping conditioned on metric `val_sold_price_loss` which is not available. Available metrics are: loss,model_loss,model_1_loss,val_loss,val_model_loss,val_model_1_loss\n"
     ]
    },
    {
     "name": "stdout",
     "output_type": "stream",
     "text": [
      "Weight `w_price` got updated to 1.0.\n",
      "Weight `w_bits` got updated to 5.1032076698877654e-21.\n",
      "1/1 [==============================] - 0s 63ms/step - loss: 0.0014 - model_loss: 0.0014 - model_1_loss: 1.1479e-06 - val_loss: 0.0013 - val_model_loss: 0.0013 - val_model_1_loss: 1.3545e-06\n",
      "Epoch 133/10000\n",
      "1/1 [==============================] - ETA: 0s - loss: 0.0013 - model_loss: 0.0013 - model_1_loss: 1.3545e-06WARNING:tensorflow:Early stopping conditioned on metric `val_sold_price_loss` which is not available. Available metrics are: loss,model_loss,model_1_loss,val_loss,val_model_loss,val_model_1_loss\n"
     ]
    },
    {
     "name": "stderr",
     "output_type": "stream",
     "text": [
      "WARNING:tensorflow:Early stopping conditioned on metric `val_sold_price_loss` which is not available. Available metrics are: loss,model_loss,model_1_loss,val_loss,val_model_loss,val_model_1_loss\n"
     ]
    },
    {
     "name": "stdout",
     "output_type": "stream",
     "text": [
      "Weight `w_price` got updated to 1.0.\n",
      "Weight `w_bits` got updated to 3.5722453689214354e-21.\n",
      "1/1 [==============================] - 0s 62ms/step - loss: 0.0013 - model_loss: 0.0013 - model_1_loss: 1.3545e-06 - val_loss: 0.0012 - val_model_loss: 0.0012 - val_model_1_loss: 1.6039e-06\n",
      "Epoch 134/10000\n",
      "1/1 [==============================] - ETA: 0s - loss: 0.0012 - model_loss: 0.0012 - model_1_loss: 1.6039e-06WARNING:tensorflow:Early stopping conditioned on metric `val_sold_price_loss` which is not available. Available metrics are: loss,model_loss,model_1_loss,val_loss,val_model_loss,val_model_1_loss\n"
     ]
    },
    {
     "name": "stderr",
     "output_type": "stream",
     "text": [
      "WARNING:tensorflow:Early stopping conditioned on metric `val_sold_price_loss` which is not available. Available metrics are: loss,model_loss,model_1_loss,val_loss,val_model_loss,val_model_1_loss\n"
     ]
    },
    {
     "name": "stdout",
     "output_type": "stream",
     "text": [
      "Weight `w_price` got updated to 1.0.\n",
      "Weight `w_bits` got updated to 2.500571758245005e-21.\n",
      "1/1 [==============================] - 0s 60ms/step - loss: 0.0012 - model_loss: 0.0012 - model_1_loss: 1.6039e-06 - val_loss: 0.0012 - val_model_loss: 0.0012 - val_model_1_loss: 1.7581e-06\n",
      "Epoch 135/10000\n",
      "1/1 [==============================] - ETA: 0s - loss: 0.0012 - model_loss: 0.0012 - model_1_loss: 1.7581e-06WARNING:tensorflow:Early stopping conditioned on metric `val_sold_price_loss` which is not available. Available metrics are: loss,model_loss,model_1_loss,val_loss,val_model_loss,val_model_1_loss\n"
     ]
    },
    {
     "name": "stderr",
     "output_type": "stream",
     "text": [
      "WARNING:tensorflow:Early stopping conditioned on metric `val_sold_price_loss` which is not available. Available metrics are: loss,model_loss,model_1_loss,val_loss,val_model_loss,val_model_1_loss\n"
     ]
    },
    {
     "name": "stdout",
     "output_type": "stream",
     "text": [
      "Weight `w_price` got updated to 1.0.\n",
      "Weight `w_bits` got updated to 1.7504002307715033e-21.\n",
      "1/1 [==============================] - 0s 62ms/step - loss: 0.0012 - model_loss: 0.0012 - model_1_loss: 1.7581e-06 - val_loss: 0.0011 - val_model_loss: 0.0011 - val_model_1_loss: 1.9039e-06\n",
      "Epoch 136/10000\n",
      "1/1 [==============================] - ETA: 0s - loss: 0.0011 - model_loss: 0.0011 - model_1_loss: 1.9039e-06WARNING:tensorflow:Early stopping conditioned on metric `val_sold_price_loss` which is not available. Available metrics are: loss,model_loss,model_1_loss,val_loss,val_model_loss,val_model_1_loss\n"
     ]
    },
    {
     "name": "stderr",
     "output_type": "stream",
     "text": [
      "WARNING:tensorflow:Early stopping conditioned on metric `val_sold_price_loss` which is not available. Available metrics are: loss,model_loss,model_1_loss,val_loss,val_model_loss,val_model_1_loss\n"
     ]
    },
    {
     "name": "stdout",
     "output_type": "stream",
     "text": [
      "Weight `w_price` got updated to 1.0.\n",
      "Weight `w_bits` got updated to 1.2252801615400522e-21.\n",
      "1/1 [==============================] - 0s 66ms/step - loss: 0.0011 - model_loss: 0.0011 - model_1_loss: 1.9039e-06 - val_loss: 0.0011 - val_model_loss: 0.0011 - val_model_1_loss: 2.1451e-06\n",
      "Epoch 137/10000\n",
      "1/1 [==============================] - ETA: 0s - loss: 0.0011 - model_loss: 0.0011 - model_1_loss: 2.1451e-06WARNING:tensorflow:Early stopping conditioned on metric `val_sold_price_loss` which is not available. Available metrics are: loss,model_loss,model_1_loss,val_loss,val_model_loss,val_model_1_loss\n"
     ]
    },
    {
     "name": "stderr",
     "output_type": "stream",
     "text": [
      "WARNING:tensorflow:Early stopping conditioned on metric `val_sold_price_loss` which is not available. Available metrics are: loss,model_loss,model_1_loss,val_loss,val_model_loss,val_model_1_loss\n"
     ]
    },
    {
     "name": "stdout",
     "output_type": "stream",
     "text": [
      "Weight `w_price` got updated to 1.0.\n",
      "Weight `w_bits` got updated to 8.576961130780365e-22.\n",
      "1/1 [==============================] - 0s 64ms/step - loss: 0.0011 - model_loss: 0.0011 - model_1_loss: 2.1451e-06 - val_loss: 0.0010 - val_model_loss: 0.0010 - val_model_1_loss: 2.5523e-06\n",
      "Epoch 138/10000\n",
      "1/1 [==============================] - ETA: 0s - loss: 0.0010 - model_loss: 0.0010 - model_1_loss: 2.5523e-06WARNING:tensorflow:Early stopping conditioned on metric `val_sold_price_loss` which is not available. Available metrics are: loss,model_loss,model_1_loss,val_loss,val_model_loss,val_model_1_loss\n"
     ]
    },
    {
     "name": "stderr",
     "output_type": "stream",
     "text": [
      "WARNING:tensorflow:Early stopping conditioned on metric `val_sold_price_loss` which is not available. Available metrics are: loss,model_loss,model_1_loss,val_loss,val_model_loss,val_model_1_loss\n"
     ]
    },
    {
     "name": "stdout",
     "output_type": "stream",
     "text": [
      "Weight `w_price` got updated to 1.0.\n",
      "Weight `w_bits` got updated to 6.003872791546255e-22.\n",
      "1/1 [==============================] - 0s 63ms/step - loss: 0.0010 - model_loss: 0.0010 - model_1_loss: 2.5523e-06 - val_loss: 9.9020e-04 - val_model_loss: 9.8748e-04 - val_model_1_loss: 2.7152e-06\n",
      "Epoch 139/10000\n",
      "1/1 [==============================] - ETA: 0s - loss: 9.9020e-04 - model_loss: 9.8748e-04 - model_1_loss: 2.7152e-06WARNING:tensorflow:Early stopping conditioned on metric `val_sold_price_loss` which is not available. Available metrics are: loss,model_loss,model_1_loss,val_loss,val_model_loss,val_model_1_loss\n"
     ]
    },
    {
     "name": "stderr",
     "output_type": "stream",
     "text": [
      "WARNING:tensorflow:Early stopping conditioned on metric `val_sold_price_loss` which is not available. Available metrics are: loss,model_loss,model_1_loss,val_loss,val_model_loss,val_model_1_loss\n"
     ]
    },
    {
     "name": "stdout",
     "output_type": "stream",
     "text": [
      "Weight `w_price` got updated to 1.0.\n",
      "Weight `w_bits` got updated to 4.2027109540823783e-22.\n",
      "1/1 [==============================] - 0s 63ms/step - loss: 9.9020e-04 - model_loss: 9.8748e-04 - model_1_loss: 2.7152e-06 - val_loss: 9.4222e-04 - val_model_loss: 9.3968e-04 - val_model_1_loss: 2.5331e-06\n",
      "Epoch 140/10000\n",
      "1/1 [==============================] - ETA: 0s - loss: 9.4222e-04 - model_loss: 9.3968e-04 - model_1_loss: 2.5331e-06WARNING:tensorflow:Early stopping conditioned on metric `val_sold_price_loss` which is not available. Available metrics are: loss,model_loss,model_1_loss,val_loss,val_model_loss,val_model_1_loss\n"
     ]
    },
    {
     "name": "stderr",
     "output_type": "stream",
     "text": [
      "WARNING:tensorflow:Early stopping conditioned on metric `val_sold_price_loss` which is not available. Available metrics are: loss,model_loss,model_1_loss,val_loss,val_model_loss,val_model_1_loss\n"
     ]
    },
    {
     "name": "stdout",
     "output_type": "stream",
     "text": [
      "Weight `w_price` got updated to 1.0.\n",
      "Weight `w_bits` got updated to 2.941897667857665e-22.\n",
      "1/1 [==============================] - 0s 74ms/step - loss: 9.4222e-04 - model_loss: 9.3968e-04 - model_1_loss: 2.5331e-06 - val_loss: 9.0335e-04 - val_model_loss: 9.0098e-04 - val_model_1_loss: 2.3674e-06\n",
      "Epoch 141/10000\n",
      "1/1 [==============================] - ETA: 0s - loss: 9.0335e-04 - model_loss: 9.0098e-04 - model_1_loss: 2.3674e-06WARNING:tensorflow:Early stopping conditioned on metric `val_sold_price_loss` which is not available. Available metrics are: loss,model_loss,model_1_loss,val_loss,val_model_loss,val_model_1_loss\n"
     ]
    },
    {
     "name": "stderr",
     "output_type": "stream",
     "text": [
      "WARNING:tensorflow:Early stopping conditioned on metric `val_sold_price_loss` which is not available. Available metrics are: loss,model_loss,model_1_loss,val_loss,val_model_loss,val_model_1_loss\n"
     ]
    },
    {
     "name": "stdout",
     "output_type": "stream",
     "text": [
      "Weight `w_price` got updated to 1.0.\n",
      "Weight `w_bits` got updated to 2.0593283675003652e-22.\n",
      "1/1 [==============================] - 0s 67ms/step - loss: 9.0335e-04 - model_loss: 9.0098e-04 - model_1_loss: 2.3674e-06 - val_loss: 8.6892e-04 - val_model_loss: 8.6666e-04 - val_model_1_loss: 2.2615e-06\n",
      "Epoch 142/10000\n",
      "1/1 [==============================] - ETA: 0s - loss: 8.6892e-04 - model_loss: 8.6666e-04 - model_1_loss: 2.2615e-06WARNING:tensorflow:Early stopping conditioned on metric `val_sold_price_loss` which is not available. Available metrics are: loss,model_loss,model_1_loss,val_loss,val_model_loss,val_model_1_loss\n"
     ]
    },
    {
     "name": "stderr",
     "output_type": "stream",
     "text": [
      "WARNING:tensorflow:Early stopping conditioned on metric `val_sold_price_loss` which is not available. Available metrics are: loss,model_loss,model_1_loss,val_loss,val_model_loss,val_model_1_loss\n"
     ]
    },
    {
     "name": "stdout",
     "output_type": "stream",
     "text": [
      "Weight `w_price` got updated to 1.0.\n",
      "Weight `w_bits` got updated to 1.4415298572502556e-22.\n",
      "1/1 [==============================] - 0s 66ms/step - loss: 8.6892e-04 - model_loss: 8.6666e-04 - model_1_loss: 2.2615e-06 - val_loss: 8.3321e-04 - val_model_loss: 8.3096e-04 - val_model_1_loss: 2.2441e-06\n",
      "Epoch 143/10000\n",
      "1/1 [==============================] - ETA: 0s - loss: 8.3321e-04 - model_loss: 8.3096e-04 - model_1_loss: 2.2441e-06WARNING:tensorflow:Early stopping conditioned on metric `val_sold_price_loss` which is not available. Available metrics are: loss,model_loss,model_1_loss,val_loss,val_model_loss,val_model_1_loss\n"
     ]
    },
    {
     "name": "stderr",
     "output_type": "stream",
     "text": [
      "WARNING:tensorflow:Early stopping conditioned on metric `val_sold_price_loss` which is not available. Available metrics are: loss,model_loss,model_1_loss,val_loss,val_model_loss,val_model_1_loss\n"
     ]
    },
    {
     "name": "stdout",
     "output_type": "stream",
     "text": [
      "Weight `w_price` got updated to 1.0.\n",
      "Weight `w_bits` got updated to 1.0090709000751788e-22.\n",
      "1/1 [==============================] - 0s 62ms/step - loss: 8.3321e-04 - model_loss: 8.3096e-04 - model_1_loss: 2.2441e-06 - val_loss: 7.9868e-04 - val_model_loss: 7.9642e-04 - val_model_1_loss: 2.2660e-06\n",
      "Epoch 144/10000\n",
      "1/1 [==============================] - ETA: 0s - loss: 7.9868e-04 - model_loss: 7.9642e-04 - model_1_loss: 2.2660e-06WARNING:tensorflow:Early stopping conditioned on metric `val_sold_price_loss` which is not available. Available metrics are: loss,model_loss,model_1_loss,val_loss,val_model_loss,val_model_1_loss\n"
     ]
    },
    {
     "name": "stderr",
     "output_type": "stream",
     "text": [
      "WARNING:tensorflow:Early stopping conditioned on metric `val_sold_price_loss` which is not available. Available metrics are: loss,model_loss,model_1_loss,val_loss,val_model_loss,val_model_1_loss\n"
     ]
    },
    {
     "name": "stdout",
     "output_type": "stream",
     "text": [
      "Weight `w_price` got updated to 1.0.\n",
      "Weight `w_bits` got updated to 7.063496300526251e-23.\n",
      "1/1 [==============================] - 0s 62ms/step - loss: 7.9868e-04 - model_loss: 7.9642e-04 - model_1_loss: 2.2660e-06 - val_loss: 7.6392e-04 - val_model_loss: 7.6170e-04 - val_model_1_loss: 2.2168e-06\n",
      "Epoch 145/10000\n",
      "1/1 [==============================] - ETA: 0s - loss: 7.6392e-04 - model_loss: 7.6170e-04 - model_1_loss: 2.2168e-06WARNING:tensorflow:Early stopping conditioned on metric `val_sold_price_loss` which is not available. Available metrics are: loss,model_loss,model_1_loss,val_loss,val_model_loss,val_model_1_loss\n"
     ]
    },
    {
     "name": "stderr",
     "output_type": "stream",
     "text": [
      "WARNING:tensorflow:Early stopping conditioned on metric `val_sold_price_loss` which is not available. Available metrics are: loss,model_loss,model_1_loss,val_loss,val_model_loss,val_model_1_loss\n"
     ]
    },
    {
     "name": "stdout",
     "output_type": "stream",
     "text": [
      "Weight `w_price` got updated to 1.0.\n",
      "Weight `w_bits` got updated to 4.9444474103683757e-23.\n",
      "1/1 [==============================] - 0s 65ms/step - loss: 7.6392e-04 - model_loss: 7.6170e-04 - model_1_loss: 2.2168e-06 - val_loss: 7.3252e-04 - val_model_loss: 7.3039e-04 - val_model_1_loss: 2.1276e-06\n",
      "Epoch 146/10000\n",
      "1/1 [==============================] - ETA: 0s - loss: 7.3252e-04 - model_loss: 7.3039e-04 - model_1_loss: 2.1276e-06WARNING:tensorflow:Early stopping conditioned on metric `val_sold_price_loss` which is not available. Available metrics are: loss,model_loss,model_1_loss,val_loss,val_model_loss,val_model_1_loss\n"
     ]
    },
    {
     "name": "stderr",
     "output_type": "stream",
     "text": [
      "WARNING:tensorflow:Early stopping conditioned on metric `val_sold_price_loss` which is not available. Available metrics are: loss,model_loss,model_1_loss,val_loss,val_model_loss,val_model_1_loss\n"
     ]
    },
    {
     "name": "stdout",
     "output_type": "stream",
     "text": [
      "Weight `w_price` got updated to 1.0.\n",
      "Weight `w_bits` got updated to 3.4611131872578626e-23.\n",
      "1/1 [==============================] - 0s 65ms/step - loss: 7.3252e-04 - model_loss: 7.3039e-04 - model_1_loss: 2.1276e-06 - val_loss: 7.0308e-04 - val_model_loss: 7.0115e-04 - val_model_1_loss: 1.9318e-06\n",
      "Epoch 147/10000\n",
      "1/1 [==============================] - ETA: 0s - loss: 7.0308e-04 - model_loss: 7.0115e-04 - model_1_loss: 1.9318e-06WARNING:tensorflow:Early stopping conditioned on metric `val_sold_price_loss` which is not available. Available metrics are: loss,model_loss,model_1_loss,val_loss,val_model_loss,val_model_1_loss\n"
     ]
    },
    {
     "name": "stderr",
     "output_type": "stream",
     "text": [
      "WARNING:tensorflow:Early stopping conditioned on metric `val_sold_price_loss` which is not available. Available metrics are: loss,model_loss,model_1_loss,val_loss,val_model_loss,val_model_1_loss\n"
     ]
    },
    {
     "name": "stdout",
     "output_type": "stream",
     "text": [
      "Weight `w_price` got updated to 1.0.\n",
      "Weight `w_bits` got updated to 2.4227792310805036e-23.\n",
      "1/1 [==============================] - 0s 61ms/step - loss: 7.0308e-04 - model_loss: 7.0115e-04 - model_1_loss: 1.9318e-06 - val_loss: 6.7464e-04 - val_model_loss: 6.7295e-04 - val_model_1_loss: 1.6937e-06\n",
      "Epoch 148/10000\n",
      "1/1 [==============================] - ETA: 0s - loss: 6.7464e-04 - model_loss: 6.7295e-04 - model_1_loss: 1.6937e-06WARNING:tensorflow:Early stopping conditioned on metric `val_sold_price_loss` which is not available. Available metrics are: loss,model_loss,model_1_loss,val_loss,val_model_loss,val_model_1_loss\n"
     ]
    },
    {
     "name": "stderr",
     "output_type": "stream",
     "text": [
      "WARNING:tensorflow:Early stopping conditioned on metric `val_sold_price_loss` which is not available. Available metrics are: loss,model_loss,model_1_loss,val_loss,val_model_loss,val_model_1_loss\n"
     ]
    },
    {
     "name": "stdout",
     "output_type": "stream",
     "text": [
      "Weight `w_price` got updated to 1.0.\n",
      "Weight `w_bits` got updated to 1.6959454617563523e-23.\n",
      "1/1 [==============================] - 0s 62ms/step - loss: 6.7464e-04 - model_loss: 6.7295e-04 - model_1_loss: 1.6937e-06 - val_loss: 6.4817e-04 - val_model_loss: 6.4661e-04 - val_model_1_loss: 1.5635e-06\n",
      "Epoch 149/10000\n",
      "1/1 [==============================] - ETA: 0s - loss: 6.4817e-04 - model_loss: 6.4661e-04 - model_1_loss: 1.5635e-06WARNING:tensorflow:Early stopping conditioned on metric `val_sold_price_loss` which is not available. Available metrics are: loss,model_loss,model_1_loss,val_loss,val_model_loss,val_model_1_loss\n"
     ]
    },
    {
     "name": "stderr",
     "output_type": "stream",
     "text": [
      "WARNING:tensorflow:Early stopping conditioned on metric `val_sold_price_loss` which is not available. Available metrics are: loss,model_loss,model_1_loss,val_loss,val_model_loss,val_model_1_loss\n"
     ]
    },
    {
     "name": "stdout",
     "output_type": "stream",
     "text": [
      "Weight `w_price` got updated to 1.0.\n",
      "Weight `w_bits` got updated to 1.1871618232294466e-23.\n",
      "1/1 [==============================] - 0s 63ms/step - loss: 6.4817e-04 - model_loss: 6.4661e-04 - model_1_loss: 1.5635e-06 - val_loss: 6.2361e-04 - val_model_loss: 6.2213e-04 - val_model_1_loss: 1.4798e-06\n",
      "Epoch 150/10000\n",
      "1/1 [==============================] - ETA: 0s - loss: 6.2361e-04 - model_loss: 6.2213e-04 - model_1_loss: 1.4798e-06WARNING:tensorflow:Early stopping conditioned on metric `val_sold_price_loss` which is not available. Available metrics are: loss,model_loss,model_1_loss,val_loss,val_model_loss,val_model_1_loss\n"
     ]
    },
    {
     "name": "stderr",
     "output_type": "stream",
     "text": [
      "WARNING:tensorflow:Early stopping conditioned on metric `val_sold_price_loss` which is not available. Available metrics are: loss,model_loss,model_1_loss,val_loss,val_model_loss,val_model_1_loss\n"
     ]
    },
    {
     "name": "stdout",
     "output_type": "stream",
     "text": [
      "Weight `w_price` got updated to 1.0.\n",
      "Weight `w_bits` got updated to 8.310132762606127e-24.\n",
      "1/1 [==============================] - 0s 62ms/step - loss: 6.2361e-04 - model_loss: 6.2213e-04 - model_1_loss: 1.4798e-06 - val_loss: 5.9971e-04 - val_model_loss: 5.9826e-04 - val_model_1_loss: 1.4589e-06\n",
      "Epoch 151/10000\n",
      "1/1 [==============================] - ETA: 0s - loss: 5.9971e-04 - model_loss: 5.9826e-04 - model_1_loss: 1.4589e-06WARNING:tensorflow:Early stopping conditioned on metric `val_sold_price_loss` which is not available. Available metrics are: loss,model_loss,model_1_loss,val_loss,val_model_loss,val_model_1_loss\n"
     ]
    },
    {
     "name": "stderr",
     "output_type": "stream",
     "text": [
      "WARNING:tensorflow:Early stopping conditioned on metric `val_sold_price_loss` which is not available. Available metrics are: loss,model_loss,model_1_loss,val_loss,val_model_loss,val_model_1_loss\n"
     ]
    },
    {
     "name": "stdout",
     "output_type": "stream",
     "text": [
      "Weight `w_price` got updated to 1.0.\n",
      "Weight `w_bits` got updated to 5.817092933824288e-24.\n",
      "1/1 [==============================] - 0s 60ms/step - loss: 5.9971e-04 - model_loss: 5.9826e-04 - model_1_loss: 1.4589e-06 - val_loss: 5.7737e-04 - val_model_loss: 5.7595e-04 - val_model_1_loss: 1.4208e-06\n",
      "Epoch 152/10000\n",
      "1/1 [==============================] - ETA: 0s - loss: 5.7737e-04 - model_loss: 5.7595e-04 - model_1_loss: 1.4208e-06WARNING:tensorflow:Early stopping conditioned on metric `val_sold_price_loss` which is not available. Available metrics are: loss,model_loss,model_1_loss,val_loss,val_model_loss,val_model_1_loss\n"
     ]
    },
    {
     "name": "stderr",
     "output_type": "stream",
     "text": [
      "WARNING:tensorflow:Early stopping conditioned on metric `val_sold_price_loss` which is not available. Available metrics are: loss,model_loss,model_1_loss,val_loss,val_model_loss,val_model_1_loss\n"
     ]
    },
    {
     "name": "stdout",
     "output_type": "stream",
     "text": [
      "Weight `w_price` got updated to 1.0.\n",
      "Weight `w_bits` got updated to 4.071965053677001e-24.\n",
      "1/1 [==============================] - 0s 62ms/step - loss: 5.7737e-04 - model_loss: 5.7595e-04 - model_1_loss: 1.4208e-06 - val_loss: 5.5605e-04 - val_model_loss: 5.5465e-04 - val_model_1_loss: 1.3927e-06\n",
      "Epoch 153/10000\n",
      "1/1 [==============================] - ETA: 0s - loss: 5.5605e-04 - model_loss: 5.5465e-04 - model_1_loss: 1.3927e-06WARNING:tensorflow:Early stopping conditioned on metric `val_sold_price_loss` which is not available. Available metrics are: loss,model_loss,model_1_loss,val_loss,val_model_loss,val_model_1_loss\n"
     ]
    },
    {
     "name": "stderr",
     "output_type": "stream",
     "text": [
      "WARNING:tensorflow:Early stopping conditioned on metric `val_sold_price_loss` which is not available. Available metrics are: loss,model_loss,model_1_loss,val_loss,val_model_loss,val_model_1_loss\n"
     ]
    },
    {
     "name": "stdout",
     "output_type": "stream",
     "text": [
      "Weight `w_price` got updated to 1.0.\n",
      "Weight `w_bits` got updated to 2.8503755375739006e-24.\n",
      "1/1 [==============================] - 0s 65ms/step - loss: 5.5605e-04 - model_loss: 5.5465e-04 - model_1_loss: 1.3927e-06 - val_loss: 5.3388e-04 - val_model_loss: 5.3247e-04 - val_model_1_loss: 1.4086e-06\n",
      "Epoch 154/10000\n",
      "1/1 [==============================] - ETA: 0s - loss: 5.3388e-04 - model_loss: 5.3247e-04 - model_1_loss: 1.4086e-06WARNING:tensorflow:Early stopping conditioned on metric `val_sold_price_loss` which is not available. Available metrics are: loss,model_loss,model_1_loss,val_loss,val_model_loss,val_model_1_loss\n"
     ]
    },
    {
     "name": "stderr",
     "output_type": "stream",
     "text": [
      "WARNING:tensorflow:Early stopping conditioned on metric `val_sold_price_loss` which is not available. Available metrics are: loss,model_loss,model_1_loss,val_loss,val_model_loss,val_model_1_loss\n"
     ]
    },
    {
     "name": "stdout",
     "output_type": "stream",
     "text": [
      "Weight `w_price` got updated to 1.0.\n",
      "Weight `w_bits` got updated to 1.9952628763017305e-24.\n",
      "1/1 [==============================] - 0s 61ms/step - loss: 5.3388e-04 - model_loss: 5.3247e-04 - model_1_loss: 1.4086e-06 - val_loss: 5.1187e-04 - val_model_loss: 5.1045e-04 - val_model_1_loss: 1.4200e-06\n",
      "Epoch 155/10000\n",
      "1/1 [==============================] - ETA: 0s - loss: 5.1187e-04 - model_loss: 5.1045e-04 - model_1_loss: 1.4200e-06WARNING:tensorflow:Early stopping conditioned on metric `val_sold_price_loss` which is not available. Available metrics are: loss,model_loss,model_1_loss,val_loss,val_model_loss,val_model_1_loss\n"
     ]
    },
    {
     "name": "stderr",
     "output_type": "stream",
     "text": [
      "WARNING:tensorflow:Early stopping conditioned on metric `val_sold_price_loss` which is not available. Available metrics are: loss,model_loss,model_1_loss,val_loss,val_model_loss,val_model_1_loss\n"
     ]
    },
    {
     "name": "stdout",
     "output_type": "stream",
     "text": [
      "Weight `w_price` got updated to 1.0.\n",
      "Weight `w_bits` got updated to 1.3966840134112111e-24.\n",
      "1/1 [==============================] - 0s 62ms/step - loss: 5.1187e-04 - model_loss: 5.1045e-04 - model_1_loss: 1.4200e-06 - val_loss: 4.9140e-04 - val_model_loss: 4.9003e-04 - val_model_1_loss: 1.3792e-06\n",
      "Epoch 156/10000\n",
      "1/1 [==============================] - ETA: 0s - loss: 4.9140e-04 - model_loss: 4.9003e-04 - model_1_loss: 1.3792e-06WARNING:tensorflow:Early stopping conditioned on metric `val_sold_price_loss` which is not available. Available metrics are: loss,model_loss,model_1_loss,val_loss,val_model_loss,val_model_1_loss\n"
     ]
    },
    {
     "name": "stderr",
     "output_type": "stream",
     "text": [
      "WARNING:tensorflow:Early stopping conditioned on metric `val_sold_price_loss` which is not available. Available metrics are: loss,model_loss,model_1_loss,val_loss,val_model_loss,val_model_1_loss\n"
     ]
    },
    {
     "name": "stdout",
     "output_type": "stream",
     "text": [
      "Weight `w_price` got updated to 1.0.\n",
      "Weight `w_bits` got updated to 9.776788093878478e-25.\n",
      "1/1 [==============================] - 0s 63ms/step - loss: 4.9140e-04 - model_loss: 4.9003e-04 - model_1_loss: 1.3792e-06 - val_loss: 4.7200e-04 - val_model_loss: 4.7061e-04 - val_model_1_loss: 1.3869e-06\n",
      "Epoch 157/10000\n",
      "1/1 [==============================] - ETA: 0s - loss: 4.7200e-04 - model_loss: 4.7061e-04 - model_1_loss: 1.3869e-06WARNING:tensorflow:Early stopping conditioned on metric `val_sold_price_loss` which is not available. Available metrics are: loss,model_loss,model_1_loss,val_loss,val_model_loss,val_model_1_loss\n"
     ]
    },
    {
     "name": "stderr",
     "output_type": "stream",
     "text": [
      "WARNING:tensorflow:Early stopping conditioned on metric `val_sold_price_loss` which is not available. Available metrics are: loss,model_loss,model_1_loss,val_loss,val_model_loss,val_model_1_loss\n"
     ]
    },
    {
     "name": "stdout",
     "output_type": "stream",
     "text": [
      "Weight `w_price` got updated to 1.0.\n",
      "Weight `w_bits` got updated to 6.843751665714934e-25.\n",
      "1/1 [==============================] - 0s 64ms/step - loss: 4.7200e-04 - model_loss: 4.7061e-04 - model_1_loss: 1.3869e-06 - val_loss: 4.5552e-04 - val_model_loss: 4.5414e-04 - val_model_1_loss: 1.3818e-06\n",
      "Epoch 158/10000\n",
      "1/1 [==============================] - ETA: 0s - loss: 4.5552e-04 - model_loss: 4.5414e-04 - model_1_loss: 1.3818e-06WARNING:tensorflow:Early stopping conditioned on metric `val_sold_price_loss` which is not available. Available metrics are: loss,model_loss,model_1_loss,val_loss,val_model_loss,val_model_1_loss\n"
     ]
    },
    {
     "name": "stderr",
     "output_type": "stream",
     "text": [
      "WARNING:tensorflow:Early stopping conditioned on metric `val_sold_price_loss` which is not available. Available metrics are: loss,model_loss,model_1_loss,val_loss,val_model_loss,val_model_1_loss\n"
     ]
    },
    {
     "name": "stdout",
     "output_type": "stream",
     "text": [
      "Weight `w_price` got updated to 1.0.\n",
      "Weight `w_bits` got updated to 4.790626166000454e-25.\n",
      "1/1 [==============================] - 0s 65ms/step - loss: 4.5552e-04 - model_loss: 4.5414e-04 - model_1_loss: 1.3818e-06 - val_loss: 4.3740e-04 - val_model_loss: 4.3595e-04 - val_model_1_loss: 1.4514e-06\n",
      "Epoch 159/10000\n",
      "1/1 [==============================] - ETA: 0s - loss: 4.3740e-04 - model_loss: 4.3595e-04 - model_1_loss: 1.4514e-06WARNING:tensorflow:Early stopping conditioned on metric `val_sold_price_loss` which is not available. Available metrics are: loss,model_loss,model_1_loss,val_loss,val_model_loss,val_model_1_loss\n"
     ]
    },
    {
     "name": "stderr",
     "output_type": "stream",
     "text": [
      "WARNING:tensorflow:Early stopping conditioned on metric `val_sold_price_loss` which is not available. Available metrics are: loss,model_loss,model_1_loss,val_loss,val_model_loss,val_model_1_loss\n"
     ]
    },
    {
     "name": "stdout",
     "output_type": "stream",
     "text": [
      "Weight `w_price` got updated to 1.0.\n",
      "Weight `w_bits` got updated to 3.353438316200317e-25.\n",
      "1/1 [==============================] - 0s 64ms/step - loss: 4.3740e-04 - model_loss: 4.3595e-04 - model_1_loss: 1.4514e-06 - val_loss: 4.1892e-04 - val_model_loss: 4.1743e-04 - val_model_1_loss: 1.4985e-06\n",
      "Epoch 160/10000\n",
      "1/1 [==============================] - ETA: 0s - loss: 4.1892e-04 - model_loss: 4.1743e-04 - model_1_loss: 1.4985e-06WARNING:tensorflow:Early stopping conditioned on metric `val_sold_price_loss` which is not available. Available metrics are: loss,model_loss,model_1_loss,val_loss,val_model_loss,val_model_1_loss\n"
     ]
    },
    {
     "name": "stderr",
     "output_type": "stream",
     "text": [
      "WARNING:tensorflow:Early stopping conditioned on metric `val_sold_price_loss` which is not available. Available metrics are: loss,model_loss,model_1_loss,val_loss,val_model_loss,val_model_1_loss\n"
     ]
    },
    {
     "name": "stdout",
     "output_type": "stream",
     "text": [
      "Weight `w_price` got updated to 1.0.\n",
      "Weight `w_bits` got updated to 2.347406821340222e-25.\n",
      "1/1 [==============================] - 0s 61ms/step - loss: 4.1892e-04 - model_loss: 4.1743e-04 - model_1_loss: 1.4985e-06 - val_loss: 4.0165e-04 - val_model_loss: 4.0025e-04 - val_model_1_loss: 1.3979e-06\n",
      "Epoch 161/10000\n",
      "1/1 [==============================] - ETA: 0s - loss: 4.0165e-04 - model_loss: 4.0025e-04 - model_1_loss: 1.3979e-06WARNING:tensorflow:Early stopping conditioned on metric `val_sold_price_loss` which is not available. Available metrics are: loss,model_loss,model_1_loss,val_loss,val_model_loss,val_model_1_loss\n"
     ]
    },
    {
     "name": "stderr",
     "output_type": "stream",
     "text": [
      "WARNING:tensorflow:Early stopping conditioned on metric `val_sold_price_loss` which is not available. Available metrics are: loss,model_loss,model_1_loss,val_loss,val_model_loss,val_model_1_loss\n"
     ]
    },
    {
     "name": "stdout",
     "output_type": "stream",
     "text": [
      "Weight `w_price` got updated to 1.0.\n",
      "Weight `w_bits` got updated to 1.6431847749381552e-25.\n",
      "1/1 [==============================] - 0s 61ms/step - loss: 4.0165e-04 - model_loss: 4.0025e-04 - model_1_loss: 1.3979e-06 - val_loss: 3.8378e-04 - val_model_loss: 3.8264e-04 - val_model_1_loss: 1.1347e-06\n",
      "Epoch 162/10000\n",
      "1/1 [==============================] - ETA: 0s - loss: 3.8378e-04 - model_loss: 3.8264e-04 - model_1_loss: 1.1347e-06WARNING:tensorflow:Early stopping conditioned on metric `val_sold_price_loss` which is not available. Available metrics are: loss,model_loss,model_1_loss,val_loss,val_model_loss,val_model_1_loss\n"
     ]
    },
    {
     "name": "stderr",
     "output_type": "stream",
     "text": [
      "WARNING:tensorflow:Early stopping conditioned on metric `val_sold_price_loss` which is not available. Available metrics are: loss,model_loss,model_1_loss,val_loss,val_model_loss,val_model_1_loss\n"
     ]
    },
    {
     "name": "stdout",
     "output_type": "stream",
     "text": [
      "Weight `w_price` got updated to 1.0.\n",
      "Weight `w_bits` got updated to 1.1502293424567087e-25.\n",
      "1/1 [==============================] - 0s 62ms/step - loss: 3.8378e-04 - model_loss: 3.8264e-04 - model_1_loss: 1.1347e-06 - val_loss: 3.6833e-04 - val_model_loss: 3.6736e-04 - val_model_1_loss: 9.7112e-07\n",
      "Epoch 163/10000\n",
      "1/1 [==============================] - ETA: 0s - loss: 3.6833e-04 - model_loss: 3.6736e-04 - model_1_loss: 9.7112e-07WARNING:tensorflow:Early stopping conditioned on metric `val_sold_price_loss` which is not available. Available metrics are: loss,model_loss,model_1_loss,val_loss,val_model_loss,val_model_1_loss\n"
     ]
    },
    {
     "name": "stderr",
     "output_type": "stream",
     "text": [
      "WARNING:tensorflow:Early stopping conditioned on metric `val_sold_price_loss` which is not available. Available metrics are: loss,model_loss,model_1_loss,val_loss,val_model_loss,val_model_1_loss\n"
     ]
    },
    {
     "name": "stdout",
     "output_type": "stream",
     "text": [
      "Weight `w_price` got updated to 1.0.\n",
      "Weight `w_bits` got updated to 8.05160539719696e-26.\n",
      "1/1 [==============================] - 0s 64ms/step - loss: 3.6833e-04 - model_loss: 3.6736e-04 - model_1_loss: 9.7112e-07 - val_loss: 3.5434e-04 - val_model_loss: 3.5347e-04 - val_model_1_loss: 8.7210e-07\n",
      "Epoch 164/10000\n",
      "1/1 [==============================] - ETA: 0s - loss: 3.5434e-04 - model_loss: 3.5347e-04 - model_1_loss: 8.7210e-07WARNING:tensorflow:Early stopping conditioned on metric `val_sold_price_loss` which is not available. Available metrics are: loss,model_loss,model_1_loss,val_loss,val_model_loss,val_model_1_loss\n"
     ]
    },
    {
     "name": "stderr",
     "output_type": "stream",
     "text": [
      "WARNING:tensorflow:Early stopping conditioned on metric `val_sold_price_loss` which is not available. Available metrics are: loss,model_loss,model_1_loss,val_loss,val_model_loss,val_model_1_loss\n"
     ]
    },
    {
     "name": "stdout",
     "output_type": "stream",
     "text": [
      "Weight `w_price` got updated to 1.0.\n",
      "Weight `w_bits` got updated to 5.636123778037872e-26.\n",
      "1/1 [==============================] - 0s 61ms/step - loss: 3.5434e-04 - model_loss: 3.5347e-04 - model_1_loss: 8.7210e-07 - val_loss: 3.4036e-04 - val_model_loss: 3.3959e-04 - val_model_1_loss: 7.7144e-07\n",
      "Epoch 165/10000\n",
      "1/1 [==============================] - ETA: 0s - loss: 3.4036e-04 - model_loss: 3.3959e-04 - model_1_loss: 7.7144e-07WARNING:tensorflow:Early stopping conditioned on metric `val_sold_price_loss` which is not available. Available metrics are: loss,model_loss,model_1_loss,val_loss,val_model_loss,val_model_1_loss\n"
     ]
    },
    {
     "name": "stderr",
     "output_type": "stream",
     "text": [
      "WARNING:tensorflow:Early stopping conditioned on metric `val_sold_price_loss` which is not available. Available metrics are: loss,model_loss,model_1_loss,val_loss,val_model_loss,val_model_1_loss\n"
     ]
    },
    {
     "name": "stdout",
     "output_type": "stream",
     "text": [
      "Weight `w_price` got updated to 1.0.\n",
      "Weight `w_bits` got updated to 3.94528664462651e-26.\n",
      "1/1 [==============================] - 0s 61ms/step - loss: 3.4036e-04 - model_loss: 3.3959e-04 - model_1_loss: 7.7144e-07 - val_loss: 3.2710e-04 - val_model_loss: 3.2639e-04 - val_model_1_loss: 7.0796e-07\n",
      "Epoch 166/10000\n",
      "1/1 [==============================] - ETA: 0s - loss: 3.2710e-04 - model_loss: 3.2639e-04 - model_1_loss: 7.0796e-07WARNING:tensorflow:Early stopping conditioned on metric `val_sold_price_loss` which is not available. Available metrics are: loss,model_loss,model_1_loss,val_loss,val_model_loss,val_model_1_loss\n"
     ]
    },
    {
     "name": "stderr",
     "output_type": "stream",
     "text": [
      "WARNING:tensorflow:Early stopping conditioned on metric `val_sold_price_loss` which is not available. Available metrics are: loss,model_loss,model_1_loss,val_loss,val_model_loss,val_model_1_loss\n"
     ]
    },
    {
     "name": "stdout",
     "output_type": "stream",
     "text": [
      "Weight `w_price` got updated to 1.0.\n",
      "Weight `w_bits` got updated to 2.7617006512385563e-26.\n",
      "1/1 [==============================] - 0s 61ms/step - loss: 3.2710e-04 - model_loss: 3.2639e-04 - model_1_loss: 7.0796e-07 - val_loss: 3.1519e-04 - val_model_loss: 3.1453e-04 - val_model_1_loss: 6.6341e-07\n",
      "Epoch 167/10000\n",
      "1/1 [==============================] - ETA: 0s - loss: 3.1519e-04 - model_loss: 3.1453e-04 - model_1_loss: 6.6341e-07WARNING:tensorflow:Early stopping conditioned on metric `val_sold_price_loss` which is not available. Available metrics are: loss,model_loss,model_1_loss,val_loss,val_model_loss,val_model_1_loss\n"
     ]
    },
    {
     "name": "stderr",
     "output_type": "stream",
     "text": [
      "WARNING:tensorflow:Early stopping conditioned on metric `val_sold_price_loss` which is not available. Available metrics are: loss,model_loss,model_1_loss,val_loss,val_model_loss,val_model_1_loss\n"
     ]
    },
    {
     "name": "stdout",
     "output_type": "stream",
     "text": [
      "Weight `w_price` got updated to 1.0.\n",
      "Weight `w_bits` got updated to 1.9331904558669895e-26.\n",
      "1/1 [==============================] - 0s 62ms/step - loss: 3.1519e-04 - model_loss: 3.1453e-04 - model_1_loss: 6.6341e-07 - val_loss: 3.0354e-04 - val_model_loss: 3.0292e-04 - val_model_1_loss: 6.1460e-07\n",
      "Epoch 168/10000\n",
      "1/1 [==============================] - ETA: 0s - loss: 3.0354e-04 - model_loss: 3.0292e-04 - model_1_loss: 6.1460e-07WARNING:tensorflow:Early stopping conditioned on metric `val_sold_price_loss` which is not available. Available metrics are: loss,model_loss,model_1_loss,val_loss,val_model_loss,val_model_1_loss\n"
     ]
    },
    {
     "name": "stderr",
     "output_type": "stream",
     "text": [
      "WARNING:tensorflow:Early stopping conditioned on metric `val_sold_price_loss` which is not available. Available metrics are: loss,model_loss,model_1_loss,val_loss,val_model_loss,val_model_1_loss\n"
     ]
    },
    {
     "name": "stdout",
     "output_type": "stream",
     "text": [
      "Weight `w_price` got updated to 1.0.\n",
      "Weight `w_bits` got updated to 1.3532333191068925e-26.\n",
      "1/1 [==============================] - 0s 65ms/step - loss: 3.0354e-04 - model_loss: 3.0292e-04 - model_1_loss: 6.1460e-07 - val_loss: 2.9203e-04 - val_model_loss: 2.9149e-04 - val_model_1_loss: 5.3869e-07\n",
      "Epoch 169/10000\n",
      "1/1 [==============================] - ETA: 0s - loss: 2.9203e-04 - model_loss: 2.9149e-04 - model_1_loss: 5.3869e-07WARNING:tensorflow:Early stopping conditioned on metric `val_sold_price_loss` which is not available. Available metrics are: loss,model_loss,model_1_loss,val_loss,val_model_loss,val_model_1_loss\n"
     ]
    },
    {
     "name": "stderr",
     "output_type": "stream",
     "text": [
      "WARNING:tensorflow:Early stopping conditioned on metric `val_sold_price_loss` which is not available. Available metrics are: loss,model_loss,model_1_loss,val_loss,val_model_loss,val_model_1_loss\n"
     ]
    },
    {
     "name": "stdout",
     "output_type": "stream",
     "text": [
      "Weight `w_price` got updated to 1.0.\n",
      "Weight `w_bits` got updated to 9.472633233748247e-27.\n",
      "1/1 [==============================] - 0s 62ms/step - loss: 2.9203e-04 - model_loss: 2.9149e-04 - model_1_loss: 5.3869e-07 - val_loss: 2.8178e-04 - val_model_loss: 2.8132e-04 - val_model_1_loss: 4.5963e-07\n",
      "Epoch 170/10000\n",
      "1/1 [==============================] - ETA: 0s - loss: 2.8178e-04 - model_loss: 2.8132e-04 - model_1_loss: 4.5963e-07WARNING:tensorflow:Early stopping conditioned on metric `val_sold_price_loss` which is not available. Available metrics are: loss,model_loss,model_1_loss,val_loss,val_model_loss,val_model_1_loss\n"
     ]
    },
    {
     "name": "stderr",
     "output_type": "stream",
     "text": [
      "WARNING:tensorflow:Early stopping conditioned on metric `val_sold_price_loss` which is not available. Available metrics are: loss,model_loss,model_1_loss,val_loss,val_model_loss,val_model_1_loss\n"
     ]
    },
    {
     "name": "stdout",
     "output_type": "stream",
     "text": [
      "Weight `w_price` got updated to 1.0.\n",
      "Weight `w_bits` got updated to 6.630843263623773e-27.\n",
      "1/1 [==============================] - 0s 65ms/step - loss: 2.8178e-04 - model_loss: 2.8132e-04 - model_1_loss: 4.5963e-07 - val_loss: 2.7250e-04 - val_model_loss: 2.7211e-04 - val_model_1_loss: 3.8733e-07\n",
      "Epoch 171/10000\n",
      "1/1 [==============================] - ETA: 0s - loss: 2.7250e-04 - model_loss: 2.7211e-04 - model_1_loss: 3.8733e-07WARNING:tensorflow:Early stopping conditioned on metric `val_sold_price_loss` which is not available. Available metrics are: loss,model_loss,model_1_loss,val_loss,val_model_loss,val_model_1_loss\n"
     ]
    },
    {
     "name": "stderr",
     "output_type": "stream",
     "text": [
      "WARNING:tensorflow:Early stopping conditioned on metric `val_sold_price_loss` which is not available. Available metrics are: loss,model_loss,model_1_loss,val_loss,val_model_loss,val_model_1_loss\n"
     ]
    },
    {
     "name": "stdout",
     "output_type": "stream",
     "text": [
      "Weight `w_price` got updated to 1.0.\n",
      "Weight `w_bits` got updated to 4.641590284536641e-27.\n",
      "1/1 [==============================] - 0s 64ms/step - loss: 2.7250e-04 - model_loss: 2.7211e-04 - model_1_loss: 3.8733e-07 - val_loss: 2.6369e-04 - val_model_loss: 2.6336e-04 - val_model_1_loss: 3.3123e-07\n",
      "Epoch 172/10000\n",
      "1/1 [==============================] - ETA: 0s - loss: 2.6369e-04 - model_loss: 2.6336e-04 - model_1_loss: 3.3123e-07WARNING:tensorflow:Early stopping conditioned on metric `val_sold_price_loss` which is not available. Available metrics are: loss,model_loss,model_1_loss,val_loss,val_model_loss,val_model_1_loss\n"
     ]
    },
    {
     "name": "stderr",
     "output_type": "stream",
     "text": [
      "WARNING:tensorflow:Early stopping conditioned on metric `val_sold_price_loss` which is not available. Available metrics are: loss,model_loss,model_1_loss,val_loss,val_model_loss,val_model_1_loss\n"
     ]
    },
    {
     "name": "stdout",
     "output_type": "stream",
     "text": [
      "Weight `w_price` got updated to 1.0.\n",
      "Weight `w_bits` got updated to 3.249113199175648e-27.\n",
      "1/1 [==============================] - 0s 65ms/step - loss: 2.6369e-04 - model_loss: 2.6336e-04 - model_1_loss: 3.3123e-07 - val_loss: 2.5530e-04 - val_model_loss: 2.5501e-04 - val_model_1_loss: 2.8895e-07\n",
      "Epoch 173/10000\n",
      "1/1 [==============================] - ETA: 0s - loss: 2.5530e-04 - model_loss: 2.5501e-04 - model_1_loss: 2.8895e-07WARNING:tensorflow:Early stopping conditioned on metric `val_sold_price_loss` which is not available. Available metrics are: loss,model_loss,model_1_loss,val_loss,val_model_loss,val_model_1_loss\n"
     ]
    },
    {
     "name": "stderr",
     "output_type": "stream",
     "text": [
      "WARNING:tensorflow:Early stopping conditioned on metric `val_sold_price_loss` which is not available. Available metrics are: loss,model_loss,model_1_loss,val_loss,val_model_loss,val_model_1_loss\n"
     ]
    },
    {
     "name": "stdout",
     "output_type": "stream",
     "text": [
      "Weight `w_price` got updated to 1.0.\n",
      "Weight `w_bits` got updated to 2.2743792394229535e-27.\n",
      "1/1 [==============================] - 0s 65ms/step - loss: 2.5530e-04 - model_loss: 2.5501e-04 - model_1_loss: 2.8895e-07 - val_loss: 2.4715e-04 - val_model_loss: 2.4688e-04 - val_model_1_loss: 2.6734e-07\n",
      "Epoch 174/10000\n",
      "1/1 [==============================] - ETA: 0s - loss: 2.4715e-04 - model_loss: 2.4688e-04 - model_1_loss: 2.6734e-07WARNING:tensorflow:Early stopping conditioned on metric `val_sold_price_loss` which is not available. Available metrics are: loss,model_loss,model_1_loss,val_loss,val_model_loss,val_model_1_loss\n"
     ]
    },
    {
     "name": "stderr",
     "output_type": "stream",
     "text": [
      "WARNING:tensorflow:Early stopping conditioned on metric `val_sold_price_loss` which is not available. Available metrics are: loss,model_loss,model_1_loss,val_loss,val_model_loss,val_model_1_loss\n"
     ]
    },
    {
     "name": "stdout",
     "output_type": "stream",
     "text": [
      "Weight `w_price` got updated to 1.0.\n",
      "Weight `w_bits` got updated to 1.5920654675960674e-27.\n",
      "1/1 [==============================] - 0s 63ms/step - loss: 2.4715e-04 - model_loss: 2.4688e-04 - model_1_loss: 2.6734e-07 - val_loss: 2.3982e-04 - val_model_loss: 2.3958e-04 - val_model_1_loss: 2.4635e-07\n",
      "Epoch 175/10000\n",
      "1/1 [==============================] - ETA: 0s - loss: 2.3982e-04 - model_loss: 2.3958e-04 - model_1_loss: 2.4635e-07WARNING:tensorflow:Early stopping conditioned on metric `val_sold_price_loss` which is not available. Available metrics are: loss,model_loss,model_1_loss,val_loss,val_model_loss,val_model_1_loss\n"
     ]
    },
    {
     "name": "stderr",
     "output_type": "stream",
     "text": [
      "WARNING:tensorflow:Early stopping conditioned on metric `val_sold_price_loss` which is not available. Available metrics are: loss,model_loss,model_1_loss,val_loss,val_model_loss,val_model_1_loss\n"
     ]
    },
    {
     "name": "stdout",
     "output_type": "stream",
     "text": [
      "Weight `w_price` got updated to 1.0.\n",
      "Weight `w_bits` got updated to 1.1144458273172472e-27.\n",
      "1/1 [==============================] - 0s 66ms/step - loss: 2.3982e-04 - model_loss: 2.3958e-04 - model_1_loss: 2.4635e-07 - val_loss: 2.3283e-04 - val_model_loss: 2.3261e-04 - val_model_1_loss: 2.2449e-07\n",
      "Epoch 176/10000\n",
      "1/1 [==============================] - ETA: 0s - loss: 2.3283e-04 - model_loss: 2.3261e-04 - model_1_loss: 2.2449e-07WARNING:tensorflow:Early stopping conditioned on metric `val_sold_price_loss` which is not available. Available metrics are: loss,model_loss,model_1_loss,val_loss,val_model_loss,val_model_1_loss\n"
     ]
    },
    {
     "name": "stderr",
     "output_type": "stream",
     "text": [
      "WARNING:tensorflow:Early stopping conditioned on metric `val_sold_price_loss` which is not available. Available metrics are: loss,model_loss,model_1_loss,val_loss,val_model_loss,val_model_1_loss\n"
     ]
    },
    {
     "name": "stdout",
     "output_type": "stream",
     "text": [
      "Weight `w_price` got updated to 1.0.\n",
      "Weight `w_bits` got updated to 7.8011207912207295e-28.\n",
      "1/1 [==============================] - 0s 61ms/step - loss: 2.3283e-04 - model_loss: 2.3261e-04 - model_1_loss: 2.2449e-07 - val_loss: 2.2608e-04 - val_model_loss: 2.2588e-04 - val_model_1_loss: 2.0448e-07\n",
      "Epoch 177/10000\n",
      "1/1 [==============================] - ETA: 0s - loss: 2.2608e-04 - model_loss: 2.2588e-04 - model_1_loss: 2.0448e-07WARNING:tensorflow:Early stopping conditioned on metric `val_sold_price_loss` which is not available. Available metrics are: loss,model_loss,model_1_loss,val_loss,val_model_loss,val_model_1_loss\n"
     ]
    },
    {
     "name": "stderr",
     "output_type": "stream",
     "text": [
      "WARNING:tensorflow:Early stopping conditioned on metric `val_sold_price_loss` which is not available. Available metrics are: loss,model_loss,model_1_loss,val_loss,val_model_loss,val_model_1_loss\n"
     ]
    },
    {
     "name": "stdout",
     "output_type": "stream",
     "text": [
      "Weight `w_price` got updated to 1.0.\n",
      "Weight `w_bits` got updated to 5.46078455385451e-28.\n",
      "1/1 [==============================] - 0s 63ms/step - loss: 2.2608e-04 - model_loss: 2.2588e-04 - model_1_loss: 2.0448e-07 - val_loss: 2.1973e-04 - val_model_loss: 2.1955e-04 - val_model_1_loss: 1.8524e-07\n",
      "Epoch 178/10000\n",
      "1/1 [==============================] - ETA: 0s - loss: 2.1973e-04 - model_loss: 2.1955e-04 - model_1_loss: 1.8524e-07WARNING:tensorflow:Early stopping conditioned on metric `val_sold_price_loss` which is not available. Available metrics are: loss,model_loss,model_1_loss,val_loss,val_model_loss,val_model_1_loss\n"
     ]
    },
    {
     "name": "stderr",
     "output_type": "stream",
     "text": [
      "WARNING:tensorflow:Early stopping conditioned on metric `val_sold_price_loss` which is not available. Available metrics are: loss,model_loss,model_1_loss,val_loss,val_model_loss,val_model_1_loss\n"
     ]
    },
    {
     "name": "stdout",
     "output_type": "stream",
     "text": [
      "Weight `w_price` got updated to 1.0.\n",
      "Weight `w_bits` got updated to 3.8225491876981566e-28.\n",
      "1/1 [==============================] - 0s 63ms/step - loss: 2.1973e-04 - model_loss: 2.1955e-04 - model_1_loss: 1.8524e-07 - val_loss: 2.1341e-04 - val_model_loss: 2.1325e-04 - val_model_1_loss: 1.6543e-07\n",
      "Epoch 179/10000\n",
      "1/1 [==============================] - ETA: 0s - loss: 2.1341e-04 - model_loss: 2.1325e-04 - model_1_loss: 1.6543e-07WARNING:tensorflow:Early stopping conditioned on metric `val_sold_price_loss` which is not available. Available metrics are: loss,model_loss,model_1_loss,val_loss,val_model_loss,val_model_1_loss\n"
     ]
    },
    {
     "name": "stderr",
     "output_type": "stream",
     "text": [
      "WARNING:tensorflow:Early stopping conditioned on metric `val_sold_price_loss` which is not available. Available metrics are: loss,model_loss,model_1_loss,val_loss,val_model_loss,val_model_1_loss\n"
     ]
    },
    {
     "name": "stdout",
     "output_type": "stream",
     "text": [
      "Weight `w_price` got updated to 1.0.\n",
      "Weight `w_bits` got updated to 2.6757844313887096e-28.\n",
      "1/1 [==============================] - 0s 61ms/step - loss: 2.1341e-04 - model_loss: 2.1325e-04 - model_1_loss: 1.6543e-07 - val_loss: 2.0736e-04 - val_model_loss: 2.0721e-04 - val_model_1_loss: 1.4802e-07\n",
      "Epoch 180/10000\n",
      "1/1 [==============================] - ETA: 0s - loss: 2.0736e-04 - model_loss: 2.0721e-04 - model_1_loss: 1.4802e-07WARNING:tensorflow:Early stopping conditioned on metric `val_sold_price_loss` which is not available. Available metrics are: loss,model_loss,model_1_loss,val_loss,val_model_loss,val_model_1_loss\n"
     ]
    },
    {
     "name": "stderr",
     "output_type": "stream",
     "text": [
      "WARNING:tensorflow:Early stopping conditioned on metric `val_sold_price_loss` which is not available. Available metrics are: loss,model_loss,model_1_loss,val_loss,val_model_loss,val_model_1_loss\n"
     ]
    },
    {
     "name": "stdout",
     "output_type": "stream",
     "text": [
      "Weight `w_price` got updated to 1.0.\n",
      "Weight `w_bits` got updated to 1.8730491019720967e-28.\n",
      "1/1 [==============================] - 0s 64ms/step - loss: 2.0736e-04 - model_loss: 2.0721e-04 - model_1_loss: 1.4802e-07 - val_loss: 2.0147e-04 - val_model_loss: 2.0134e-04 - val_model_1_loss: 1.3093e-07\n",
      "Epoch 181/10000\n",
      "1/1 [==============================] - ETA: 0s - loss: 2.0147e-04 - model_loss: 2.0134e-04 - model_1_loss: 1.3093e-07WARNING:tensorflow:Early stopping conditioned on metric `val_sold_price_loss` which is not available. Available metrics are: loss,model_loss,model_1_loss,val_loss,val_model_loss,val_model_1_loss\n"
     ]
    },
    {
     "name": "stderr",
     "output_type": "stream",
     "text": [
      "WARNING:tensorflow:Early stopping conditioned on metric `val_sold_price_loss` which is not available. Available metrics are: loss,model_loss,model_1_loss,val_loss,val_model_loss,val_model_1_loss\n"
     ]
    },
    {
     "name": "stdout",
     "output_type": "stream",
     "text": [
      "Weight `w_price` got updated to 1.0.\n",
      "Weight `w_bits` got updated to 1.3111343713804676e-28.\n",
      "1/1 [==============================] - 0s 63ms/step - loss: 2.0147e-04 - model_loss: 2.0134e-04 - model_1_loss: 1.3093e-07 - val_loss: 1.9579e-04 - val_model_loss: 1.9568e-04 - val_model_1_loss: 1.1788e-07\n",
      "Epoch 182/10000\n",
      "1/1 [==============================] - ETA: 0s - loss: 1.9579e-04 - model_loss: 1.9568e-04 - model_1_loss: 1.1788e-07WARNING:tensorflow:Early stopping conditioned on metric `val_sold_price_loss` which is not available. Available metrics are: loss,model_loss,model_1_loss,val_loss,val_model_loss,val_model_1_loss\n"
     ]
    },
    {
     "name": "stderr",
     "output_type": "stream",
     "text": [
      "WARNING:tensorflow:Early stopping conditioned on metric `val_sold_price_loss` which is not available. Available metrics are: loss,model_loss,model_1_loss,val_loss,val_model_loss,val_model_1_loss\n"
     ]
    },
    {
     "name": "stdout",
     "output_type": "stream",
     "text": [
      "Weight `w_price` got updated to 1.0.\n",
      "Weight `w_bits` got updated to 9.177940599663272e-29.\n",
      "1/1 [==============================] - 0s 61ms/step - loss: 1.9579e-04 - model_loss: 1.9568e-04 - model_1_loss: 1.1788e-07 - val_loss: 1.9038e-04 - val_model_loss: 1.9026e-04 - val_model_1_loss: 1.1160e-07\n",
      "Epoch 183/10000\n",
      "1/1 [==============================] - ETA: 0s - loss: 1.9038e-04 - model_loss: 1.9026e-04 - model_1_loss: 1.1160e-07WARNING:tensorflow:Early stopping conditioned on metric `val_sold_price_loss` which is not available. Available metrics are: loss,model_loss,model_1_loss,val_loss,val_model_loss,val_model_1_loss\n"
     ]
    },
    {
     "name": "stderr",
     "output_type": "stream",
     "text": [
      "WARNING:tensorflow:Early stopping conditioned on metric `val_sold_price_loss` which is not available. Available metrics are: loss,model_loss,model_1_loss,val_loss,val_model_loss,val_model_1_loss\n"
     ]
    },
    {
     "name": "stdout",
     "output_type": "stream",
     "text": [
      "Weight `w_price` got updated to 1.0.\n",
      "Weight `w_bits` got updated to 6.42455841976429e-29.\n",
      "1/1 [==============================] - 0s 61ms/step - loss: 1.9038e-04 - model_loss: 1.9026e-04 - model_1_loss: 1.1160e-07 - val_loss: 1.8505e-04 - val_model_loss: 1.8495e-04 - val_model_1_loss: 1.0639e-07\n",
      "Epoch 184/10000\n",
      "1/1 [==============================] - ETA: 0s - loss: 1.8505e-04 - model_loss: 1.8495e-04 - model_1_loss: 1.0639e-07WARNING:tensorflow:Early stopping conditioned on metric `val_sold_price_loss` which is not available. Available metrics are: loss,model_loss,model_1_loss,val_loss,val_model_loss,val_model_1_loss\n"
     ]
    },
    {
     "name": "stderr",
     "output_type": "stream",
     "text": [
      "WARNING:tensorflow:Early stopping conditioned on metric `val_sold_price_loss` which is not available. Available metrics are: loss,model_loss,model_1_loss,val_loss,val_model_loss,val_model_1_loss\n"
     ]
    },
    {
     "name": "stdout",
     "output_type": "stream",
     "text": [
      "Weight `w_price` got updated to 1.0.\n",
      "Weight `w_bits` got updated to 4.4971908938350026e-29.\n",
      "1/1 [==============================] - 0s 63ms/step - loss: 1.8505e-04 - model_loss: 1.8495e-04 - model_1_loss: 1.0639e-07 - val_loss: 1.8001e-04 - val_model_loss: 1.7991e-04 - val_model_1_loss: 1.0145e-07\n",
      "Epoch 185/10000\n",
      "1/1 [==============================] - ETA: 0s - loss: 1.8001e-04 - model_loss: 1.7991e-04 - model_1_loss: 1.0145e-07WARNING:tensorflow:Early stopping conditioned on metric `val_sold_price_loss` which is not available. Available metrics are: loss,model_loss,model_1_loss,val_loss,val_model_loss,val_model_1_loss\n"
     ]
    },
    {
     "name": "stderr",
     "output_type": "stream",
     "text": [
      "WARNING:tensorflow:Early stopping conditioned on metric `val_sold_price_loss` which is not available. Available metrics are: loss,model_loss,model_1_loss,val_loss,val_model_loss,val_model_1_loss\n"
     ]
    },
    {
     "name": "stdout",
     "output_type": "stream",
     "text": [
      "Weight `w_price` got updated to 1.0.\n",
      "Weight `w_bits` got updated to 3.1480336256845017e-29.\n",
      "1/1 [==============================] - 0s 60ms/step - loss: 1.8001e-04 - model_loss: 1.7991e-04 - model_1_loss: 1.0145e-07 - val_loss: 1.7550e-04 - val_model_loss: 1.7540e-04 - val_model_1_loss: 9.4908e-08\n",
      "Epoch 186/10000\n",
      "1/1 [==============================] - ETA: 0s - loss: 1.7550e-04 - model_loss: 1.7540e-04 - model_1_loss: 9.4908e-08WARNING:tensorflow:Early stopping conditioned on metric `val_sold_price_loss` which is not available. Available metrics are: loss,model_loss,model_1_loss,val_loss,val_model_loss,val_model_1_loss\n"
     ]
    },
    {
     "name": "stderr",
     "output_type": "stream",
     "text": [
      "WARNING:tensorflow:Early stopping conditioned on metric `val_sold_price_loss` which is not available. Available metrics are: loss,model_loss,model_1_loss,val_loss,val_model_loss,val_model_1_loss\n"
     ]
    },
    {
     "name": "stdout",
     "output_type": "stream",
     "text": [
      "Weight `w_price` got updated to 1.0.\n",
      "Weight `w_bits` got updated to 2.203623537979151e-29.\n",
      "1/1 [==============================] - 0s 66ms/step - loss: 1.7550e-04 - model_loss: 1.7540e-04 - model_1_loss: 9.4908e-08 - val_loss: 1.7036e-04 - val_model_loss: 1.7027e-04 - val_model_1_loss: 9.4215e-08\n",
      "Epoch 187/10000\n",
      "1/1 [==============================] - ETA: 0s - loss: 1.7036e-04 - model_loss: 1.7027e-04 - model_1_loss: 9.4215e-08WARNING:tensorflow:Early stopping conditioned on metric `val_sold_price_loss` which is not available. Available metrics are: loss,model_loss,model_1_loss,val_loss,val_model_loss,val_model_1_loss\n"
     ]
    },
    {
     "name": "stderr",
     "output_type": "stream",
     "text": [
      "WARNING:tensorflow:Early stopping conditioned on metric `val_sold_price_loss` which is not available. Available metrics are: loss,model_loss,model_1_loss,val_loss,val_model_loss,val_model_1_loss\n"
     ]
    },
    {
     "name": "stdout",
     "output_type": "stream",
     "text": [
      "Weight `w_price` got updated to 1.0.\n",
      "Weight `w_bits` got updated to 1.5425364765854057e-29.\n",
      "1/1 [==============================] - 0s 64ms/step - loss: 1.7036e-04 - model_loss: 1.7027e-04 - model_1_loss: 9.4215e-08 - val_loss: 1.6576e-04 - val_model_loss: 1.6567e-04 - val_model_1_loss: 8.9754e-08\n",
      "Epoch 188/10000\n",
      "1/1 [==============================] - ETA: 0s - loss: 1.6576e-04 - model_loss: 1.6567e-04 - model_1_loss: 8.9754e-08WARNING:tensorflow:Early stopping conditioned on metric `val_sold_price_loss` which is not available. Available metrics are: loss,model_loss,model_1_loss,val_loss,val_model_loss,val_model_1_loss\n"
     ]
    },
    {
     "name": "stderr",
     "output_type": "stream",
     "text": [
      "WARNING:tensorflow:Early stopping conditioned on metric `val_sold_price_loss` which is not available. Available metrics are: loss,model_loss,model_1_loss,val_loss,val_model_loss,val_model_1_loss\n"
     ]
    },
    {
     "name": "stdout",
     "output_type": "stream",
     "text": [
      "Weight `w_price` got updated to 1.0.\n",
      "Weight `w_bits` got updated to 1.079775533609784e-29.\n",
      "1/1 [==============================] - 0s 63ms/step - loss: 1.6576e-04 - model_loss: 1.6567e-04 - model_1_loss: 8.9754e-08 - val_loss: 1.6091e-04 - val_model_loss: 1.6082e-04 - val_model_1_loss: 8.5094e-08\n",
      "Epoch 189/10000\n",
      "1/1 [==============================] - ETA: 0s - loss: 1.6091e-04 - model_loss: 1.6082e-04 - model_1_loss: 8.5094e-08WARNING:tensorflow:Early stopping conditioned on metric `val_sold_price_loss` which is not available. Available metrics are: loss,model_loss,model_1_loss,val_loss,val_model_loss,val_model_1_loss\n"
     ]
    },
    {
     "name": "stderr",
     "output_type": "stream",
     "text": [
      "WARNING:tensorflow:Early stopping conditioned on metric `val_sold_price_loss` which is not available. Available metrics are: loss,model_loss,model_1_loss,val_loss,val_model_loss,val_model_1_loss\n"
     ]
    },
    {
     "name": "stdout",
     "output_type": "stream",
     "text": [
      "Weight `w_price` got updated to 1.0.\n",
      "Weight `w_bits` got updated to 7.558428735268487e-30.\n",
      "1/1 [==============================] - 0s 64ms/step - loss: 1.6091e-04 - model_loss: 1.6082e-04 - model_1_loss: 8.5094e-08 - val_loss: 1.5608e-04 - val_model_loss: 1.5600e-04 - val_model_1_loss: 8.0877e-08\n",
      "Epoch 190/10000\n",
      "1/1 [==============================] - ETA: 0s - loss: 1.5608e-04 - model_loss: 1.5600e-04 - model_1_loss: 8.0877e-08WARNING:tensorflow:Early stopping conditioned on metric `val_sold_price_loss` which is not available. Available metrics are: loss,model_loss,model_1_loss,val_loss,val_model_loss,val_model_1_loss\n"
     ]
    },
    {
     "name": "stderr",
     "output_type": "stream",
     "text": [
      "WARNING:tensorflow:Early stopping conditioned on metric `val_sold_price_loss` which is not available. Available metrics are: loss,model_loss,model_1_loss,val_loss,val_model_loss,val_model_1_loss\n"
     ]
    },
    {
     "name": "stdout",
     "output_type": "stream",
     "text": [
      "Weight `w_price` got updated to 1.0.\n",
      "Weight `w_bits` got updated to 5.290900114687941e-30.\n",
      "1/1 [==============================] - 0s 65ms/step - loss: 1.5608e-04 - model_loss: 1.5600e-04 - model_1_loss: 8.0877e-08 - val_loss: 1.5123e-04 - val_model_loss: 1.5115e-04 - val_model_1_loss: 7.7639e-08\n",
      "Epoch 191/10000\n",
      "1/1 [==============================] - ETA: 0s - loss: 1.5123e-04 - model_loss: 1.5115e-04 - model_1_loss: 7.7639e-08WARNING:tensorflow:Early stopping conditioned on metric `val_sold_price_loss` which is not available. Available metrics are: loss,model_loss,model_1_loss,val_loss,val_model_loss,val_model_1_loss\n"
     ]
    },
    {
     "name": "stderr",
     "output_type": "stream",
     "text": [
      "WARNING:tensorflow:Early stopping conditioned on metric `val_sold_price_loss` which is not available. Available metrics are: loss,model_loss,model_1_loss,val_loss,val_model_loss,val_model_1_loss\n"
     ]
    },
    {
     "name": "stdout",
     "output_type": "stream",
     "text": [
      "Weight `w_price` got updated to 1.0.\n",
      "Weight `w_bits` got updated to 3.703630080281558e-30.\n",
      "1/1 [==============================] - 0s 65ms/step - loss: 1.5123e-04 - model_loss: 1.5115e-04 - model_1_loss: 7.7639e-08 - val_loss: 1.4668e-04 - val_model_loss: 1.4660e-04 - val_model_1_loss: 7.4873e-08\n",
      "Epoch 192/10000\n",
      "1/1 [==============================] - ETA: 0s - loss: 1.4668e-04 - model_loss: 1.4660e-04 - model_1_loss: 7.4873e-08WARNING:tensorflow:Early stopping conditioned on metric `val_sold_price_loss` which is not available. Available metrics are: loss,model_loss,model_1_loss,val_loss,val_model_loss,val_model_1_loss\n"
     ]
    },
    {
     "name": "stderr",
     "output_type": "stream",
     "text": [
      "WARNING:tensorflow:Early stopping conditioned on metric `val_sold_price_loss` which is not available. Available metrics are: loss,model_loss,model_1_loss,val_loss,val_model_loss,val_model_1_loss\n"
     ]
    },
    {
     "name": "stdout",
     "output_type": "stream",
     "text": [
      "Weight `w_price` got updated to 1.0.\n",
      "Weight `w_bits` got updated to 2.5925410561970904e-30.\n",
      "1/1 [==============================] - 0s 72ms/step - loss: 1.4668e-04 - model_loss: 1.4660e-04 - model_1_loss: 7.4873e-08 - val_loss: 1.4242e-04 - val_model_loss: 1.4235e-04 - val_model_1_loss: 7.3582e-08\n",
      "Epoch 193/10000\n",
      "1/1 [==============================] - ETA: 0s - loss: 1.4242e-04 - model_loss: 1.4235e-04 - model_1_loss: 7.3582e-08WARNING:tensorflow:Early stopping conditioned on metric `val_sold_price_loss` which is not available. Available metrics are: loss,model_loss,model_1_loss,val_loss,val_model_loss,val_model_1_loss\n"
     ]
    },
    {
     "name": "stderr",
     "output_type": "stream",
     "text": [
      "WARNING:tensorflow:Early stopping conditioned on metric `val_sold_price_loss` which is not available. Available metrics are: loss,model_loss,model_1_loss,val_loss,val_model_loss,val_model_1_loss\n"
     ]
    },
    {
     "name": "stdout",
     "output_type": "stream",
     "text": [
      "Weight `w_price` got updated to 1.0.\n",
      "Weight `w_bits` got updated to 1.814778739337963e-30.\n",
      "1/1 [==============================] - 0s 60ms/step - loss: 1.4242e-04 - model_loss: 1.4235e-04 - model_1_loss: 7.3582e-08 - val_loss: 1.3821e-04 - val_model_loss: 1.3813e-04 - val_model_1_loss: 7.3016e-08\n",
      "Epoch 194/10000\n",
      "1/1 [==============================] - ETA: 0s - loss: 1.3821e-04 - model_loss: 1.3813e-04 - model_1_loss: 7.3016e-08WARNING:tensorflow:Early stopping conditioned on metric `val_sold_price_loss` which is not available. Available metrics are: loss,model_loss,model_1_loss,val_loss,val_model_loss,val_model_1_loss\n"
     ]
    },
    {
     "name": "stderr",
     "output_type": "stream",
     "text": [
      "WARNING:tensorflow:Early stopping conditioned on metric `val_sold_price_loss` which is not available. Available metrics are: loss,model_loss,model_1_loss,val_loss,val_model_loss,val_model_1_loss\n"
     ]
    },
    {
     "name": "stdout",
     "output_type": "stream",
     "text": [
      "Weight `w_price` got updated to 1.0.\n",
      "Weight `w_bits` got updated to 1.2703451175365742e-30.\n",
      "1/1 [==============================] - 0s 62ms/step - loss: 1.3821e-04 - model_loss: 1.3813e-04 - model_1_loss: 7.3016e-08 - val_loss: 1.3420e-04 - val_model_loss: 1.3413e-04 - val_model_1_loss: 7.2569e-08\n",
      "Epoch 195/10000\n",
      "1/1 [==============================] - ETA: 0s - loss: 1.3420e-04 - model_loss: 1.3413e-04 - model_1_loss: 7.2569e-08WARNING:tensorflow:Early stopping conditioned on metric `val_sold_price_loss` which is not available. Available metrics are: loss,model_loss,model_1_loss,val_loss,val_model_loss,val_model_1_loss\n"
     ]
    },
    {
     "name": "stderr",
     "output_type": "stream",
     "text": [
      "WARNING:tensorflow:Early stopping conditioned on metric `val_sold_price_loss` which is not available. Available metrics are: loss,model_loss,model_1_loss,val_loss,val_model_loss,val_model_1_loss\n"
     ]
    },
    {
     "name": "stdout",
     "output_type": "stream",
     "text": [
      "Weight `w_price` got updated to 1.0.\n",
      "Weight `w_bits` got updated to 8.892415822756019e-31.\n",
      "1/1 [==============================] - 0s 66ms/step - loss: 1.3420e-04 - model_loss: 1.3413e-04 - model_1_loss: 7.2569e-08 - val_loss: 1.3092e-04 - val_model_loss: 1.3084e-04 - val_model_1_loss: 7.2748e-08\n",
      "Epoch 196/10000\n",
      "1/1 [==============================] - ETA: 0s - loss: 1.3092e-04 - model_loss: 1.3084e-04 - model_1_loss: 7.2748e-08WARNING:tensorflow:Early stopping conditioned on metric `val_sold_price_loss` which is not available. Available metrics are: loss,model_loss,model_1_loss,val_loss,val_model_loss,val_model_1_loss\n"
     ]
    },
    {
     "name": "stderr",
     "output_type": "stream",
     "text": [
      "WARNING:tensorflow:Early stopping conditioned on metric `val_sold_price_loss` which is not available. Available metrics are: loss,model_loss,model_1_loss,val_loss,val_model_loss,val_model_1_loss\n"
     ]
    },
    {
     "name": "stdout",
     "output_type": "stream",
     "text": [
      "Weight `w_price` got updated to 1.0.\n",
      "Weight `w_bits` got updated to 6.2246910759292125e-31.\n",
      "1/1 [==============================] - 0s 64ms/step - loss: 1.3092e-04 - model_loss: 1.3084e-04 - model_1_loss: 7.2748e-08 - val_loss: 1.2765e-04 - val_model_loss: 1.2757e-04 - val_model_1_loss: 7.2670e-08\n",
      "Epoch 197/10000\n",
      "1/1 [==============================] - ETA: 0s - loss: 1.2765e-04 - model_loss: 1.2757e-04 - model_1_loss: 7.2670e-08WARNING:tensorflow:Early stopping conditioned on metric `val_sold_price_loss` which is not available. Available metrics are: loss,model_loss,model_1_loss,val_loss,val_model_loss,val_model_1_loss\n"
     ]
    },
    {
     "name": "stderr",
     "output_type": "stream",
     "text": [
      "WARNING:tensorflow:Early stopping conditioned on metric `val_sold_price_loss` which is not available. Available metrics are: loss,model_loss,model_1_loss,val_loss,val_model_loss,val_model_1_loss\n"
     ]
    },
    {
     "name": "stdout",
     "output_type": "stream",
     "text": [
      "Weight `w_price` got updated to 1.0.\n",
      "Weight `w_bits` got updated to 4.357283753150448e-31.\n",
      "1/1 [==============================] - 0s 64ms/step - loss: 1.2765e-04 - model_loss: 1.2757e-04 - model_1_loss: 7.2670e-08 - val_loss: 1.2444e-04 - val_model_loss: 1.2437e-04 - val_model_1_loss: 7.0984e-08\n",
      "Epoch 198/10000\n",
      "1/1 [==============================] - ETA: 0s - loss: 1.2444e-04 - model_loss: 1.2437e-04 - model_1_loss: 7.0984e-08WARNING:tensorflow:Early stopping conditioned on metric `val_sold_price_loss` which is not available. Available metrics are: loss,model_loss,model_1_loss,val_loss,val_model_loss,val_model_1_loss\n"
     ]
    },
    {
     "name": "stderr",
     "output_type": "stream",
     "text": [
      "WARNING:tensorflow:Early stopping conditioned on metric `val_sold_price_loss` which is not available. Available metrics are: loss,model_loss,model_1_loss,val_loss,val_model_loss,val_model_1_loss\n"
     ]
    },
    {
     "name": "stdout",
     "output_type": "stream",
     "text": [
      "Weight `w_price` got updated to 1.0.\n",
      "Weight `w_bits` got updated to 3.050098627205314e-31.\n",
      "1/1 [==============================] - 0s 65ms/step - loss: 1.2444e-04 - model_loss: 1.2437e-04 - model_1_loss: 7.0984e-08 - val_loss: 1.2120e-04 - val_model_loss: 1.2113e-04 - val_model_1_loss: 6.9552e-08\n",
      "Epoch 199/10000\n",
      "1/1 [==============================] - ETA: 0s - loss: 1.2120e-04 - model_loss: 1.2113e-04 - model_1_loss: 6.9552e-08WARNING:tensorflow:Early stopping conditioned on metric `val_sold_price_loss` which is not available. Available metrics are: loss,model_loss,model_1_loss,val_loss,val_model_loss,val_model_1_loss\n"
     ]
    },
    {
     "name": "stderr",
     "output_type": "stream",
     "text": [
      "WARNING:tensorflow:Early stopping conditioned on metric `val_sold_price_loss` which is not available. Available metrics are: loss,model_loss,model_1_loss,val_loss,val_model_loss,val_model_1_loss\n"
     ]
    },
    {
     "name": "stdout",
     "output_type": "stream",
     "text": [
      "Weight `w_price` got updated to 1.0.\n",
      "Weight `w_bits` got updated to 2.1350690390437198e-31.\n",
      "1/1 [==============================] - 0s 62ms/step - loss: 1.2120e-04 - model_loss: 1.2113e-04 - model_1_loss: 6.9552e-08 - val_loss: 1.1819e-04 - val_model_loss: 1.1812e-04 - val_model_1_loss: 6.8157e-08\n",
      "Epoch 200/10000\n",
      "1/1 [==============================] - ETA: 0s - loss: 1.1819e-04 - model_loss: 1.1812e-04 - model_1_loss: 6.8157e-08WARNING:tensorflow:Early stopping conditioned on metric `val_sold_price_loss` which is not available. Available metrics are: loss,model_loss,model_1_loss,val_loss,val_model_loss,val_model_1_loss\n"
     ]
    },
    {
     "name": "stderr",
     "output_type": "stream",
     "text": [
      "WARNING:tensorflow:Early stopping conditioned on metric `val_sold_price_loss` which is not available. Available metrics are: loss,model_loss,model_1_loss,val_loss,val_model_loss,val_model_1_loss\n"
     ]
    },
    {
     "name": "stdout",
     "output_type": "stream",
     "text": [
      "Weight `w_price` got updated to 1.0.\n",
      "Weight `w_bits` got updated to 1.4945483273306036e-31.\n",
      "1/1 [==============================] - 0s 65ms/step - loss: 1.1819e-04 - model_loss: 1.1812e-04 - model_1_loss: 6.8157e-08 - val_loss: 1.1548e-04 - val_model_loss: 1.1541e-04 - val_model_1_loss: 6.5498e-08\n",
      "Epoch 201/10000\n",
      "1/1 [==============================] - ETA: 0s - loss: 1.1548e-04 - model_loss: 1.1541e-04 - model_1_loss: 6.5498e-08WARNING:tensorflow:Early stopping conditioned on metric `val_sold_price_loss` which is not available. Available metrics are: loss,model_loss,model_1_loss,val_loss,val_model_loss,val_model_1_loss\n"
     ]
    },
    {
     "name": "stderr",
     "output_type": "stream",
     "text": [
      "WARNING:tensorflow:Early stopping conditioned on metric `val_sold_price_loss` which is not available. Available metrics are: loss,model_loss,model_1_loss,val_loss,val_model_loss,val_model_1_loss\n"
     ]
    },
    {
     "name": "stdout",
     "output_type": "stream",
     "text": [
      "Weight `w_price` got updated to 1.0.\n",
      "Weight `w_bits` got updated to 1.0461838291314224e-31.\n",
      "1/1 [==============================] - 0s 64ms/step - loss: 1.1548e-04 - model_loss: 1.1541e-04 - model_1_loss: 6.5498e-08 - val_loss: 1.1272e-04 - val_model_loss: 1.1266e-04 - val_model_1_loss: 6.3948e-08\n",
      "Epoch 202/10000\n",
      "1/1 [==============================] - ETA: 0s - loss: 1.1272e-04 - model_loss: 1.1266e-04 - model_1_loss: 6.3948e-08WARNING:tensorflow:Early stopping conditioned on metric `val_sold_price_loss` which is not available. Available metrics are: loss,model_loss,model_1_loss,val_loss,val_model_loss,val_model_1_loss\n"
     ]
    },
    {
     "name": "stderr",
     "output_type": "stream",
     "text": [
      "WARNING:tensorflow:Early stopping conditioned on metric `val_sold_price_loss` which is not available. Available metrics are: loss,model_loss,model_1_loss,val_loss,val_model_loss,val_model_1_loss\n"
     ]
    },
    {
     "name": "stdout",
     "output_type": "stream",
     "text": [
      "Weight `w_price` got updated to 1.0.\n",
      "Weight `w_bits` got updated to 7.323286803919956e-32.\n",
      "1/1 [==============================] - 0s 62ms/step - loss: 1.1272e-04 - model_loss: 1.1266e-04 - model_1_loss: 6.3948e-08 - val_loss: 1.1013e-04 - val_model_loss: 1.1007e-04 - val_model_1_loss: 6.2099e-08\n",
      "Epoch 203/10000\n",
      "1/1 [==============================] - ETA: 0s - loss: 1.1013e-04 - model_loss: 1.1007e-04 - model_1_loss: 6.2099e-08WARNING:tensorflow:Early stopping conditioned on metric `val_sold_price_loss` which is not available. Available metrics are: loss,model_loss,model_1_loss,val_loss,val_model_loss,val_model_1_loss\n"
     ]
    },
    {
     "name": "stderr",
     "output_type": "stream",
     "text": [
      "WARNING:tensorflow:Early stopping conditioned on metric `val_sold_price_loss` which is not available. Available metrics are: loss,model_loss,model_1_loss,val_loss,val_model_loss,val_model_1_loss\n"
     ]
    },
    {
     "name": "stdout",
     "output_type": "stream",
     "text": [
      "Weight `w_price` got updated to 1.0.\n",
      "Weight `w_bits` got updated to 5.12630076274397e-32.\n",
      "1/1 [==============================] - 0s 66ms/step - loss: 1.1013e-04 - model_loss: 1.1007e-04 - model_1_loss: 6.2099e-08 - val_loss: 1.0764e-04 - val_model_loss: 1.0758e-04 - val_model_1_loss: 6.0087e-08\n",
      "Epoch 204/10000\n",
      "1/1 [==============================] - ETA: 0s - loss: 1.0764e-04 - model_loss: 1.0758e-04 - model_1_loss: 6.0087e-08WARNING:tensorflow:Early stopping conditioned on metric `val_sold_price_loss` which is not available. Available metrics are: loss,model_loss,model_1_loss,val_loss,val_model_loss,val_model_1_loss\n"
     ]
    },
    {
     "name": "stderr",
     "output_type": "stream",
     "text": [
      "WARNING:tensorflow:Early stopping conditioned on metric `val_sold_price_loss` which is not available. Available metrics are: loss,model_loss,model_1_loss,val_loss,val_model_loss,val_model_1_loss\n"
     ]
    },
    {
     "name": "stdout",
     "output_type": "stream",
     "text": [
      "Weight `w_price` got updated to 1.0.\n",
      "Weight `w_bits` got updated to 3.588410533920778e-32.\n",
      "1/1 [==============================] - 0s 66ms/step - loss: 1.0764e-04 - model_loss: 1.0758e-04 - model_1_loss: 6.0087e-08 - val_loss: 1.0518e-04 - val_model_loss: 1.0512e-04 - val_model_1_loss: 5.8104e-08\n",
      "Epoch 205/10000\n",
      "1/1 [==============================] - ETA: 0s - loss: 1.0518e-04 - model_loss: 1.0512e-04 - model_1_loss: 5.8104e-08WARNING:tensorflow:Early stopping conditioned on metric `val_sold_price_loss` which is not available. Available metrics are: loss,model_loss,model_1_loss,val_loss,val_model_loss,val_model_1_loss\n"
     ]
    },
    {
     "name": "stderr",
     "output_type": "stream",
     "text": [
      "WARNING:tensorflow:Early stopping conditioned on metric `val_sold_price_loss` which is not available. Available metrics are: loss,model_loss,model_1_loss,val_loss,val_model_loss,val_model_1_loss\n"
     ]
    },
    {
     "name": "stdout",
     "output_type": "stream",
     "text": [
      "Weight `w_price` got updated to 1.0.\n",
      "Weight `w_bits` got updated to 2.5118873737445446e-32.\n",
      "1/1 [==============================] - 0s 64ms/step - loss: 1.0518e-04 - model_loss: 1.0512e-04 - model_1_loss: 5.8104e-08 - val_loss: 1.0272e-04 - val_model_loss: 1.0266e-04 - val_model_1_loss: 5.5521e-08\n",
      "Epoch 206/10000\n",
      "1/1 [==============================] - ETA: 0s - loss: 1.0272e-04 - model_loss: 1.0266e-04 - model_1_loss: 5.5521e-08WARNING:tensorflow:Early stopping conditioned on metric `val_sold_price_loss` which is not available. Available metrics are: loss,model_loss,model_1_loss,val_loss,val_model_loss,val_model_1_loss\n"
     ]
    },
    {
     "name": "stderr",
     "output_type": "stream",
     "text": [
      "WARNING:tensorflow:Early stopping conditioned on metric `val_sold_price_loss` which is not available. Available metrics are: loss,model_loss,model_1_loss,val_loss,val_model_loss,val_model_1_loss\n"
     ]
    },
    {
     "name": "stdout",
     "output_type": "stream",
     "text": [
      "Weight `w_price` got updated to 1.0.\n",
      "Weight `w_bits` got updated to 1.7583211616211813e-32.\n",
      "1/1 [==============================] - 0s 76ms/step - loss: 1.0272e-04 - model_loss: 1.0266e-04 - model_1_loss: 5.5521e-08 - val_loss: 1.0041e-04 - val_model_loss: 1.0036e-04 - val_model_1_loss: 5.3353e-08\n",
      "Epoch 207/10000\n",
      "1/1 [==============================] - ETA: 0s - loss: 1.0041e-04 - model_loss: 1.0036e-04 - model_1_loss: 5.3353e-08WARNING:tensorflow:Early stopping conditioned on metric `val_sold_price_loss` which is not available. Available metrics are: loss,model_loss,model_1_loss,val_loss,val_model_loss,val_model_1_loss\n"
     ]
    },
    {
     "name": "stderr",
     "output_type": "stream",
     "text": [
      "WARNING:tensorflow:Early stopping conditioned on metric `val_sold_price_loss` which is not available. Available metrics are: loss,model_loss,model_1_loss,val_loss,val_model_loss,val_model_1_loss\n"
     ]
    },
    {
     "name": "stdout",
     "output_type": "stream",
     "text": [
      "Weight `w_price` got updated to 1.0.\n",
      "Weight `w_bits` got updated to 1.2308248131348267e-32.\n",
      "1/1 [==============================] - 0s 65ms/step - loss: 1.0041e-04 - model_loss: 1.0036e-04 - model_1_loss: 5.3353e-08 - val_loss: 9.8274e-05 - val_model_loss: 9.8222e-05 - val_model_1_loss: 5.2143e-08\n",
      "Epoch 208/10000\n",
      "Batch 0: loss is almost zero\n",
      "1/1 [==============================] - ETA: 0s - loss: 9.8274e-05 - model_loss: 9.8222e-05 - model_1_loss: 5.2143e-08WARNING:tensorflow:Early stopping conditioned on metric `val_sold_price_loss` which is not available. Available metrics are: loss,model_loss,model_1_loss,val_loss,val_model_loss,val_model_1_loss\n"
     ]
    },
    {
     "name": "stderr",
     "output_type": "stream",
     "text": [
      "WARNING:tensorflow:Early stopping conditioned on metric `val_sold_price_loss` which is not available. Available metrics are: loss,model_loss,model_1_loss,val_loss,val_model_loss,val_model_1_loss\n"
     ]
    },
    {
     "name": "stdout",
     "output_type": "stream",
     "text": [
      "Weight `w_price` got updated to 1.0.\n",
      "Weight `w_bits` got updated to 8.615773691943786e-33.\n",
      "1/1 [==============================] - 0s 63ms/step - loss: 9.8274e-05 - model_loss: 9.8222e-05 - model_1_loss: 5.2143e-08 - val_loss: 9.6186e-05 - val_model_loss: 9.6135e-05 - val_model_1_loss: 5.1025e-08\n"
     ]
    },
    {
     "name": "stderr",
     "output_type": "stream",
     "text": [
      "WARNING:absl:Function `_wrapped_model` contains input name(s) args_0 with unsupported characters which will be renamed to args_0_4 in the SavedModel.\n",
      "WARNING:absl:Found untraced functions such as _update_step_xla while saving (showing 1 of 1). These functions will not be directly callable after loading.\n"
     ]
    },
    {
     "name": "stdout",
     "output_type": "stream",
     "text": [
      "INFO:tensorflow:Assets written to: /tmp/tmp_model/keras_model/assets\n"
     ]
    },
    {
     "name": "stderr",
     "output_type": "stream",
     "text": [
      "INFO:tensorflow:Assets written to: /tmp/tmp_model/keras_model/assets\n"
     ]
    },
    {
     "name": "stdout",
     "output_type": "stream",
     "text": [
      "WARNING:tensorflow:Compiled the loaded model, but the compiled metrics have yet to be built. `model.compile_metrics` will be empty until you train or evaluate the model.\n"
     ]
    },
    {
     "name": "stderr",
     "output_type": "stream",
     "text": [
      "WARNING:tensorflow:Compiled the loaded model, but the compiled metrics have yet to be built. `model.compile_metrics` will be empty until you train or evaluate the model.\n",
      "0it [00:00, ?it/s]/Users/majid/git/housing/venv/lib/python3.7/site-packages/keras/engine/functional.py:638: UserWarning: Input dict contained keys ['bedroom', 'washroom', 'house_type', 'parking', 'basement', 'seller_price'] which did not match any model input. They will be ignored by the model.\n",
      "  inputs = self._flatten_to_reference_inputs(inputs)\n",
      "4it [00:00, 19.40it/s]\n"
     ]
    }
   ],
   "source": [
    "with open(experiment_config_file) as fin:\n",
    "    experiment_config = ExperimentSpec.from_json(fin.read())\n",
    "\n",
    "ex_cnt = experiment_config.training.batch_size\n",
    "train_ds = train_ds.take(ex_cnt).cache()\n",
    "test_ds = train_ds.take(ex_cnt).cache()\n",
    "\n",
    "keras_model = KerasModelTrainer.build(experiment_config.modeling, model_path)\n",
    "\n",
    "overfit_loss = get_overfit_loss(train_ds, keras_model, experiment_config.training)\n",
    "\n",
    "learned_model = keras_model.keras_model\n",
    "keras_model.save()\n",
    "\n",
    "keras_model = KerasModelTrainer.load(model_path)\n",
    "loaded_model = keras_model.keras_model\n",
    "\n",
    "keras_models_are_almost_equal(learned_model, loaded_model)\n",
    "\n",
    "predictor = keras_model.make_predictor()\n",
    "\n",
    "metric = eval_model_on_tfds(test_ds, predictor)"
   ]
  },
  {
   "cell_type": "code",
   "execution_count": 6,
   "id": "33548a6d",
   "metadata": {},
   "outputs": [
    {
     "name": "stderr",
     "output_type": "stream",
     "text": [
      "4it [00:00, 34.65it/s]\n"
     ]
    }
   ],
   "source": [
    "predictor = keras_model.make_predictor()\n",
    "\n",
    "metric = eval_model_on_tfds(test_ds, predictor)"
   ]
  },
  {
   "cell_type": "code",
   "execution_count": 7,
   "id": "ec0f1cde",
   "metadata": {},
   "outputs": [
    {
     "data": {
      "text/plain": [
       "0.00020125860227641868"
      ]
     },
     "execution_count": 7,
     "metadata": {},
     "output_type": "execute_result"
    }
   ],
   "source": [
    "metric.value['mean']"
   ]
  },
  {
   "cell_type": "markdown",
   "id": "5e3de28a",
   "metadata": {},
   "source": [
    "Next we retrive a model with zero `sold_price_loss` and load it:"
   ]
  },
  {
   "cell_type": "code",
   "execution_count": null,
   "id": "3e43aded",
   "metadata": {},
   "outputs": [],
   "source": [
    "exp_root = Path(root_dir) / \"exp\"\n",
    "sudy_name = \"exp_dese_depth_and_embd_size\"\n",
    "exp_path = exp_root / sudy_name\n",
    "\n",
    "storage = f\"sqlite:////{os.path.abspath(exp_path)}/{sudy_name}.db\"\n",
    "\n",
    "study = optuna.create_study(\n",
    "    storage=storage,\n",
    "    study_name=sudy_name,\n",
    "    load_if_exists=True\n",
    ")"
   ]
  },
  {
   "cell_type": "code",
   "execution_count": null,
   "id": "85d842c6",
   "metadata": {},
   "outputs": [],
   "source": [
    "best_params = study.best_trial.params\n",
    "print(best_params)"
   ]
  },
  {
   "cell_type": "code",
   "execution_count": null,
   "id": "2caf44cf",
   "metadata": {},
   "outputs": [],
   "source": [
    "with open(exp_path / \"hyper-params-config.json\") as f:\n",
    "    hyper_param_configs = json.load(f)\n",
    "name_format = hyper_param_configs[\"name\"]\n",
    "dir_name = name_format.format(**best_params)\n",
    "\n",
    "model_path = None\n",
    "for d in exp_path.iterdir():\n",
    "    if dir_name in str(d):\n",
    "        model_path = d\n",
    "\n",
    "assert model_path is not None and model_path.exists(),\\\n",
    "    f\"cannot find the overfitted model in {str(model_path)}\"\n",
    "\n",
    "keras_model = KerasModelTrainer.load(model_path)"
   ]
  },
  {
   "cell_type": "markdown",
   "id": "ecb2e0ae",
   "metadata": {},
   "source": [
    "now load the data set (please manually verify the `ml_num`)"
   ]
  },
  {
   "cell_type": "code",
   "execution_count": null,
   "id": "9ddbba94",
   "metadata": {},
   "outputs": [],
   "source": [
    "predictor = keras_model.make_predictor()\n",
    "metrics = {}\n",
    "for data_split in ('201906', '201911', '201912', '202001', '202002', '202003'):\n",
    "    data = tfds.load('tf_housing', split=data_split)\n",
    "    metrics[data_split] = eval_model_on_tfds(data.take(100), predictor)\n",
    "    \n"
   ]
  },
  {
   "cell_type": "markdown",
   "id": "b53ba30b",
   "metadata": {},
   "source": [
    "Check the metrics of model on the train data set:"
   ]
  },
  {
   "cell_type": "code",
   "execution_count": null,
   "id": "c9d679df",
   "metadata": {},
   "outputs": [],
   "source": [
    "def expected_loss(metric):\n",
    "    pdf = metric.value[\"hist\"][\"pdf\"]\n",
    "    loss = 0\n",
    "    for val, p in enumerate(pdf): \n",
    "        loss += p * (np.log(1 + 0.1 * val) ** 2)\n",
    "    return loss\n",
    "\n",
    "for data_split, metric in metrics.items():\n",
    "    print(f\"{data_split} -> {metric.value['med']}\")\n",
    "    print(f\"expected_loss -> {expected_loss(metric)}\")"
   ]
  },
  {
   "cell_type": "markdown",
   "id": "387944ea",
   "metadata": {},
   "source": [
    "Check the loss value:"
   ]
  },
  {
   "cell_type": "code",
   "execution_count": null,
   "id": "7218a672",
   "metadata": {},
   "outputs": [],
   "source": [
    "with open(model_path / \"hist.json\") as f:\n",
    "    hist = json.load(f)\n",
    "\n",
    "train_loss = hist['sold_price_loss'][-1]\n",
    "print(f\"train loss = {train_loss}\")\n",
    "\n",
    "print(f\"expected mean error is = {np.e ** np.sqrt(train_loss)}\")\n",
    "\n"
   ]
  },
  {
   "cell_type": "markdown",
   "id": "e6e20217",
   "metadata": {},
   "source": [
    "Check the loss is 0:"
   ]
  },
  {
   "cell_type": "code",
   "execution_count": null,
   "id": "b6bc0537",
   "metadata": {},
   "outputs": [],
   "source": [
    "dataset_size = len(list(train_ds))\n",
    "train_params = TrainParams(\n",
    "    batch_size=dataset_size, epochs=1, learning_rate=1e-2,\n",
    "    early_stopping=EarlyStoppingSetting(patience=500)\n",
    ")\n",
    "arc_params = keras_model.model_params.arc_params\n",
    "\n",
    "keras_model.keras_model.compile(\n",
    "    optimizer=tf.keras.optimizers.Adam(learning_rate=train_params.learning_rate),\n",
    "    loss={\n",
    "        arc_params.price_feature_name: tf.keras.losses.MeanSquaredLogarithmicError(),\n",
    "        arc_params.bits_feature_name: tf.keras.losses.BinaryCrossentropy()\n",
    "    },\n",
    "    loss_weights={\n",
    "        arc_params.price_feature_name: 0.99,\n",
    "        arc_params.bits_feature_name: 0.01\n",
    "    }\n",
    ")\n",
    "\n",
    "hist = keras_model.keras_model.fit(\n",
    "    keras_model.data_provider.setup_data(train_ds, dataset_size),\n",
    "    epochs=train_params.epochs\n",
    ")\n",
    "\n",
    "print(hist.history['loss'][-1])"
   ]
  },
  {
   "cell_type": "markdown",
   "id": "e8f999fd",
   "metadata": {},
   "source": [
    "The loss is not zero, was the model saved properly or the problem is in above code, first check if we can overfit the model again:"
   ]
  },
  {
   "cell_type": "code",
   "execution_count": null,
   "id": "757561fe",
   "metadata": {},
   "outputs": [],
   "source": [
    "hist = keras_model.fit_model(\n",
    "    train_ds,\n",
    "    None,\n",
    "    # train_ds.take(dataset_size).cache(),\n",
    "    TrainParams(\n",
    "        batch_size=dataset_size, epochs=500, learning_rate=1e-2,\n",
    "        early_stopping=EarlyStoppingSetting(patience=500)\n",
    "    ),\n",
    ")\n",
    "print(hist.history['loss'][-1])"
   ]
  },
  {
   "cell_type": "markdown",
   "id": "558d7f03",
   "metadata": {},
   "source": [
    "The model overfit agian, now we can check the above code without save/load the model again:"
   ]
  },
  {
   "cell_type": "code",
   "execution_count": null,
   "id": "cb94d5ba",
   "metadata": {},
   "outputs": [],
   "source": [
    "hist = keras_model.keras_model.fit(\n",
    "    keras_model.data_provider.setup_data(train_ds, dataset_size),\n",
    "    epochs=train_params.epochs\n",
    ")\n",
    "\n",
    "print(hist.history['loss'][-1])"
   ]
  },
  {
   "cell_type": "markdown",
   "id": "eec9a0cd",
   "metadata": {},
   "source": [
    "This code worked, please re-run above cell to make sure, everything is the same.\n",
    "\n",
    "(I have done it and I got zero loss agian)\n",
    "\n",
    "This suggest the problem is in loading and saving the model. Lets verify it:"
   ]
  },
  {
   "cell_type": "code",
   "execution_count": null,
   "id": "3b428e9f",
   "metadata": {},
   "outputs": [],
   "source": [
    "tmp_dir = Path('/tmp/tmp_model')\n",
    "if tmp_dir.exists():\n",
    "    shutil.rmtree(tmp_dir)\n",
    "tmp_dir.mkdir()\n",
    "    \n",
    "keras_model.save(tmp_dir)\n",
    "loaded_model = KerasModelTrainer.load(tmp_dir)\n",
    "\n",
    "for lw, ow in zip(loaded_model.keras_model.weights, keras_model.keras_model.weights):\n",
    "    print(lw - ow)\n"
   ]
  },
  {
   "cell_type": "markdown",
   "id": "74c62618",
   "metadata": {},
   "source": [
    "The model weight are the same!"
   ]
  },
  {
   "cell_type": "code",
   "execution_count": null,
   "id": "782e07c9",
   "metadata": {},
   "outputs": [],
   "source": [
    "train_params = TrainParams(\n",
    "    batch_size=dataset_size, epochs=1, learning_rate=1e-2,\n",
    "    early_stopping=EarlyStoppingSetting(patience=500)\n",
    ")\n",
    "arc_params = loaded_model.model_params.arc_params\n",
    "\n",
    "loaded_model.keras_model.compile(\n",
    "    optimizer=tf.keras.optimizers.Adam(learning_rate=train_params.learning_rate),\n",
    "    loss={\n",
    "        arc_params.price_feature_name: tf.keras.losses.MeanSquaredLogarithmicError(),\n",
    "        arc_params.bits_feature_name: tf.keras.losses.BinaryCrossentropy()\n",
    "    },\n",
    "    loss_weights={\n",
    "        arc_params.price_feature_name: 0.99,\n",
    "        arc_params.bits_feature_name: 0.01\n",
    "    }\n",
    ")\n",
    "for lw, ow in zip(loaded_model.keras_model.weights, keras_model.keras_model.weights):\n",
    "    print(lw - ow)\n",
    "\n"
   ]
  },
  {
   "cell_type": "code",
   "execution_count": null,
   "id": "d39b7841",
   "metadata": {},
   "outputs": [],
   "source": []
  },
  {
   "cell_type": "code",
   "execution_count": null,
   "id": "2b22df75",
   "metadata": {},
   "outputs": [],
   "source": [
    "res = eval_model_on_tfds(train_ds, keras_model.make_predictor())"
   ]
  },
  {
   "cell_type": "code",
   "execution_count": null,
   "id": "076c5ace",
   "metadata": {},
   "outputs": [],
   "source": [
    "res.value"
   ]
  },
  {
   "cell_type": "code",
   "execution_count": null,
   "id": "91b38d9b",
   "metadata": {},
   "outputs": [],
   "source": [
    "for x, y in keras_model.data_provider.setup_data(train_ds, dataset_size):\n",
    "    res = keras_model.keras_model(x)\n",
    "    print(res['sold_price'].numpy())\n",
    "    print(y['sold_price'].numpy())"
   ]
  },
  {
   "cell_type": "code",
   "execution_count": null,
   "id": "46003997",
   "metadata": {},
   "outputs": [],
   "source": [
    "examples = [\n",
    "    Example(ml_num=ex['metadata']['ml_num'].numpy().decode('UTF-8'), sold_price=int(ex[SOLD_PRICE].numpy().item()), features=Features(\n",
    "        house_sigma_estimation=0.0,\n",
    "        map_lat=ex[MAP_LAT].numpy().item(),\n",
    "        map_lon=ex[MAP_LON].numpy().item(),\n",
    "        land_front=ex[LAND_FRONT].numpy().item(),\n",
    "        land_depth=ex[LAND_DEPTH].numpy().item(),\n",
    "        date_end=datetime.fromtimestamp(\n",
    "            int(ex[DATE_END].numpy().item() * 24 * 3600) \n",
    "            + datetime(1970, 1, 1).timestamp()\n",
    "        )\n",
    "    ))\n",
    "    for ex in train_ds\n",
    "]\n",
    "\n",
    "encoded_features = [\n",
    "    TfHousing.to_features(Example(sold_price=ex.sold_price, ml_num=ex.ml_num, features=ex.features))[1]\n",
    "    for ex in examples\n",
    "]"
   ]
  },
  {
   "cell_type": "code",
   "execution_count": null,
   "id": "3f3a39ee",
   "metadata": {},
   "outputs": [],
   "source": [
    "for encoded in encoded_features:\n",
    "    for original in train_ds:\n",
    "        if encoded['metadata']['ml_num'] == original['metadata']['ml_num']:\n",
    "            print(encoded)\n",
    "            print()\n",
    "            print(original)\n",
    "            print()\n",
    "            print(\"======\")\n"
   ]
  },
  {
   "cell_type": "code",
   "execution_count": null,
   "id": "16d43336",
   "metadata": {},
   "outputs": [],
   "source": [
    "np.log(1.1) ** 2"
   ]
  },
  {
   "cell_type": "code",
   "execution_count": null,
   "id": "85c806d8",
   "metadata": {},
   "outputs": [],
   "source": [
    "keras_model"
   ]
  },
  {
   "cell_type": "code",
   "execution_count": null,
   "id": "95a46444",
   "metadata": {},
   "outputs": [],
   "source": []
  }
 ],
 "metadata": {
  "kernelspec": {
   "display_name": "Python 3 (ipykernel)",
   "language": "python",
   "name": "python3"
  },
  "language_info": {
   "codemirror_mode": {
    "name": "ipython",
    "version": 3
   },
   "file_extension": ".py",
   "mimetype": "text/x-python",
   "name": "python",
   "nbconvert_exporter": "python",
   "pygments_lexer": "ipython3",
   "version": "3.7.7"
  }
 },
 "nbformat": 4,
 "nbformat_minor": 5
}
