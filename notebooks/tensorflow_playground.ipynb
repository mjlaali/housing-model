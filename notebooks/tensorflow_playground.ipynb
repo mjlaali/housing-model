{
 "cells": [
  {
   "cell_type": "code",
   "execution_count": 10,
   "id": "98df558d",
   "metadata": {},
   "outputs": [],
   "source": [
    "import tensorflow as tf\n",
    "import numpy as np"
   ]
  },
  {
   "cell_type": "code",
   "execution_count": 2,
   "id": "5f839ded",
   "metadata": {},
   "outputs": [
    {
     "name": "stderr",
     "output_type": "stream",
     "text": [
      "2022-09-09 20:38:32.737227: I tensorflow/core/platform/cpu_feature_guard.cc:142] This TensorFlow binary is optimized with oneAPI Deep Neural Network Library (oneDNN) to use the following CPU instructions in performance-critical operations:  AVX2 FMA\n",
      "To enable them in other operations, rebuild TensorFlow with the appropriate compiler flags.\n"
     ]
    }
   ],
   "source": [
    "y_true = tf.constant([[0., 1.], [0., 0.]])\n",
    "y_pred = tf.constant([[1., 1.], [1., 0.]])"
   ]
  },
  {
   "cell_type": "code",
   "execution_count": 22,
   "id": "cd06524d",
   "metadata": {},
   "outputs": [
    {
     "name": "stdout",
     "output_type": "stream",
     "text": [
      "tf.Tensor(0.2402265, shape=(), dtype=float32)\n"
     ]
    }
   ],
   "source": [
    "loss_val = (tf.math.log(y_true + 1) - tf.math.log(y_pred + 1)) ** 2\n",
    "print(tf.reduce_sum(loss_val) / 4)"
   ]
  },
  {
   "cell_type": "code",
   "execution_count": 20,
   "id": "5144578b",
   "metadata": {},
   "outputs": [
    {
     "data": {
      "text/plain": [
       "0.24022643"
      ]
     },
     "execution_count": 20,
     "metadata": {},
     "output_type": "execute_result"
    }
   ],
   "source": [
    "msle = tf.keras.losses.MeanSquaredLogarithmicError()\n",
    "msle(y_true, y_pred).numpy()"
   ]
  },
  {
   "cell_type": "code",
   "execution_count": 41,
   "id": "ada89770",
   "metadata": {},
   "outputs": [
    {
     "name": "stdout",
     "output_type": "stream",
     "text": [
      "1.4341253160944203\n"
     ]
    }
   ],
   "source": [
    "a_loss = loss_val.numpy()[0,0]\n",
    "a_loss = 0.13\n",
    "\n",
    "diff = np.e ** np.sqrt(a_loss)\n",
    "print(diff)"
   ]
  },
  {
   "cell_type": "code",
   "execution_count": 39,
   "id": "2ea504d6",
   "metadata": {},
   "outputs": [
    {
     "data": {
      "text/plain": [
       "0.009082219"
      ]
     },
     "execution_count": 39,
     "metadata": {},
     "output_type": "execute_result"
    }
   ],
   "source": [
    "msle([10000.], [11000.]).numpy()"
   ]
  },
  {
   "cell_type": "markdown",
   "id": "1791f5f5",
   "metadata": {},
   "source": [
    "## Keras"
   ]
  },
  {
   "cell_type": "code",
   "execution_count": 4,
   "id": "55f1abdb",
   "metadata": {},
   "outputs": [
    {
     "name": "stderr",
     "output_type": "stream",
     "text": [
      "2022-12-11 21:07:22.298228: I tensorflow/core/platform/cpu_feature_guard.cc:193] This TensorFlow binary is optimized with oneAPI Deep Neural Network Library (oneDNN) to use the following CPU instructions in performance-critical operations:  AVX2 FMA\n",
      "To enable them in other operations, rebuild TensorFlow with the appropriate compiler flags.\n"
     ]
    }
   ],
   "source": [
    "import tensorflow as tf"
   ]
  },
  {
   "cell_type": "code",
   "execution_count": 5,
   "id": "66d1e832",
   "metadata": {},
   "outputs": [
    {
     "name": "stderr",
     "output_type": "stream",
     "text": [
      "2022-12-11 21:07:27.687850: I tensorflow/core/platform/cpu_feature_guard.cc:193] This TensorFlow binary is optimized with oneAPI Deep Neural Network Library (oneDNN) to use the following CPU instructions in performance-critical operations:  AVX2 FMA\n",
      "To enable them in other operations, rebuild TensorFlow with the appropriate compiler flags.\n"
     ]
    }
   ],
   "source": [
    "x = tf.keras.layers.Input(shape=(2,), dtype=tf.float32)\n",
    "y = x\n",
    "\n",
    "model = tf.keras.models.Model(inputs={'x': x}, outputs={'y': y})"
   ]
  },
  {
   "cell_type": "code",
   "execution_count": 6,
   "id": "e58c61e5",
   "metadata": {},
   "outputs": [
    {
     "data": {
      "text/plain": [
       "[<KerasTensor: shape=(None, 2) dtype=float32 (created by layer 'input_1')>]"
      ]
     },
     "execution_count": 6,
     "metadata": {},
     "output_type": "execute_result"
    }
   ],
   "source": [
    "model.inputs"
   ]
  },
  {
   "cell_type": "code",
   "execution_count": 7,
   "id": "b84c6781",
   "metadata": {},
   "outputs": [
    {
     "data": {
      "text/plain": [
       "{'x': <KerasTensor: shape=(None, 2) dtype=float32 (created by layer 'input_1')>}"
      ]
     },
     "execution_count": 7,
     "metadata": {},
     "output_type": "execute_result"
    }
   ],
   "source": [
    "model.input"
   ]
  },
  {
   "cell_type": "code",
   "execution_count": 11,
   "id": "d5e3d74e",
   "metadata": {},
   "outputs": [
    {
     "data": {
      "text/plain": [
       "tf.float32"
      ]
     },
     "execution_count": 11,
     "metadata": {},
     "output_type": "execute_result"
    }
   ],
   "source": [
    "model.input['x'].dtype"
   ]
  },
  {
   "cell_type": "code",
   "execution_count": 13,
   "id": "9b233b23",
   "metadata": {},
   "outputs": [
    {
     "ename": "AttributeError",
     "evalue": "'TensorShape' object has no attribute 'shape'",
     "output_type": "error",
     "traceback": [
      "\u001b[0;31m---------------------------------------------------------------------------\u001b[0m",
      "\u001b[0;31mAttributeError\u001b[0m                            Traceback (most recent call last)",
      "\u001b[0;32m/var/folders/76/jk5mvn813bv1k_zmymwt5tpm0000gp/T/ipykernel_42057/4233616322.py\u001b[0m in \u001b[0;36m<module>\u001b[0;34m\u001b[0m\n\u001b[0;32m----> 1\u001b[0;31m \u001b[0mmodel\u001b[0m\u001b[0;34m.\u001b[0m\u001b[0minput\u001b[0m\u001b[0;34m[\u001b[0m\u001b[0;34m'x'\u001b[0m\u001b[0;34m]\u001b[0m\u001b[0;34m.\u001b[0m\u001b[0mshape\u001b[0m\u001b[0;34m[\u001b[0m\u001b[0;36m1\u001b[0m\u001b[0;34m:\u001b[0m\u001b[0;34m]\u001b[0m\u001b[0;34m.\u001b[0m\u001b[0mshape\u001b[0m\u001b[0;34m\u001b[0m\u001b[0;34m\u001b[0m\u001b[0m\n\u001b[0m",
      "\u001b[0;31mAttributeError\u001b[0m: 'TensorShape' object has no attribute 'shape'"
     ]
    }
   ],
   "source": [
    "model.input['x'].shape[1:].shape"
   ]
  },
  {
   "cell_type": "code",
   "execution_count": null,
   "id": "6977d903",
   "metadata": {},
   "outputs": [],
   "source": []
  }
 ],
 "metadata": {
  "kernelspec": {
   "display_name": "Python 3 (ipykernel)",
   "language": "python",
   "name": "python3"
  },
  "language_info": {
   "codemirror_mode": {
    "name": "ipython",
    "version": 3
   },
   "file_extension": ".py",
   "mimetype": "text/x-python",
   "name": "python",
   "nbconvert_exporter": "python",
   "pygments_lexer": "ipython3",
   "version": "3.7.7"
  }
 },
 "nbformat": 4,
 "nbformat_minor": 5
}
