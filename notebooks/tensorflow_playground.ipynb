{
 "cells": [
  {
   "cell_type": "code",
   "execution_count": 10,
   "id": "98df558d",
   "metadata": {},
   "outputs": [],
   "source": [
    "import tensorflow as tf\n",
    "import numpy as np"
   ]
  },
  {
   "cell_type": "code",
   "execution_count": 2,
   "id": "5f839ded",
   "metadata": {},
   "outputs": [
    {
     "name": "stderr",
     "output_type": "stream",
     "text": [
      "2022-09-09 20:38:32.737227: I tensorflow/core/platform/cpu_feature_guard.cc:142] This TensorFlow binary is optimized with oneAPI Deep Neural Network Library (oneDNN) to use the following CPU instructions in performance-critical operations:  AVX2 FMA\n",
      "To enable them in other operations, rebuild TensorFlow with the appropriate compiler flags.\n"
     ]
    }
   ],
   "source": [
    "y_true = tf.constant([[0., 1.], [0., 0.]])\n",
    "y_pred = tf.constant([[1., 1.], [1., 0.]])"
   ]
  },
  {
   "cell_type": "code",
   "execution_count": 22,
   "id": "cd06524d",
   "metadata": {},
   "outputs": [
    {
     "name": "stdout",
     "output_type": "stream",
     "text": [
      "tf.Tensor(0.2402265, shape=(), dtype=float32)\n"
     ]
    }
   ],
   "source": [
    "loss_val = (tf.math.log(y_true + 1) - tf.math.log(y_pred + 1)) ** 2\n",
    "print(tf.reduce_sum(loss_val) / 4)"
   ]
  },
  {
   "cell_type": "code",
   "execution_count": 20,
   "id": "5144578b",
   "metadata": {},
   "outputs": [
    {
     "data": {
      "text/plain": [
       "0.24022643"
      ]
     },
     "execution_count": 20,
     "metadata": {},
     "output_type": "execute_result"
    }
   ],
   "source": [
    "msle = tf.keras.losses.MeanSquaredLogarithmicError()\n",
    "msle(y_true, y_pred).numpy()"
   ]
  },
  {
   "cell_type": "code",
   "execution_count": 30,
   "id": "ada89770",
   "metadata": {},
   "outputs": [],
   "source": [
    "a_loss = loss_val.numpy()[0,0]\n",
    "a_loss = 0.2699"
   ]
  },
  {
   "cell_type": "code",
   "execution_count": 31,
   "id": "b9ff4156",
   "metadata": {},
   "outputs": [],
   "source": [
    "diff = np.e ** np.sqrt(a_loss)"
   ]
  },
  {
   "cell_type": "code",
   "execution_count": 32,
   "id": "b9fd49e7",
   "metadata": {},
   "outputs": [
    {
     "data": {
      "text/plain": [
       "1.6812188029243489"
      ]
     },
     "execution_count": 32,
     "metadata": {},
     "output_type": "execute_result"
    }
   ],
   "source": [
    "diff"
   ]
  },
  {
   "cell_type": "code",
   "execution_count": 39,
   "id": "2ea504d6",
   "metadata": {},
   "outputs": [
    {
     "data": {
      "text/plain": [
       "0.009082219"
      ]
     },
     "execution_count": 39,
     "metadata": {},
     "output_type": "execute_result"
    }
   ],
   "source": [
    "msle([10000.], [11000.]).numpy()"
   ]
  },
  {
   "cell_type": "code",
   "execution_count": null,
   "id": "3ae4fe80",
   "metadata": {},
   "outputs": [],
   "source": []
  }
 ],
 "metadata": {
  "kernelspec": {
   "display_name": "Python 3 (ipykernel)",
   "language": "python",
   "name": "python3"
  },
  "language_info": {
   "codemirror_mode": {
    "name": "ipython",
    "version": 3
   },
   "file_extension": ".py",
   "mimetype": "text/x-python",
   "name": "python",
   "nbconvert_exporter": "python",
   "pygments_lexer": "ipython3",
   "version": "3.7.7"
  }
 },
 "nbformat": 4,
 "nbformat_minor": 5
}
