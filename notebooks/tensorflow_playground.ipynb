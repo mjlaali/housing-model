{
 "cells": [
  {
   "cell_type": "code",
   "execution_count": 10,
   "id": "98df558d",
   "metadata": {},
   "outputs": [],
   "source": [
    "import tensorflow as tf\n",
    "import numpy as np"
   ]
  },
  {
   "cell_type": "code",
   "execution_count": 2,
   "id": "5f839ded",
   "metadata": {},
   "outputs": [
    {
     "name": "stderr",
     "output_type": "stream",
     "text": [
      "2022-09-09 20:38:32.737227: I tensorflow/core/platform/cpu_feature_guard.cc:142] This TensorFlow binary is optimized with oneAPI Deep Neural Network Library (oneDNN) to use the following CPU instructions in performance-critical operations:  AVX2 FMA\n",
      "To enable them in other operations, rebuild TensorFlow with the appropriate compiler flags.\n"
     ]
    }
   ],
   "source": [
    "y_true = tf.constant([[0., 1.], [0., 0.]])\n",
    "y_pred = tf.constant([[1., 1.], [1., 0.]])"
   ]
  },
  {
   "cell_type": "code",
   "execution_count": 22,
   "id": "cd06524d",
   "metadata": {},
   "outputs": [
    {
     "name": "stdout",
     "output_type": "stream",
     "text": [
      "tf.Tensor(0.2402265, shape=(), dtype=float32)\n"
     ]
    }
   ],
   "source": [
    "loss_val = (tf.math.log(y_true + 1) - tf.math.log(y_pred + 1)) ** 2\n",
    "print(tf.reduce_sum(loss_val) / 4)"
   ]
  },
  {
   "cell_type": "code",
   "execution_count": 20,
   "id": "5144578b",
   "metadata": {},
   "outputs": [
    {
     "data": {
      "text/plain": [
       "0.24022643"
      ]
     },
     "execution_count": 20,
     "metadata": {},
     "output_type": "execute_result"
    }
   ],
   "source": [
    "msle = tf.keras.losses.MeanSquaredLogarithmicError()\n",
    "msle(y_true, y_pred).numpy()"
   ]
  },
  {
   "cell_type": "code",
   "execution_count": 41,
   "id": "ada89770",
   "metadata": {},
   "outputs": [
    {
     "name": "stdout",
     "output_type": "stream",
     "text": [
      "1.4341253160944203\n"
     ]
    }
   ],
   "source": [
    "a_loss = loss_val.numpy()[0,0]\n",
    "a_loss = 0.13\n",
    "\n",
    "diff = np.e ** np.sqrt(a_loss)\n",
    "print(diff)"
   ]
  },
  {
   "cell_type": "code",
   "execution_count": 39,
   "id": "2ea504d6",
   "metadata": {},
   "outputs": [
    {
     "data": {
      "text/plain": [
       "0.009082219"
      ]
     },
     "execution_count": 39,
     "metadata": {},
     "output_type": "execute_result"
    }
   ],
   "source": [
    "msle([10000.], [11000.]).numpy()"
   ]
  },
  {
   "cell_type": "markdown",
   "id": "1791f5f5",
   "metadata": {},
   "source": [
    "## Keras"
   ]
  },
  {
   "cell_type": "code",
   "execution_count": 1,
   "id": "55f1abdb",
   "metadata": {},
   "outputs": [
    {
     "name": "stderr",
     "output_type": "stream",
     "text": [
      "2022-12-12 22:20:14.562886: I tensorflow/core/platform/cpu_feature_guard.cc:193] This TensorFlow binary is optimized with oneAPI Deep Neural Network Library (oneDNN) to use the following CPU instructions in performance-critical operations:  AVX2 FMA\n",
      "To enable them in other operations, rebuild TensorFlow with the appropriate compiler flags.\n"
     ]
    }
   ],
   "source": [
    "import tensorflow as tf\n",
    "import numpy as np"
   ]
  },
  {
   "cell_type": "code",
   "execution_count": 7,
   "id": "66d1e832",
   "metadata": {},
   "outputs": [],
   "source": [
    "x = tf.keras.layers.Input(shape=(1,), dtype=tf.float32)\n",
    "y1 = tf.keras.layers.Dense(units=1, name='y1')(x)\n",
    "y2 = tf.keras.layers.Dense(units=1, name='y2')(y1)\n",
    "\n",
    "inner_model = tf.keras.models.Model(\n",
    "    inputs={'x': x}, \n",
    "    outputs={'y1': y1, 'y2': y2},\n",
    "    name=\"inner_model\"\n",
    ")"
   ]
  },
  {
   "cell_type": "code",
   "execution_count": 13,
   "id": "e58c61e5",
   "metadata": {},
   "outputs": [],
   "source": [
    "yy = inner_model(inner_model.input)\n",
    "\n",
    "outputs = {name: tf.keras.layers.Lambda(lambda x: x, name=name)(value) for name, value in yy.items()}\n",
    "outer_model = tf.keras.models.Model(\n",
    "    inputs=inner_model.input, \n",
    "    outputs=outputs,\n",
    "    name=\"outer_model\"\n",
    ")"
   ]
  },
  {
   "cell_type": "code",
   "execution_count": 14,
   "id": "d5e3d74e",
   "metadata": {},
   "outputs": [
    {
     "name": "stdout",
     "output_type": "stream",
     "text": [
      "5/5 [==============================] - 1s 3ms/step - loss: 12.4593 - y1_loss: 0.2952 - y2_loss: 12.1641\n"
     ]
    },
    {
     "data": {
      "text/plain": [
       "<keras.callbacks.History at 0x7fd478f80cd0>"
      ]
     },
     "execution_count": 14,
     "metadata": {},
     "output_type": "execute_result"
    }
   ],
   "source": [
    "train_ds = tf.data.Dataset.range(10).map(lambda x: ({'x': x}, {'y1': x+1, 'y2': x+2}))\n",
    "batched = train_ds.batch(batch_size=2)\n",
    "under_test = outer_model\n",
    "under_test.compile(\n",
    "    optimizer=tf.keras.optimizers.Adam(learning_rate=0.01),\n",
    "    loss={'y1': 'mse', 'y2': 'mse'}\n",
    ")\n",
    "under_test.fit(batched)"
   ]
  },
  {
   "cell_type": "code",
   "execution_count": null,
   "id": "e458fb9e",
   "metadata": {},
   "outputs": [],
   "source": []
  }
 ],
 "metadata": {
  "kernelspec": {
   "display_name": "Python 3 (ipykernel)",
   "language": "python",
   "name": "python3"
  },
  "language_info": {
   "codemirror_mode": {
    "name": "ipython",
    "version": 3
   },
   "file_extension": ".py",
   "mimetype": "text/x-python",
   "name": "python",
   "nbconvert_exporter": "python",
   "pygments_lexer": "ipython3",
   "version": "3.7.7"
  }
 },
 "nbformat": 4,
 "nbformat_minor": 5
}
